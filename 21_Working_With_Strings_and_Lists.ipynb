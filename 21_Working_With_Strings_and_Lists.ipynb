{
 "cells": [
  {
   "cell_type": "markdown",
   "metadata": {
    "slideshow": {
     "slide_type": "slide"
    }
   },
   "source": [
    "# Built-In Type Methods\n",
    "\n",
    "All Python objects are **Objects**, which means they have **Properties/Attributes** (data) and **Methods** associated with them.  \n",
    "\n",
    "|  object    | `type(object)`  |  Example Method  |  Example Attribute  | \n",
    "| :----:     | :----------:  |  :------------:  |  :---------------:  |\n",
    "| \"Hello\"    |     str       |     lower()      |                     |\n",
    "|    42      |     int       |    bit_length()  |     numerator       |\n",
    "|   3.14     |    float      |    is_integer()  |     imag            |\n",
    "| ['a', 'b'] |  list         |     append()     |                     |\n",
    "\n",
    "\n",
    "These are accessible via the **. (dot)**, and an object's methods can be browsed in the notebook by typing the **Tab** key after the dot.\n",
    "\n",
    "For example, here we use a **string** **Type**'s *title()* method to capitalize the first letter of each word of the film title:"
   ]
  },
  {
   "cell_type": "code",
   "execution_count": 1,
   "metadata": {
    "slideshow": {
     "slide_type": "subslide"
    }
   },
   "outputs": [
    {
     "data": {
      "text/plain": [
       "'the lion king'"
      ]
     },
     "execution_count": 1,
     "metadata": {},
     "output_type": "execute_result"
    }
   ],
   "source": [
    "film = 'the lion king'\n",
    "film"
   ]
  },
  {
   "cell_type": "code",
   "execution_count": 2,
   "metadata": {},
   "outputs": [
    {
     "data": {
      "text/plain": [
       "str"
      ]
     },
     "execution_count": 2,
     "metadata": {},
     "output_type": "execute_result"
    }
   ],
   "source": [
    "type(film)"
   ]
  },
  {
   "cell_type": "code",
   "execution_count": 3,
   "metadata": {},
   "outputs": [
    {
     "data": {
      "text/plain": [
       "'The Lion King'"
      ]
     },
     "execution_count": 3,
     "metadata": {},
     "output_type": "execute_result"
    }
   ],
   "source": [
    "bigfilm = film.title()\n",
    "bigfilm"
   ]
  },
  {
   "cell_type": "markdown",
   "metadata": {
    "slideshow": {
     "slide_type": "subslide"
    }
   },
   "source": [
    "## Exercises: Strings"
   ]
  },
  {
   "cell_type": "markdown",
   "metadata": {},
   "source": [
    "Use the string methods to modify the following strings to the versions described below."
   ]
  },
  {
   "cell_type": "markdown",
   "metadata": {
    "slideshow": {
     "slide_type": "subslide"
    }
   },
   "source": [
    "### Changing Strings\n",
    "\n",
    "Use the **strip**, **swapcase**, **title**, **lower**, **upper**, and **zfill** methods, or the **\\+** or **\\*** operators, to perform the following modifications:"
   ]
  },
  {
   "cell_type": "markdown",
   "metadata": {
    "slideshow": {
     "slide_type": "fragment"
    }
   },
   "source": [
    "**\"I am angry\"** -> **\"I AM ANGRY\"**"
   ]
  },
  {
   "cell_type": "code",
   "execution_count": 8,
   "metadata": {},
   "outputs": [
    {
     "data": {
      "text/plain": [
       "'I AM ANGRY'"
      ]
     },
     "execution_count": 8,
     "metadata": {},
     "output_type": "execute_result"
    }
   ],
   "source": [
    "film= 'I am angry'\n",
    "film\n",
    "film2 = film.upper()\n",
    "film2"
   ]
  },
  {
   "cell_type": "code",
   "execution_count": 9,
   "metadata": {},
   "outputs": [
    {
     "data": {
      "text/plain": [
       "'I AM ANGRY'"
      ]
     },
     "execution_count": 9,
     "metadata": {},
     "output_type": "execute_result"
    }
   ],
   "source": [
    "\"I am angry\".upper()"
   ]
  },
  {
   "cell_type": "markdown",
   "metadata": {
    "slideshow": {
     "slide_type": "fragment"
    }
   },
   "source": [
    "**\"the lion king\"** -> **\"The Lion King\"**"
   ]
  },
  {
   "cell_type": "code",
   "execution_count": 12,
   "metadata": {},
   "outputs": [
    {
     "data": {
      "text/plain": [
       "'The Lion King'"
      ]
     },
     "execution_count": 12,
     "metadata": {},
     "output_type": "execute_result"
    }
   ],
   "source": [
    "\"the lion king\".title()\n",
    "\n"
   ]
  },
  {
   "cell_type": "markdown",
   "metadata": {
    "slideshow": {
     "slide_type": "fragment"
    }
   },
   "source": [
    "**He said, \"Are you okay?\"** -> **hE SAID, \"aRE YOU OKAY?\"**"
   ]
  },
  {
   "cell_type": "code",
   "execution_count": 13,
   "metadata": {},
   "outputs": [
    {
     "data": {
      "text/plain": [
       "'aRE YOU OKAY?'"
      ]
     },
     "execution_count": 13,
     "metadata": {},
     "output_type": "execute_result"
    }
   ],
   "source": [
    "\"Are you okay?\".swapcase()"
   ]
  },
  {
   "cell_type": "markdown",
   "metadata": {
    "slideshow": {
     "slide_type": "fragment"
    }
   },
   "source": [
    "**three** -> **threethreethree**"
   ]
  },
  {
   "cell_type": "code",
   "execution_count": 15,
   "metadata": {},
   "outputs": [
    {
     "data": {
      "text/plain": [
       "6"
      ]
     },
     "execution_count": 15,
     "metadata": {},
     "output_type": "execute_result"
    }
   ],
   "source": [
    "3 * 2"
   ]
  },
  {
   "cell_type": "code",
   "execution_count": 14,
   "metadata": {},
   "outputs": [
    {
     "data": {
      "text/plain": [
       "'threethreethree'"
      ]
     },
     "execution_count": 14,
     "metadata": {},
     "output_type": "execute_result"
    }
   ],
   "source": [
    "\"three\" * 3"
   ]
  },
  {
   "cell_type": "code",
   "execution_count": 16,
   "metadata": {},
   "outputs": [
    {
     "data": {
      "text/plain": [
       "[1, 2, 3, 1, 2, 3, 1, 2, 3]"
      ]
     },
     "execution_count": 16,
     "metadata": {},
     "output_type": "execute_result"
    }
   ],
   "source": [
    "[1, 2, 3] * 3"
   ]
  },
  {
   "cell_type": "code",
   "execution_count": 20,
   "metadata": {},
   "outputs": [
    {
     "data": {
      "text/plain": [
       "[3, 6, 9]"
      ]
     },
     "execution_count": 20,
     "metadata": {},
     "output_type": "execute_result"
    }
   ],
   "source": [
    "[el * 3 for el in [1, 2, 3]]"
   ]
  },
  {
   "cell_type": "code",
   "execution_count": 21,
   "metadata": {},
   "outputs": [
    {
     "data": {
      "text/plain": [
       "[3, 6, 9]"
      ]
     },
     "execution_count": 21,
     "metadata": {},
     "output_type": "execute_result"
    }
   ],
   "source": [
    "old_list = [1, 2, 3]\n",
    "new_list = []\n",
    "for item in old_list:\n",
    "    new_item = item * 3\n",
    "    new_list.append(new_item)\n",
    "    \n",
    "new_list"
   ]
  },
  {
   "cell_type": "code",
   "execution_count": 22,
   "metadata": {},
   "outputs": [
    {
     "data": {
      "text/plain": [
       "matrix([[3, 6, 9]])"
      ]
     },
     "execution_count": 22,
     "metadata": {},
     "output_type": "execute_result"
    }
   ],
   "source": [
    "import numpy as np\n",
    "np.matrix([1, 2, 3]) * 3"
   ]
  },
  {
   "cell_type": "code",
   "execution_count": 23,
   "metadata": {},
   "outputs": [
    {
     "data": {
      "text/plain": [
       "15"
      ]
     },
     "execution_count": 23,
     "metadata": {},
     "output_type": "execute_result"
    }
   ],
   "source": [
    "sum(range(1, 6))"
   ]
  },
  {
   "cell_type": "code",
   "execution_count": 27,
   "metadata": {},
   "outputs": [
    {
     "data": {
      "text/plain": [
       "array([[ 100,  200,  300,  400],\n",
       "       [ 500,  600,  700,  800],\n",
       "       [ 900, 1000, 1100, 1200]])"
      ]
     },
     "execution_count": 27,
     "metadata": {},
     "output_type": "execute_result"
    }
   ],
   "source": [
    "np.arange(1, 13).reshape(3, 4) * 100"
   ]
  },
  {
   "cell_type": "markdown",
   "metadata": {
    "slideshow": {
     "slide_type": "subslide"
    }
   },
   "source": [
    "### Searching Substrings\n",
    "\n",
    "Use the **replace**, **count**, and **index** methods to search for a substring and answer the following questions using the example sentence below:\n",
    "\n",
    "```python\n",
    "sentence = \"The dog ate my watermelon when we were digging at the beach!\"\n",
    "```"
   ]
  },
  {
   "cell_type": "code",
   "execution_count": 28,
   "metadata": {
    "slideshow": {
     "slide_type": "subslide"
    }
   },
   "outputs": [],
   "source": [
    "sentence = \"The dog ate my watermelon when we were digging at the beach!\""
   ]
  },
  {
   "cell_type": "markdown",
   "metadata": {
    "slideshow": {
     "slide_type": "fragment"
    }
   },
   "source": [
    "How many \"w\" characters are in this sentence?"
   ]
  },
  {
   "cell_type": "code",
   "execution_count": 30,
   "metadata": {},
   "outputs": [
    {
     "data": {
      "text/plain": [
       "3"
      ]
     },
     "execution_count": 30,
     "metadata": {},
     "output_type": "execute_result"
    }
   ],
   "source": [
    "sentence.count('at')"
   ]
  },
  {
   "cell_type": "markdown",
   "metadata": {
    "slideshow": {
     "slide_type": "fragment"
    }
   },
   "source": [
    "What character index does the word \"watermelon\" start on? (the first? The tenth?)"
   ]
  },
  {
   "cell_type": "code",
   "execution_count": 32,
   "metadata": {},
   "outputs": [
    {
     "data": {
      "text/plain": [
       "15"
      ]
     },
     "execution_count": 32,
     "metadata": {},
     "output_type": "execute_result"
    }
   ],
   "source": [
    "idx = sentence.index('watermelon')\n",
    "idx"
   ]
  },
  {
   "cell_type": "code",
   "execution_count": 38,
   "metadata": {},
   "outputs": [
    {
     "data": {
      "text/plain": [
       "'wtreo hnw eedgiga h ec'"
      ]
     },
     "execution_count": 38,
     "metadata": {},
     "output_type": "execute_result"
    }
   ],
   "source": [
    "sentence[idx:-2:2]"
   ]
  },
  {
   "cell_type": "markdown",
   "metadata": {
    "slideshow": {
     "slide_type": "fragment"
    }
   },
   "source": [
    "Replace the word \"dog\" in the sentence with the word \"cat\""
   ]
  },
  {
   "cell_type": "code",
   "execution_count": 40,
   "metadata": {},
   "outputs": [
    {
     "data": {
      "text/plain": [
       "'The cat ate my watermelon when we were digging at the beach!'"
      ]
     },
     "execution_count": 40,
     "metadata": {},
     "output_type": "execute_result"
    }
   ],
   "source": [
    "sentence.replace('dog', 'cat')"
   ]
  },
  {
   "cell_type": "markdown",
   "metadata": {
    "slideshow": {
     "slide_type": "slide"
    }
   },
   "source": [
    "### Formatting Strings\n",
    "\n",
    "The most common method used for strings is the **format()** methods, so it deserves special mention.  It is used to insert data into a string.  It is similar to the **replace()** method but only replaces curly braces **{}**, but it is *way* more powerful.  In fact, there is a whole web page dedicated to showing all the ways you can use it: https://pyformat.info/\n",
    "\n",
    "```python\n",
    "label_fmt = \"Sample {}: Vial {}\"\n",
    "label_fmt.format(3, 4)\n",
    ">> \"Sample 3: Vial 4\"\n",
    "```"
   ]
  },
  {
   "cell_type": "markdown",
   "metadata": {
    "slideshow": {
     "slide_type": "subslide"
    }
   },
   "source": [
    "Using the **format()** method, make the following three sentences out of the original sentence below:"
   ]
  },
  {
   "cell_type": "code",
   "execution_count": 41,
   "metadata": {
    "slideshow": {
     "slide_type": "-"
    }
   },
   "outputs": [],
   "source": [
    "sentence = \"I bought {} dogs.\""
   ]
  },
  {
   "cell_type": "markdown",
   "metadata": {
    "slideshow": {
     "slide_type": "fragment"
    }
   },
   "source": [
    "1. \"I bought 3 dogs.\""
   ]
  },
  {
   "cell_type": "code",
   "execution_count": 52,
   "metadata": {
    "slideshow": {
     "slide_type": "-"
    }
   },
   "outputs": [
    {
     "data": {
      "text/plain": [
       "'I bought -314.159% dogs.'"
      ]
     },
     "execution_count": 52,
     "metadata": {},
     "output_type": "execute_result"
    }
   ],
   "source": [
    "\"I bought {:+.3%} dogs.\".format(-3.141592)"
   ]
  },
  {
   "cell_type": "markdown",
   "metadata": {
    "slideshow": {
     "slide_type": "fragment"
    }
   },
   "source": [
    "2. \"Wendy bought 5 dogs.\""
   ]
  },
  {
   "cell_type": "code",
   "execution_count": 59,
   "metadata": {},
   "outputs": [
    {
     "data": {
      "text/plain": [
       "'I bought dog dogs.'"
      ]
     },
     "execution_count": 59,
     "metadata": {},
     "output_type": "execute_result"
    }
   ],
   "source": [
    "f\"I bought {'dog'} dogs.\""
   ]
  },
  {
   "cell_type": "markdown",
   "metadata": {
    "slideshow": {
     "slide_type": "fragment"
    }
   },
   "source": [
    "3. \"George bought 700 dogs.\""
   ]
  },
  {
   "cell_type": "code",
   "execution_count": null,
   "metadata": {},
   "outputs": [],
   "source": []
  },
  {
   "cell_type": "markdown",
   "metadata": {
    "slideshow": {
     "slide_type": "slide"
    }
   },
   "source": [
    "## Lists\n",
    "\n",
    "Lists represent sequences of data.  They are made with either the square brackets **[]** or the **list()** constructor function.  They can be appended to, just like strings, but they can contain any kind of data--numbers, strings, even other lists.  Their methods mostly revolve around inserting and removing things:\n",
    "\n",
    "| Method   |  What it Does                                  | \n",
    "| :-----:  |  :----------:                                  |\n",
    "| append() | Appends an item to the end of the list.        | \n",
    "| extend() | Appends several items to the end of the list.  | \n",
    "| remove() | Removes an item from the list.                 |\n",
    "| clear()  | Removes everything from the list.              | \n",
    "| copy()   | Returns a copy of the list.                    |\n",
    "| count()  | Removes a specified item from the list         | \n",
    "| sort()   | Sorts the list.                                |\n",
    "| reverse()| Reverses the order of items in the list.       |\n",
    "\n",
    "Nick mentioned X"
   ]
  },
  {
   "cell_type": "markdown",
   "metadata": {
    "slideshow": {
     "slide_type": "subslide"
    }
   },
   "source": [
    "**Example**\n",
    "\n",
    "Here is a list of colors:"
   ]
  },
  {
   "cell_type": "code",
   "execution_count": 65,
   "metadata": {},
   "outputs": [
    {
     "data": {
      "text/plain": [
       "['Red', 'Blue', 'Yello', 'Green']"
      ]
     },
     "execution_count": 65,
     "metadata": {},
     "output_type": "execute_result"
    }
   ],
   "source": [
    "colors = ['Red', 'Blue', 'Yello']\n",
    "colors.append(\"Green\")\n",
    "colors"
   ]
  },
  {
   "cell_type": "markdown",
   "metadata": {
    "slideshow": {
     "slide_type": "-"
    }
   },
   "source": [
    "Let's append the color 'Yellow' to the list:"
   ]
  },
  {
   "cell_type": "code",
   "execution_count": 75,
   "metadata": {},
   "outputs": [
    {
     "data": {
      "text/plain": [
       "['Red',\n",
       " 'Blue',\n",
       " 'Yello',\n",
       " 'Green',\n",
       " 'Yellow',\n",
       " 'Yellow',\n",
       " 'Yellow',\n",
       " 'Yellow',\n",
       " 'Yellow',\n",
       " 'Yellow',\n",
       " 'Yellow',\n",
       " 'Yellow',\n",
       " 'Yellow',\n",
       " 'Yellow']"
      ]
     },
     "execution_count": 75,
     "metadata": {},
     "output_type": "execute_result"
    }
   ],
   "source": [
    "colors.append('Yellow')\n",
    "colors"
   ]
  },
  {
   "cell_type": "markdown",
   "metadata": {
    "slideshow": {
     "slide_type": "-"
    }
   },
   "source": [
    "*Note*: If you run the above code multiple times, 'Yellow' will be appended to the list multiple times!"
   ]
  },
  {
   "cell_type": "markdown",
   "metadata": {
    "slideshow": {
     "slide_type": "subslide"
    }
   },
   "source": [
    "### List Method Exercises"
   ]
  },
  {
   "cell_type": "markdown",
   "metadata": {
    "slideshow": {
     "slide_type": "fragment"
    }
   },
   "source": [
    "1. Make a list of 3 movie titles."
   ]
  },
  {
   "cell_type": "code",
   "execution_count": 76,
   "metadata": {},
   "outputs": [
    {
     "data": {
      "text/plain": [
       "['Harry Potter', 'The Godfather', 'Scarface']"
      ]
     },
     "execution_count": 76,
     "metadata": {},
     "output_type": "execute_result"
    }
   ],
   "source": [
    "films = ['Harry Potter', \"The Godfather\", \"Scarface\"]\n",
    "films"
   ]
  },
  {
   "cell_type": "markdown",
   "metadata": {
    "slideshow": {
     "slide_type": "fragment"
    }
   },
   "source": [
    "2. You have a list of subjects for your experiment, and you want to add another one to that list!  How could you do it?"
   ]
  },
  {
   "cell_type": "code",
   "execution_count": 79,
   "metadata": {},
   "outputs": [
    {
     "data": {
      "text/plain": [
       "['NOP234', 'GHS673', 'JGL212', 'ASF193']"
      ]
     },
     "execution_count": 79,
     "metadata": {},
     "output_type": "execute_result"
    }
   ],
   "source": [
    "subjects = ['NOP234', 'GHS673', 'JGL212']\n",
    "new_subject = 'ASF193'\n",
    "subjects.append(new_subject)\n",
    "subjects"
   ]
  },
  {
   "cell_type": "code",
   "execution_count": 84,
   "metadata": {},
   "outputs": [
    {
     "data": {
      "text/plain": [
       "['NOP234', 'GHS673', 'JGL212', 'ASF193']"
      ]
     },
     "execution_count": 84,
     "metadata": {},
     "output_type": "execute_result"
    }
   ],
   "source": [
    "subjects = ['NOP234', 'GHS673', 'JGL212']\n",
    "new_subject = 'ASF193'\n",
    "new_subjects = subjects + [new_subject]\n",
    "new_subjects"
   ]
  },
  {
   "cell_type": "markdown",
   "metadata": {
    "slideshow": {
     "slide_type": "subslide"
    }
   },
   "source": [
    "3. Now, a bunch of new subjects appeared!  How do you extend/append them to the main list?"
   ]
  },
  {
   "cell_type": "code",
   "execution_count": 89,
   "metadata": {
    "slideshow": {
     "slide_type": "-"
    }
   },
   "outputs": [],
   "source": [
    "subjects = ['NOP234', 'GHS673', 'JGL212']\n",
    "new_subjects = ['ASF193', 'THW994', 'JJZ231']"
   ]
  },
  {
   "cell_type": "code",
   "execution_count": 90,
   "metadata": {},
   "outputs": [
    {
     "data": {
      "text/plain": [
       "['NOP234', 'GHS673', 'JGL212', 'ASF193', 'THW994', 'JJZ231']"
      ]
     },
     "execution_count": 90,
     "metadata": {},
     "output_type": "execute_result"
    }
   ],
   "source": [
    "subjects.extend(new_subjects)\n",
    "subjects"
   ]
  },
  {
   "cell_type": "markdown",
   "metadata": {
    "slideshow": {
     "slide_type": "fragment"
    }
   },
   "source": [
    "4. Please sort those subjects alphabetically.  It looks better that way, doesn't it?"
   ]
  },
  {
   "cell_type": "code",
   "execution_count": 95,
   "metadata": {},
   "outputs": [],
   "source": [
    "subjects = ['NOP234', 'GHS673', 'jGL212', 'ASF193', 'THW994', 'JJZ231']\n",
    "subjects.sort()\n"
   ]
  },
  {
   "cell_type": "code",
   "execution_count": 96,
   "metadata": {},
   "outputs": [
    {
     "data": {
      "text/plain": [
       "['ASF193', 'GHS673', 'JJZ231', 'NOP234', 'THW994', 'jGL212']"
      ]
     },
     "execution_count": 96,
     "metadata": {},
     "output_type": "execute_result"
    }
   ],
   "source": [
    "subjects"
   ]
  },
  {
   "cell_type": "markdown",
   "metadata": {
    "slideshow": {
     "slide_type": "subslide"
    }
   },
   "source": [
    "5. Oh, no, 'JGL202' was a terrible subject, he intentionally ruined your study.  Well, there's no way you're keeping him.  How do you remove him from the list?"
   ]
  },
  {
   "cell_type": "code",
   "execution_count": 97,
   "metadata": {},
   "outputs": [
    {
     "data": {
      "text/plain": [
       "['NOP234', 'GHS673', 'ASF193', 'THW994', 'JJZ231']"
      ]
     },
     "execution_count": 97,
     "metadata": {},
     "output_type": "execute_result"
    }
   ],
   "source": [
    "subjects = ['NOP234', 'GHS673', 'JGL212', 'ASF193', 'THW994', 'JJZ231']\n",
    "subjects.remove(\"JGL212\")\n",
    "subjects"
   ]
  },
  {
   "cell_type": "markdown",
   "metadata": {
    "slideshow": {
     "slide_type": "slide"
    }
   },
   "source": [
    "## Further Learning Resources"
   ]
  },
  {
   "cell_type": "markdown",
   "metadata": {},
   "source": [
    "  - Official Documentation on String Methods: https://docs.python.org/3/library/stdtypes.html#string-methods\n",
    "  \n",
    "  - Online Tutorial on Python Strings: https://realpython.com/python-strings/\n",
    "  \n",
    "  - Official Documentation on List Methods: https://docs.python.org/3/library/stdtypes.html#lists\n",
    "  \n",
    "  - Online Tutorial on Python Lists: https://realpython.com/python-lists-tuples/\n",
    "  \n",
    "  "
   ]
  },
  {
   "cell_type": "markdown",
   "metadata": {
    "slideshow": {
     "slide_type": "slide"
    }
   },
   "source": [
    "## Extra Exercises\n",
    "\n",
    "If you'd like to do some more, here they are!\n",
    "\n",
    "\n",
    "1. You want to label your figure title with the subject code, and the subject code changes depending on which subject is being shown!  How could you stick a subject's name in your title string?"
   ]
  },
  {
   "cell_type": "code",
   "execution_count": 4,
   "metadata": {},
   "outputs": [],
   "source": [
    "subject = 'NOP234'\n",
    "title = \"Mean Values of SUBJECT NAME's data over Time\""
   ]
  },
  {
   "cell_type": "code",
   "execution_count": null,
   "metadata": {},
   "outputs": [],
   "source": []
  },
  {
   "cell_type": "markdown",
   "metadata": {},
   "source": [
    "2. If you had formatted your title string in the following way, though, another string method would be more useful.  Which method would you use for this title:"
   ]
  },
  {
   "cell_type": "code",
   "execution_count": 3,
   "metadata": {},
   "outputs": [],
   "source": [
    "subject1 = 'NOP234'\n",
    "subject2 = 'GHS673'\n",
    "title = \"Performance Comparison between Subjects {} and {}\""
   ]
  },
  {
   "cell_type": "code",
   "execution_count": null,
   "metadata": {},
   "outputs": [],
   "source": []
  },
  {
   "cell_type": "markdown",
   "metadata": {},
   "source": [
    "3. The conference says it only takes abstracts that have a maximum word count of 100 words.  Did our abstract make the cut?  \n",
    "\n",
    "*Hint: the len() function is useful here*"
   ]
  },
  {
   "cell_type": "code",
   "execution_count": null,
   "metadata": {},
   "outputs": [],
   "source": [
    "min, sum, max, len"
   ]
  },
  {
   "cell_type": "code",
   "execution_count": 100,
   "metadata": {},
   "outputs": [
    {
     "data": {
      "text/plain": [
       "'We analyze the locomotor behavior of the rat during exploration, and show that digitally collected data (time series of positions) provide a sufftcient basis for establishing that the rat uses several distinct modes of motion (first, second, third, and sometimes fourth gear). The distinction between these modes is obtained by first segmenting the time series into sequences of data points occurring between arrests (as ascertained within the resolution of the data acquisition system). The statistical distribution of the maximal amount of motion occurring within each of these episodes is then analyzed and shown to be multi modal. This enables us to decompose motion into distinct modes.'"
      ]
     },
     "execution_count": 100,
     "metadata": {},
     "output_type": "execute_result"
    }
   ],
   "source": [
    "abstract = \"\"\"We analyze the locomotor behavior of the rat during exploration, and show that digitally collected data (time series of positions) provide a sufftcient basis for establishing that the rat uses several distinct modes of motion (first, second, third, and sometimes fourth gear). The distinction between these modes is obtained by first segmenting the time series into sequences of data points occurring between arrests (as ascertained within the resolution of the data acquisition system). The statistical distribution of the maximal amount of motion occurring within each of these episodes is then analyzed and shown to be multi modal. This enables us to decompose motion into distinct modes.\"\"\"\n",
    "abstract"
   ]
  },
  {
   "cell_type": "code",
   "execution_count": 106,
   "metadata": {
    "collapsed": true,
    "jupyter": {
     "outputs_hidden": true
    },
    "tags": []
   },
   "outputs": [
    {
     "name": "stdout",
     "output_type": "stream",
     "text": [
      "['We', 'analyze', 'the', 'locomotor', 'behavior', 'of', 'the', 'rat', 'during', 'exploration,', 'and', 'show', 'that', 'digitally', 'collected', 'data', '(time', 'series', 'of', 'positions)', 'provide', 'a', 'sufftcient', 'basis', 'for', 'establishing', 'that', 'the', 'rat', 'uses', 'several', 'distinct', 'modes', 'of', 'motion', '(first,', 'second,', 'third,', 'and', 'sometimes', 'fourth', 'gear).', 'The', 'distinction', 'between', 'these', 'modes', 'is', 'obtained', 'by', 'first', 'segmenting', 'the', 'time', 'series', 'into', 'sequences', 'of', 'data', 'points', 'occurring', 'between', 'arrests', '(as', 'ascertained', 'within', 'the', 'resolution', 'of', 'the', 'data', 'acquisition', 'system).', 'The', 'statistical', 'distribution', 'of', 'the', 'maximal', 'amount', 'of', 'motion', 'occurring', 'within', 'each', 'of', 'these', 'episodes', 'is', 'then', 'analyzed', 'and', 'shown', 'to', 'be', 'multi', 'modal.', 'This', 'enables', 'us', 'to', 'decompose', 'motion', 'into', 'distinct', 'modes.']\n"
     ]
    }
   ],
   "source": [
    "words = abstract.split(\" \")\n",
    "print(words)"
   ]
  },
  {
   "cell_type": "code",
   "execution_count": 104,
   "metadata": {},
   "outputs": [
    {
     "data": {
      "text/plain": [
       "106"
      ]
     },
     "execution_count": 104,
     "metadata": {},
     "output_type": "execute_result"
    }
   ],
   "source": [
    "len(words)"
   ]
  },
  {
   "cell_type": "markdown",
   "metadata": {},
   "source": [
    "Oh, wait, now that I look closer, it actually says that it's a maximum of 100 **unique** words--duplicated words don't count.  How many unique words do we have in our abstract?  (What a strange conference...)\n",
    "\n",
    "\n",
    "*Hint: Try this out with the **set()** class.*"
   ]
  },
  {
   "cell_type": "code",
   "execution_count": null,
   "metadata": {},
   "outputs": [],
   "source": []
  }
 ],
 "metadata": {
  "kernelspec": {
   "display_name": "Python 3",
   "language": "python",
   "name": "python3"
  },
  "language_info": {
   "codemirror_mode": {
    "name": "ipython",
    "version": 3
   },
   "file_extension": ".py",
   "mimetype": "text/x-python",
   "name": "python",
   "nbconvert_exporter": "python",
   "pygments_lexer": "ipython3",
   "version": "3.8.3"
  }
 },
 "nbformat": 4,
 "nbformat_minor": 4
}
