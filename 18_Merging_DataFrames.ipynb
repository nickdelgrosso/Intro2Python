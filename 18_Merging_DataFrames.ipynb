{
 "cells": [
  {
   "cell_type": "code",
   "execution_count": 7,
   "id": "subject-howard",
   "metadata": {},
   "outputs": [],
   "source": [
    "import numpy as np\n",
    "import pandas as pd"
   ]
  },
  {
   "cell_type": "markdown",
   "id": "graphic-incentive",
   "metadata": {},
   "source": [
    "## Concatenation / Appends\n",
    "\n",
    "The `pd.concat()` fucntion and `DataFrame.append()` method takes DataFrames with identical columns and makes a DataFrame that is **taller** than either of them by stacking them on top of each other.\n",
    "\n",
    "For example, it can turn this `df1` DataFrame:\n",
    "\n",
    "| Day | Weather |\n",
    "| :-: | :---:   |\n",
    "| Monday | Sunny   |\n",
    "| Tuesday | Rainy |\n",
    "\n",
    "and this `df2` DataFrame:\n",
    "\n",
    "| Day | Weather |\n",
    "| :-: | :---:   |\n",
    "| Wednesday | Sunny   |\n",
    "| Thursday | Rainy |\n",
    "\n",
    "into this:\n",
    "\n",
    "| Day | Weather |\n",
    "| :-: | :---:   |\n",
    "| Monday | Sunny   |\n",
    "| Tuesday | Rainy |\n",
    "| Wednesday | Sunny   |\n",
    "| Thursday | Rainy |\n",
    "\n",
    "\n",
    "with one line of code:\n",
    "\n",
    "```python\n",
    "pd.concat([df1, df2])\n",
    "```\n",
    "\n",
    "**Note:** If you'd like pandas to ignore the index of the dataframes when appending them, the following option is helpful:\n",
    "\n",
    "```python\n",
    "pd.concat([df1, df2], ignore_index=True)\n",
    "```\n",
    "\n",
    "**Note:** With the `pd.concat()` function, you can concatenate as many dataframes in one step as you want!"
   ]
  },
  {
   "cell_type": "markdown",
   "id": "general-wallace",
   "metadata": {},
   "source": [
    "#### Exercise\n",
    "\n",
    "Let's practice concatenating DataFrames with the `pd.concat` function:"
   ]
  },
  {
   "cell_type": "code",
   "execution_count": 23,
   "id": "worst-punishment",
   "metadata": {},
   "outputs": [
    {
     "data": {
      "text/html": [
       "<div>\n",
       "<style scoped>\n",
       "    .dataframe tbody tr th:only-of-type {\n",
       "        vertical-align: middle;\n",
       "    }\n",
       "\n",
       "    .dataframe tbody tr th {\n",
       "        vertical-align: top;\n",
       "    }\n",
       "\n",
       "    .dataframe thead th {\n",
       "        text-align: right;\n",
       "    }\n",
       "</style>\n",
       "<table border=\"1\" class=\"dataframe\">\n",
       "  <thead>\n",
       "    <tr style=\"text-align: right;\">\n",
       "      <th></th>\n",
       "      <th>Name</th>\n",
       "      <th>Age</th>\n",
       "    </tr>\n",
       "  </thead>\n",
       "  <tbody>\n",
       "    <tr>\n",
       "      <th>0</th>\n",
       "      <td>Jackson</td>\n",
       "      <td>16</td>\n",
       "    </tr>\n",
       "    <tr>\n",
       "      <th>1</th>\n",
       "      <td>Josh</td>\n",
       "      <td>19</td>\n",
       "    </tr>\n",
       "    <tr>\n",
       "      <th>2</th>\n",
       "      <td>Jenny</td>\n",
       "      <td>17</td>\n",
       "    </tr>\n",
       "  </tbody>\n",
       "</table>\n",
       "</div>"
      ],
      "text/plain": [
       "      Name  Age\n",
       "0  Jackson   16\n",
       "1     Josh   19\n",
       "2    Jenny   17"
      ]
     },
     "execution_count": 23,
     "metadata": {},
     "output_type": "execute_result"
    }
   ],
   "source": [
    "df1 = pd.DataFrame({'Name': ['Jackson', 'Josh', 'Jenny'], 'Age': [16, 19, 17]})\n",
    "df1"
   ]
  },
  {
   "cell_type": "code",
   "execution_count": 28,
   "id": "charged-scanning",
   "metadata": {},
   "outputs": [
    {
     "data": {
      "text/html": [
       "<div>\n",
       "<style scoped>\n",
       "    .dataframe tbody tr th:only-of-type {\n",
       "        vertical-align: middle;\n",
       "    }\n",
       "\n",
       "    .dataframe tbody tr th {\n",
       "        vertical-align: top;\n",
       "    }\n",
       "\n",
       "    .dataframe thead th {\n",
       "        text-align: right;\n",
       "    }\n",
       "</style>\n",
       "<table border=\"1\" class=\"dataframe\">\n",
       "  <thead>\n",
       "    <tr style=\"text-align: right;\">\n",
       "      <th></th>\n",
       "      <th>Name</th>\n",
       "      <th>Age</th>\n",
       "    </tr>\n",
       "  </thead>\n",
       "  <tbody>\n",
       "    <tr>\n",
       "      <th>3</th>\n",
       "      <td>Jess</td>\n",
       "      <td>21</td>\n",
       "    </tr>\n",
       "    <tr>\n",
       "      <th>4</th>\n",
       "      <td>Jon</td>\n",
       "      <td>16</td>\n",
       "    </tr>\n",
       "    <tr>\n",
       "      <th>5</th>\n",
       "      <td>Joe</td>\n",
       "      <td>23</td>\n",
       "    </tr>\n",
       "  </tbody>\n",
       "</table>\n",
       "</div>"
      ],
      "text/plain": [
       "   Name  Age\n",
       "3  Jess   21\n",
       "4   Jon   16\n",
       "5   Joe   23"
      ]
     },
     "execution_count": 28,
     "metadata": {},
     "output_type": "execute_result"
    }
   ],
   "source": [
    "df2 = pd.DataFrame({'Name': ['Jess', 'Jon', 'Joe'], 'Age': [21, 16, 23]}, index=[3, 4, 5])\n",
    "df2"
   ]
  },
  {
   "cell_type": "code",
   "execution_count": 36,
   "id": "occupational-montreal",
   "metadata": {},
   "outputs": [
    {
     "data": {
      "text/html": [
       "<div>\n",
       "<style scoped>\n",
       "    .dataframe tbody tr th:only-of-type {\n",
       "        vertical-align: middle;\n",
       "    }\n",
       "\n",
       "    .dataframe tbody tr th {\n",
       "        vertical-align: top;\n",
       "    }\n",
       "\n",
       "    .dataframe thead th {\n",
       "        text-align: right;\n",
       "    }\n",
       "</style>\n",
       "<table border=\"1\" class=\"dataframe\">\n",
       "  <thead>\n",
       "    <tr style=\"text-align: right;\">\n",
       "      <th></th>\n",
       "      <th>Name</th>\n",
       "      <th>Age</th>\n",
       "    </tr>\n",
       "  </thead>\n",
       "  <tbody>\n",
       "    <tr>\n",
       "      <th>0</th>\n",
       "      <td>Jill</td>\n",
       "      <td>5</td>\n",
       "    </tr>\n",
       "    <tr>\n",
       "      <th>1</th>\n",
       "      <td>Josephine</td>\n",
       "      <td>10</td>\n",
       "    </tr>\n",
       "    <tr>\n",
       "      <th>2</th>\n",
       "      <td>Jack</td>\n",
       "      <td>61</td>\n",
       "    </tr>\n",
       "  </tbody>\n",
       "</table>\n",
       "</div>"
      ],
      "text/plain": [
       "        Name  Age\n",
       "0       Jill    5\n",
       "1  Josephine   10\n",
       "2       Jack   61"
      ]
     },
     "execution_count": 36,
     "metadata": {},
     "output_type": "execute_result"
    }
   ],
   "source": [
    "df3 = pd.DataFrame({'Name': ['Jill', 'Josephine', 'Jack'], 'Age': [5, 10, 61]})\n",
    "df3"
   ]
  },
  {
   "cell_type": "markdown",
   "id": "peaceful-particle",
   "metadata": {},
   "source": [
    "Concatenate df1 and df2 together!"
   ]
  },
  {
   "cell_type": "code",
   "execution_count": null,
   "id": "elegant-harassment",
   "metadata": {},
   "outputs": [],
   "source": []
  },
  {
   "cell_type": "markdown",
   "id": "provincial-proceeding",
   "metadata": {},
   "source": [
    "Concatenate df2 and df3 together!"
   ]
  },
  {
   "cell_type": "code",
   "execution_count": null,
   "id": "scheduled-romance",
   "metadata": {},
   "outputs": [],
   "source": []
  },
  {
   "cell_type": "markdown",
   "id": "loaded-cedar",
   "metadata": {},
   "source": [
    "Concatenate all three dataframes"
   ]
  },
  {
   "cell_type": "code",
   "execution_count": null,
   "id": "greenhouse-cattle",
   "metadata": {},
   "outputs": [],
   "source": []
  },
  {
   "cell_type": "markdown",
   "id": "unavailable-tower",
   "metadata": {},
   "source": [
    "## Merge / Joins\n",
    "The `pd.merge()` function and `DataFrame.join()` method take two DataFrames and make them **wider** by matching rows with the same-values on a specified column.  \n",
    "\n",
    "For example, it can turn this `df1` DataFrame:\n",
    "\n",
    "| Day | Weather |\n",
    "| :-: | :---:   |\n",
    "| Monday | Sunny   |\n",
    "| Tuesday | Rainy |\n",
    "\n",
    "and this `df2` DataFrame:\n",
    "\n",
    "| Day | Temperature |\n",
    "| :-: | :---:   |\n",
    "| Tuesday | 12   |\n",
    "| Monday | 18 |\n",
    "\n",
    "into this:\n",
    "\n",
    "| Day | Weather | Temperature |\n",
    "| :-: | :---:   | :---: |\n",
    "| Monday | Sunny   | 18 |\n",
    "| Tuesday | Rainy | 12 |\n",
    "\n",
    "with one line of code:\n",
    "\n",
    "```python\n",
    "df_merged = pd.merge(left=df1, right=df2, left_on=\"Day\", right_on=\"Day\")\n",
    "```\n",
    "\n",
    "Just specify which columns should be matched up with each other, and it will search for the matching values automatically!  If you want it to use the index, you can alternatively supply the option `left_index=True` and/or `right_index=True`. "
   ]
  },
  {
   "cell_type": "markdown",
   "id": "desirable-gabriel",
   "metadata": {},
   "source": [
    "### Exercises\n",
    "\n",
    "Let's practice merging dataframes with the `pd.merge()` function."
   ]
  },
  {
   "cell_type": "markdown",
   "id": "recreational-layer",
   "metadata": {},
   "source": [
    "Dataframe 1:"
   ]
  },
  {
   "cell_type": "code",
   "execution_count": 12,
   "id": "irish-wireless",
   "metadata": {},
   "outputs": [
    {
     "data": {
      "text/html": [
       "<div>\n",
       "<style scoped>\n",
       "    .dataframe tbody tr th:only-of-type {\n",
       "        vertical-align: middle;\n",
       "    }\n",
       "\n",
       "    .dataframe tbody tr th {\n",
       "        vertical-align: top;\n",
       "    }\n",
       "\n",
       "    .dataframe thead th {\n",
       "        text-align: right;\n",
       "    }\n",
       "</style>\n",
       "<table border=\"1\" class=\"dataframe\">\n",
       "  <thead>\n",
       "    <tr style=\"text-align: right;\">\n",
       "      <th></th>\n",
       "      <th>Name</th>\n",
       "      <th>Age</th>\n",
       "    </tr>\n",
       "  </thead>\n",
       "  <tbody>\n",
       "    <tr>\n",
       "      <th>0</th>\n",
       "      <td>Paul</td>\n",
       "      <td>16</td>\n",
       "    </tr>\n",
       "    <tr>\n",
       "      <th>1</th>\n",
       "      <td>Arash</td>\n",
       "      <td>19</td>\n",
       "    </tr>\n",
       "    <tr>\n",
       "      <th>2</th>\n",
       "      <td>Jenny</td>\n",
       "      <td>17</td>\n",
       "    </tr>\n",
       "  </tbody>\n",
       "</table>\n",
       "</div>"
      ],
      "text/plain": [
       "    Name  Age\n",
       "0   Paul   16\n",
       "1  Arash   19\n",
       "2  Jenny   17"
      ]
     },
     "execution_count": 12,
     "metadata": {},
     "output_type": "execute_result"
    }
   ],
   "source": [
    "df1 = pd.DataFrame({'Name': ['Paul', 'Arash', 'Jenny'], 'Age': [16, 19, 17]})\n",
    "df1"
   ]
  },
  {
   "cell_type": "markdown",
   "id": "worth-native",
   "metadata": {},
   "source": [
    "Dataframe 2:"
   ]
  },
  {
   "cell_type": "code",
   "execution_count": 13,
   "id": "dress-carbon",
   "metadata": {},
   "outputs": [
    {
     "data": {
      "text/html": [
       "<div>\n",
       "<style scoped>\n",
       "    .dataframe tbody tr th:only-of-type {\n",
       "        vertical-align: middle;\n",
       "    }\n",
       "\n",
       "    .dataframe tbody tr th {\n",
       "        vertical-align: top;\n",
       "    }\n",
       "\n",
       "    .dataframe thead th {\n",
       "        text-align: right;\n",
       "    }\n",
       "</style>\n",
       "<table border=\"1\" class=\"dataframe\">\n",
       "  <thead>\n",
       "    <tr style=\"text-align: right;\">\n",
       "      <th></th>\n",
       "      <th>Name</th>\n",
       "      <th>Weight</th>\n",
       "    </tr>\n",
       "  </thead>\n",
       "  <tbody>\n",
       "    <tr>\n",
       "      <th>0</th>\n",
       "      <td>Arash</td>\n",
       "      <td>32</td>\n",
       "    </tr>\n",
       "    <tr>\n",
       "      <th>1</th>\n",
       "      <td>Paul</td>\n",
       "      <td>15</td>\n",
       "    </tr>\n",
       "    <tr>\n",
       "      <th>2</th>\n",
       "      <td>Sara</td>\n",
       "      <td>37</td>\n",
       "    </tr>\n",
       "  </tbody>\n",
       "</table>\n",
       "</div>"
      ],
      "text/plain": [
       "    Name  Weight\n",
       "0  Arash      32\n",
       "1   Paul      15\n",
       "2   Sara      37"
      ]
     },
     "execution_count": 13,
     "metadata": {},
     "output_type": "execute_result"
    }
   ],
   "source": [
    "df2 = pd.DataFrame({'Name': ['Arash', 'Paul', 'Sara'], 'Weight': [32, 15, 37]})\n",
    "df2"
   ]
  },
  {
   "cell_type": "markdown",
   "id": "infinite-wiring",
   "metadata": {},
   "source": [
    "Dataframe 3:"
   ]
  },
  {
   "cell_type": "code",
   "execution_count": 19,
   "id": "southern-decline",
   "metadata": {},
   "outputs": [
    {
     "data": {
      "text/html": [
       "<div>\n",
       "<style scoped>\n",
       "    .dataframe tbody tr th:only-of-type {\n",
       "        vertical-align: middle;\n",
       "    }\n",
       "\n",
       "    .dataframe tbody tr th {\n",
       "        vertical-align: top;\n",
       "    }\n",
       "\n",
       "    .dataframe thead th {\n",
       "        text-align: right;\n",
       "    }\n",
       "</style>\n",
       "<table border=\"1\" class=\"dataframe\">\n",
       "  <thead>\n",
       "    <tr style=\"text-align: right;\">\n",
       "      <th></th>\n",
       "      <th>Name</th>\n",
       "      <th>Height</th>\n",
       "    </tr>\n",
       "  </thead>\n",
       "  <tbody>\n",
       "    <tr>\n",
       "      <th>0</th>\n",
       "      <td>Amy</td>\n",
       "      <td>170</td>\n",
       "    </tr>\n",
       "    <tr>\n",
       "      <th>1</th>\n",
       "      <td>Paul</td>\n",
       "      <td>190</td>\n",
       "    </tr>\n",
       "    <tr>\n",
       "      <th>2</th>\n",
       "      <td>Sara</td>\n",
       "      <td>143</td>\n",
       "    </tr>\n",
       "  </tbody>\n",
       "</table>\n",
       "</div>"
      ],
      "text/plain": [
       "   Name  Height\n",
       "0   Amy     170\n",
       "1  Paul     190\n",
       "2  Sara     143"
      ]
     },
     "execution_count": 19,
     "metadata": {},
     "output_type": "execute_result"
    }
   ],
   "source": [
    "df3 = pd.DataFrame({'Name': ['Amy', 'Paul', 'Sara'], 'Height': [170, 190, 143]})\n",
    "df3"
   ]
  },
  {
   "cell_type": "markdown",
   "id": "editorial-integral",
   "metadata": {},
   "source": [
    "Merge them together.  Who do we know both the name and weight of?"
   ]
  },
  {
   "cell_type": "code",
   "execution_count": null,
   "id": "aging-blood",
   "metadata": {},
   "outputs": [],
   "source": []
  },
  {
   "cell_type": "markdown",
   "id": "victorian-christianity",
   "metadata": {},
   "source": [
    "Who do we know both the weight and height of?"
   ]
  },
  {
   "cell_type": "code",
   "execution_count": null,
   "id": "experimental-grenada",
   "metadata": {},
   "outputs": [],
   "source": []
  },
  {
   "cell_type": "markdown",
   "id": "electrical-charity",
   "metadata": {},
   "source": [
    "Try merging all 3 by merging twice.  Who do we know everything about?"
   ]
  },
  {
   "cell_type": "code",
   "execution_count": null,
   "id": "through-natural",
   "metadata": {},
   "outputs": [],
   "source": []
  },
  {
   "cell_type": "markdown",
   "id": "proof-experience",
   "metadata": {},
   "source": [
    "Note that the Names that weren't present in both dataframes dropped out of the final result.  If you'd like to keep them and have NaNs appear, you can change the `how` parameter in the `pd.merge()` function.  Let's try out a few options by merging dataframes 1 and 2:"
   ]
  },
  {
   "cell_type": "markdown",
   "id": "cellular-veteran",
   "metadata": {},
   "source": [
    "`how=\"outer\"`"
   ]
  },
  {
   "cell_type": "code",
   "execution_count": null,
   "id": "behind-arkansas",
   "metadata": {},
   "outputs": [],
   "source": []
  },
  {
   "cell_type": "markdown",
   "id": "pleasant-radio",
   "metadata": {},
   "source": [
    "`how=\"left\"`"
   ]
  },
  {
   "cell_type": "code",
   "execution_count": null,
   "id": "exterior-intelligence",
   "metadata": {},
   "outputs": [],
   "source": []
  },
  {
   "cell_type": "markdown",
   "id": "fourth-samuel",
   "metadata": {},
   "source": [
    "`how=\"right\"`"
   ]
  },
  {
   "cell_type": "code",
   "execution_count": null,
   "id": "matched-horror",
   "metadata": {},
   "outputs": [],
   "source": []
  },
  {
   "cell_type": "markdown",
   "id": "emerging-uniform",
   "metadata": {},
   "source": [
    "`how=\"inner\"`"
   ]
  },
  {
   "cell_type": "code",
   "execution_count": null,
   "id": "mobile-violin",
   "metadata": {},
   "outputs": [],
   "source": []
  },
  {
   "cell_type": "markdown",
   "id": "iraqi-hammer",
   "metadata": {},
   "source": []
  },
  {
   "cell_type": "markdown",
   "id": "prompt-barbados",
   "metadata": {},
   "source": [
    "## Melts\n",
    "\n",
    "The `pd.melt()` function and `DataFrame.melt()` method take a single dataframe and make it **taller** by taking data stored in column names and putting it into the rows along with the rest of the data, adding extra metadata in the process.\n",
    "\n",
    "For example, it can turn this `df` DataFrame:\n",
    "\n",
    "| Month | Year | Monday | Tuesday | Wednesday |\n",
    "| :--:  | :--: | :--:   | :--:    | :--:      |\n",
    "| January | 2021 | 0 | -2 | -1 |\n",
    "| February | 2021 | 2 | 4 | -2 |\n",
    "\n",
    "into this:\n",
    "\n",
    "| Month | Year | Weekday | Temperature |\n",
    "| :--:  | :--: | :--:    |  :--:       |\n",
    "| January | 2021 | Monday | 0 |\n",
    "| January | 2021 | Tuesday | -2 |\n",
    "| January | 2021 | Wednesday | -1 |\n",
    "| February | 2021 | Monday | 2 |\n",
    "| February | 2021 | Tuesday | 4 | \n",
    "| February | 2021 | Wednesday | -2 |\n",
    "\n",
    "with one line of code:\n",
    "\n",
    "```python\n",
    "pd.melt(\n",
    "    df, \n",
    "    id_vars=['Month', 'Year'],  # The columns that should stay the same\n",
    "    value_vars=['Monday', 'Tuesday', 'Wednesday'],   # The columns that should melt\n",
    "    var_name='Weekday',  # The new Column that will represent the melted column name's variable\n",
    "    value_name='Temperature'  # The new Column that the data represents\n",
    ")\n",
    "```\n",
    "\n",
    "**Note**: Melting a dataframe also called *\"tidying\"* data, making a *\"long\"* dataframe from a *\"wide\"* dataframe, or building a *design matrix*"
   ]
  },
  {
   "cell_type": "markdown",
   "id": "resistant-listing",
   "metadata": {},
   "source": [
    "#### Exercises\n",
    "\n",
    "Let's practice tidying dataframes with the `pd.melt()` function"
   ]
  },
  {
   "cell_type": "code",
   "execution_count": 32,
   "id": "recovered-trade",
   "metadata": {},
   "outputs": [
    {
     "data": {
      "text/html": [
       "<div>\n",
       "<style scoped>\n",
       "    .dataframe tbody tr th:only-of-type {\n",
       "        vertical-align: middle;\n",
       "    }\n",
       "\n",
       "    .dataframe tbody tr th {\n",
       "        vertical-align: top;\n",
       "    }\n",
       "\n",
       "    .dataframe thead th {\n",
       "        text-align: right;\n",
       "    }\n",
       "</style>\n",
       "<table border=\"1\" class=\"dataframe\">\n",
       "  <thead>\n",
       "    <tr style=\"text-align: right;\">\n",
       "      <th></th>\n",
       "      <th>Gene</th>\n",
       "      <th>Intensity_1</th>\n",
       "      <th>Intensity_2</th>\n",
       "      <th>Abundance_1</th>\n",
       "      <th>Abundance_2</th>\n",
       "    </tr>\n",
       "  </thead>\n",
       "  <tbody>\n",
       "    <tr>\n",
       "      <th>0</th>\n",
       "      <td>CAPZB</td>\n",
       "      <td>200</td>\n",
       "      <td>250</td>\n",
       "      <td>5.2</td>\n",
       "      <td>5.2</td>\n",
       "    </tr>\n",
       "    <tr>\n",
       "      <th>1</th>\n",
       "      <td>PRDX6</td>\n",
       "      <td>220</td>\n",
       "      <td>160</td>\n",
       "      <td>2.8</td>\n",
       "      <td>4.6</td>\n",
       "    </tr>\n",
       "  </tbody>\n",
       "</table>\n",
       "</div>"
      ],
      "text/plain": [
       "    Gene  Intensity_1  Intensity_2  Abundance_1  Abundance_2\n",
       "0  CAPZB          200          250          5.2          5.2\n",
       "1  PRDX6          220          160          2.8          4.6"
      ]
     },
     "execution_count": 32,
     "metadata": {},
     "output_type": "execute_result"
    }
   ],
   "source": [
    "df = pd.DataFrame({\n",
    "    'Gene': [\"CAPZB\", \"PRDX6\"],\n",
    "    'Intensity_1': [200, 220],\n",
    "    'Intensity_2': [250, 160],\n",
    "    'Abundance_1': [5.2, 2.8],\n",
    "    'Abundance_2': [5.2, 4.6],\n",
    "})\n",
    "df"
   ]
  },
  {
   "cell_type": "markdown",
   "id": "unnecessary-montgomery",
   "metadata": {},
   "source": [
    "Melt the \"Intensity_X\" columns into two new columns: \"Intensity\" and \"SessionNum\""
   ]
  },
  {
   "cell_type": "code",
   "execution_count": null,
   "id": "cooked-jones",
   "metadata": {},
   "outputs": [],
   "source": []
  },
  {
   "cell_type": "markdown",
   "id": "voluntary-grace",
   "metadata": {},
   "source": [
    "Melt the \"Abundance_X\" columns into two new columns: \"Abundance\" and \"SessionNum\""
   ]
  },
  {
   "cell_type": "code",
   "execution_count": null,
   "id": "adjustable-ultimate",
   "metadata": {},
   "outputs": [],
   "source": []
  },
  {
   "cell_type": "markdown",
   "id": "cooked-tokyo",
   "metadata": {},
   "source": [
    "Merge the two melted dataframes you just made on the \"SessionNum\" column"
   ]
  },
  {
   "cell_type": "code",
   "execution_count": null,
   "id": "detailed-hawaii",
   "metadata": {},
   "outputs": [],
   "source": []
  },
  {
   "cell_type": "markdown",
   "id": "featured-shelter",
   "metadata": {},
   "source": [
    "Melt the merged dataframe's \"Intensity\" and \"Abundance\" columns into two new columns: \"Metric\" and \"Value\""
   ]
  },
  {
   "cell_type": "code",
   "execution_count": null,
   "id": "upper-rouge",
   "metadata": {},
   "outputs": [],
   "source": []
  },
  {
   "cell_type": "markdown",
   "id": "tender-wright",
   "metadata": {},
   "source": [
    "## Splitting Strings into Multiple Columns\n",
    "\n",
    "Splitting a string around a seperator can done with the `pd.Sereis.str.split()` function.  With it, you can turn a DataFrame from this:\n",
    "\n",
    "| line |\n",
    "| :--: |\n",
    "| hi_1 |\n",
    "| bye_2|\n",
    "\n",
    "into this:\n",
    "\n",
    "| line | greeting | num |\n",
    "| :--: | :--: | :--: |\n",
    "| hi_1 | hi | 1 |\n",
    "| bye_2| bye | 2 |\n",
    "\n",
    "using a single line:\n",
    "\n",
    "```python\n",
    "df[['greeting', 'num']] = df['line'].str.split('_', expand=True)\n",
    "```\n",
    "\n",
    "Let's try it out!"
   ]
  },
  {
   "cell_type": "code",
   "execution_count": 49,
   "id": "corrected-database",
   "metadata": {},
   "outputs": [
    {
     "data": {
      "text/html": [
       "<div>\n",
       "<style scoped>\n",
       "    .dataframe tbody tr th:only-of-type {\n",
       "        vertical-align: middle;\n",
       "    }\n",
       "\n",
       "    .dataframe tbody tr th {\n",
       "        vertical-align: top;\n",
       "    }\n",
       "\n",
       "    .dataframe thead th {\n",
       "        text-align: right;\n",
       "    }\n",
       "</style>\n",
       "<table border=\"1\" class=\"dataframe\">\n",
       "  <thead>\n",
       "    <tr style=\"text-align: right;\">\n",
       "      <th></th>\n",
       "      <th>counts</th>\n",
       "      <th>intensities</th>\n",
       "    </tr>\n",
       "  </thead>\n",
       "  <tbody>\n",
       "    <tr>\n",
       "      <th>0</th>\n",
       "      <td>1;3;5</td>\n",
       "      <td>5_32_654</td>\n",
       "    </tr>\n",
       "    <tr>\n",
       "      <th>1</th>\n",
       "      <td>10;2;6</td>\n",
       "      <td>10_1_99</td>\n",
       "    </tr>\n",
       "  </tbody>\n",
       "</table>\n",
       "</div>"
      ],
      "text/plain": [
       "   counts intensities\n",
       "0   1;3;5    5_32_654\n",
       "1  10;2;6     10_1_99"
      ]
     },
     "execution_count": 49,
     "metadata": {},
     "output_type": "execute_result"
    }
   ],
   "source": [
    "df = pd.DataFrame({\n",
    "    'counts': [\"1;3;5\", \"10;2;6\"],\n",
    "    'intensities': ['5_32_654', \"10_1_99\"],\n",
    "})\n",
    "df"
   ]
  },
  {
   "cell_type": "markdown",
   "id": "thermal-series",
   "metadata": {},
   "source": [
    "Split the Counts into Counts1, Counts2, and Counts3"
   ]
  },
  {
   "cell_type": "code",
   "execution_count": null,
   "id": "rubber-hypothesis",
   "metadata": {},
   "outputs": [],
   "source": []
  },
  {
   "cell_type": "markdown",
   "id": "flying-browse",
   "metadata": {},
   "source": [
    "Split the Intensities into Intensities1, Intensities2, and Instensities3"
   ]
  },
  {
   "cell_type": "code",
   "execution_count": null,
   "id": "breathing-absorption",
   "metadata": {},
   "outputs": [],
   "source": []
  },
  {
   "cell_type": "markdown",
   "id": "cutting-malawi",
   "metadata": {},
   "source": [
    "Melt them into a single dataframe with Trial, Metric, and Values columns!"
   ]
  },
  {
   "cell_type": "code",
   "execution_count": null,
   "id": "fluid-radar",
   "metadata": {},
   "outputs": [],
   "source": []
  },
  {
   "cell_type": "markdown",
   "id": "satisfactory-engine",
   "metadata": {},
   "source": [
    "## Extra: Concatenating Across CSV Files Using Dask.DataFrame.read_csv()"
   ]
  },
  {
   "cell_type": "markdown",
   "id": "powerful-graph",
   "metadata": {},
   "source": [
    "Let's say all these dataframes were stored as CSV files on our computer..."
   ]
  },
  {
   "cell_type": "code",
   "execution_count": 42,
   "id": "thirty-prompt",
   "metadata": {},
   "outputs": [],
   "source": [
    "df1 = pd.DataFrame({'Name': ['Jackson', 'Josh', 'Jenny'], 'Age': [16, 19, 17]})\n",
    "df1.to_csv(\"names_1.csv\", index=False)"
   ]
  },
  {
   "cell_type": "code",
   "execution_count": 43,
   "id": "considered-christianity",
   "metadata": {},
   "outputs": [],
   "source": [
    "df2 = pd.DataFrame({'Name': ['Jess', 'Jon', 'Joe'], 'Age': [21, 16, 23]}, index=[3, 4, 5])\n",
    "df2.to_csv(\"names_2.csv\", index=False)"
   ]
  },
  {
   "cell_type": "code",
   "execution_count": 44,
   "id": "broke-intro",
   "metadata": {},
   "outputs": [],
   "source": [
    "df3 = pd.DataFrame({'Name': ['Jill', 'Josephine', 'Jack'], 'Age': [5, 10, 61]})\n",
    "df3.to_csv(\"names_3.csv\", index=False)"
   ]
  },
  {
   "cell_type": "markdown",
   "id": "experienced-playback",
   "metadata": {},
   "source": [
    "Let's just read them all at once!"
   ]
  },
  {
   "cell_type": "code",
   "execution_count": 33,
   "id": "greek-variety",
   "metadata": {},
   "outputs": [],
   "source": [
    "import dask.dataframe as dd"
   ]
  },
  {
   "cell_type": "code",
   "execution_count": 47,
   "id": "understood-purchase",
   "metadata": {},
   "outputs": [
    {
     "data": {
      "text/html": [
       "<div>\n",
       "<style scoped>\n",
       "    .dataframe tbody tr th:only-of-type {\n",
       "        vertical-align: middle;\n",
       "    }\n",
       "\n",
       "    .dataframe tbody tr th {\n",
       "        vertical-align: top;\n",
       "    }\n",
       "\n",
       "    .dataframe thead th {\n",
       "        text-align: right;\n",
       "    }\n",
       "</style>\n",
       "<table border=\"1\" class=\"dataframe\">\n",
       "  <thead>\n",
       "    <tr style=\"text-align: right;\">\n",
       "      <th></th>\n",
       "      <th>Name</th>\n",
       "      <th>Age</th>\n",
       "    </tr>\n",
       "  </thead>\n",
       "  <tbody>\n",
       "    <tr>\n",
       "      <th>0</th>\n",
       "      <td>Jackson</td>\n",
       "      <td>16</td>\n",
       "    </tr>\n",
       "    <tr>\n",
       "      <th>1</th>\n",
       "      <td>Josh</td>\n",
       "      <td>19</td>\n",
       "    </tr>\n",
       "    <tr>\n",
       "      <th>2</th>\n",
       "      <td>Jenny</td>\n",
       "      <td>17</td>\n",
       "    </tr>\n",
       "    <tr>\n",
       "      <th>0</th>\n",
       "      <td>Jess</td>\n",
       "      <td>21</td>\n",
       "    </tr>\n",
       "    <tr>\n",
       "      <th>1</th>\n",
       "      <td>Jon</td>\n",
       "      <td>16</td>\n",
       "    </tr>\n",
       "    <tr>\n",
       "      <th>2</th>\n",
       "      <td>Joe</td>\n",
       "      <td>23</td>\n",
       "    </tr>\n",
       "    <tr>\n",
       "      <th>0</th>\n",
       "      <td>Jill</td>\n",
       "      <td>5</td>\n",
       "    </tr>\n",
       "    <tr>\n",
       "      <th>1</th>\n",
       "      <td>Josephine</td>\n",
       "      <td>10</td>\n",
       "    </tr>\n",
       "    <tr>\n",
       "      <th>2</th>\n",
       "      <td>Jack</td>\n",
       "      <td>61</td>\n",
       "    </tr>\n",
       "  </tbody>\n",
       "</table>\n",
       "</div>"
      ],
      "text/plain": [
       "        Name  Age\n",
       "0    Jackson   16\n",
       "1       Josh   19\n",
       "2      Jenny   17\n",
       "0       Jess   21\n",
       "1        Jon   16\n",
       "2        Joe   23\n",
       "0       Jill    5\n",
       "1  Josephine   10\n",
       "2       Jack   61"
      ]
     },
     "execution_count": 47,
     "metadata": {},
     "output_type": "execute_result"
    }
   ],
   "source": [
    "dd.read_csv(\"names_*.csv\").compute()"
   ]
  },
  {
   "cell_type": "code",
   "execution_count": null,
   "id": "north-feature",
   "metadata": {},
   "outputs": [],
   "source": []
  }
 ],
 "metadata": {
  "kernelspec": {
   "display_name": "Python 3",
   "language": "python",
   "name": "python3"
  },
  "language_info": {
   "codemirror_mode": {
    "name": "ipython",
    "version": 3
   },
   "file_extension": ".py",
   "mimetype": "text/x-python",
   "name": "python",
   "nbconvert_exporter": "python",
   "pygments_lexer": "ipython3",
   "version": "3.8.3"
  }
 },
 "nbformat": 4,
 "nbformat_minor": 5
}
