{
 "cells": [
  {
   "cell_type": "code",
   "execution_count": null,
   "id": "developmental-newcastle",
   "metadata": {},
   "outputs": [],
   "source": []
  },
  {
   "cell_type": "markdown",
   "id": "social-geology",
   "metadata": {
    "slideshow": {
     "slide_type": "slide"
    }
   },
   "source": [
    "## Extracting Data From a Collection: Indexing and Slicing\n",
    "\n",
    "Data can be indexed/queried/extracted from collectoins using the square brackets: [ ]\n",
    "\n",
    "In sequences, putting a number inside the the brackets extracts the nth (counting from zero) value\n",
    "```python\n",
    ">>> (1, 2, 3)[1]\n",
    "2\n",
    "\n",
    ">>> (1, 2, 3)[0]\n",
    "1\n",
    "\n",
    ">>> (1, 2, 3)[-1]\n",
    "3\n",
    "```\n",
    "\n",
    "You can \"slice\" a sequence (get all from one index to another index) using the colon [:]\n",
    "```python\n",
    ">>> (10, 20, 30, 40, 50, 60)[1:3]\n",
    "(20, 30)\n",
    "\n",
    ">>> (10, 20, 30, 40, 50, 60)[:3]\n",
    "(10, 20, 30)\n",
    "\n",
    ">>> (10, 20, 30, 40, 50, 60)[3:]\n",
    "(40, 50, 60)\n",
    "```\n"
   ]
  },
  {
   "cell_type": "markdown",
   "id": "decimal-funds",
   "metadata": {
    "slideshow": {
     "slide_type": "subslide"
    }
   },
   "source": [
    "## Indexing Exercises: Lists\n",
    "\n",
    "Using the example dataset *scores*, select only the described elements from each list:"
   ]
  },
  {
   "cell_type": "markdown",
   "id": "ruled-underground",
   "metadata": {
    "slideshow": {
     "slide_type": "fragment"
    }
   },
   "source": [
    "0. The first score"
   ]
  },
  {
   "cell_type": "code",
   "execution_count": null,
   "id": "entire-optics",
   "metadata": {},
   "outputs": [],
   "source": [
    "(0.2, 0.3, 0.9, 1.1, 2.2, 2.9, 0.0, 0.7, 1.3, 0.3, 0.5, 0.1, 0.0)"
   ]
  },
  {
   "cell_type": "markdown",
   "id": "vulnerable-tower",
   "metadata": {
    "slideshow": {
     "slide_type": "fragment"
    }
   },
   "source": [
    "1. The third score"
   ]
  },
  {
   "cell_type": "code",
   "execution_count": null,
   "id": "uniform-provision",
   "metadata": {},
   "outputs": [],
   "source": [
    "(0.2, 0.3, 0.9, 1.1, 2.2, 2.9, 0.0, 0.7, 1.3, 0.3, 0.5, 0.1, 0.0)"
   ]
  },
  {
   "cell_type": "markdown",
   "id": "irish-lithuania",
   "metadata": {
    "slideshow": {
     "slide_type": "subslide"
    }
   },
   "source": [
    "2. The last score"
   ]
  },
  {
   "cell_type": "code",
   "execution_count": null,
   "id": "surrounded-affiliation",
   "metadata": {},
   "outputs": [],
   "source": [
    "(0.2, 0.3, 0.9, 1.1, 2.2, 2.9, 0.0, 0.7, 1.3, 0.3, 0.5, 0.1, 0.0)"
   ]
  },
  {
   "cell_type": "markdown",
   "id": "clear-philippines",
   "metadata": {},
   "source": [
    "2a. The 3rd from the last score"
   ]
  },
  {
   "cell_type": "code",
   "execution_count": 65,
   "id": "heavy-speaker",
   "metadata": {},
   "outputs": [],
   "source": [
    "(0.2, 0.3, 0.9, 1.1, 2.2, 2.9, 0.0, 0.7, 1.3, 0.3, 0.5, 0.1, 0.0)"
   ]
  },
  {
   "cell_type": "markdown",
   "id": "banned-arbor",
   "metadata": {
    "slideshow": {
     "slide_type": "fragment"
    }
   },
   "source": [
    "3. The 2nd through 5th score"
   ]
  },
  {
   "cell_type": "code",
   "execution_count": null,
   "id": "regulation-dominican",
   "metadata": {},
   "outputs": [],
   "source": [
    "(0.2, 0.3, 0.9, 1.1, 2.2, 2.9, 0.0, 0.7, 1.3, 0.3, 0.5, 0.1, 0.0)"
   ]
  },
  {
   "cell_type": "markdown",
   "id": "thick-gabriel",
   "metadata": {
    "slideshow": {
     "slide_type": "fragment"
    }
   },
   "source": [
    "4. Every second score (the first, third, fifth, etc)"
   ]
  },
  {
   "cell_type": "code",
   "execution_count": null,
   "id": "original-fortune",
   "metadata": {},
   "outputs": [],
   "source": [
    "(0.2, 0.3, 0.9, 1.1, 2.2, 2.9, 0.0, 0.7, 1.3, 0.3, 0.5, 0.1, 0.0)"
   ]
  },
  {
   "cell_type": "markdown",
   "id": "decimal-swaziland",
   "metadata": {
    "slideshow": {
     "slide_type": "subslide"
    }
   },
   "source": [
    "5. Every score after the 4th score"
   ]
  },
  {
   "cell_type": "code",
   "execution_count": 11,
   "id": "trying-roots",
   "metadata": {},
   "outputs": [
    {
     "data": {
      "text/plain": [
       "(0.2, 0.3, 0.9, 1.1, 2.2, 2.9, 0.0, 0.7, 1.3, 0.3, 0.5, 0.1, 0.0)"
      ]
     },
     "execution_count": 11,
     "metadata": {},
     "output_type": "execute_result"
    }
   ],
   "source": [
    "(0.2, 0.3, 0.9, 1.1, 2.2, 2.9, 0.0, 0.7, 1.3, 0.3, 0.5, 0.1, 0.0)"
   ]
  },
  {
   "cell_type": "markdown",
   "id": "continuous-vegetarian",
   "metadata": {
    "slideshow": {
     "slide_type": "fragment"
    }
   },
   "source": [
    "6. Every second score from the 2nd to the 8th."
   ]
  },
  {
   "cell_type": "code",
   "execution_count": 66,
   "id": "electoral-accommodation",
   "metadata": {},
   "outputs": [],
   "source": [
    "(0.2, 0.3, 0.9, 1.1, 2.2, 2.9, 0.0, 0.7, 1.3, 0.3, 0.5, 0.1, 0.0)"
   ]
  },
  {
   "cell_type": "markdown",
   "id": "wrong-vehicle",
   "metadata": {},
   "source": [
    "7. Every score except the first and last."
   ]
  },
  {
   "cell_type": "code",
   "execution_count": null,
   "id": "humanitarian-facing",
   "metadata": {},
   "outputs": [],
   "source": [
    "(0.2, 0.3, 0.9, 1.1, 2.2, 2.9, 0.0, 0.7, 1.3, 0.3, 0.5, 0.1, 0.0)"
   ]
  },
  {
   "cell_type": "code",
   "execution_count": null,
   "id": "apparent-shadow",
   "metadata": {},
   "outputs": [],
   "source": []
  },
  {
   "cell_type": "markdown",
   "id": "underlying-holocaust",
   "metadata": {},
   "source": [
    "# Arrays\n",
    "\n",
    "**Numpy** has a very useful list-like class: the **array**.  It has one key restriction that lists don't have:  **all elements in the array have to be of the same data type (e.g. int, float, bool)**, but it has a lot of useful features that lists also don't have, starting with having functions that let you build arrays containing a wide range of starting data."
   ]
  },
  {
   "cell_type": "markdown",
   "id": "aggregate-cowboy",
   "metadata": {
    "colab_type": "text",
    "id": "TiadUOo7Z8Y9"
   },
   "source": [
    "### Building Arrays\n",
    "\n",
    "Let's generate some arrays!  Some commonly-used are examples are **arange()**, **linspace()**, **zeros()**, and the random number generation functions in **random**.\n",
    "\n",
    "| function | Purpose |  Example |\n",
    "| :-----------: | :-------------: | :-------------: |\n",
    "| **np.array()**  | Turns a list into an array |   np.array([2, 5, 3]) |\n",
    "| **np.arange()**                  | Makes an array with all the integers between two values | np.arange(2, 7) |\n",
    "| **np.linspace()**               | Makes a specific-length array |  np.linspace(2, 3, 10) |\n",
    "| **np.zeros()**                    | Makes an array of all zeros | np.zeros(5) |\n",
    "| **np.ones()**                     | Makes an array of all ones | np.ones(3) |\n",
    "| **np.random.random()** | Makes an array of random numbers | np.random.random(100) |\n",
    "| **np.random.randn()**     | Makes an array of normally-distributed random numbers | np.random.randn(100) |\n"
   ]
  },
  {
   "cell_type": "markdown",
   "id": "welcome-vegetation",
   "metadata": {},
   "source": [
    "#### Exercises"
   ]
  },
  {
   "cell_type": "markdown",
   "id": "fossil-dealer",
   "metadata": {},
   "source": [
    "Import the numpy package:"
   ]
  },
  {
   "cell_type": "code",
   "execution_count": 1,
   "id": "thirty-basket",
   "metadata": {},
   "outputs": [],
   "source": [
    "import numpy as np"
   ]
  },
  {
   "cell_type": "markdown",
   "id": "million-synthetic",
   "metadata": {},
   "source": [
    "Turn this list into an array:"
   ]
  },
  {
   "cell_type": "code",
   "execution_count": 2,
   "id": "absolute-electron",
   "metadata": {},
   "outputs": [
    {
     "data": {
      "text/plain": [
       "[4, 7, 6, 1]"
      ]
     },
     "execution_count": 2,
     "metadata": {},
     "output_type": "execute_result"
    }
   ],
   "source": [
    "[4, 7, 6, 1]"
   ]
  },
  {
   "cell_type": "markdown",
   "id": "optimum-tampa",
   "metadata": {
    "colab_type": "text",
    "id": "yhtqOOlKZ8ZC"
   },
   "source": [
    "Make an array containing the integers from 1 to 15."
   ]
  },
  {
   "cell_type": "code",
   "execution_count": null,
   "id": "touched-concentration",
   "metadata": {
    "colab": {},
    "colab_type": "code",
    "id": "lzwPrnZcZ8ZE"
   },
   "outputs": [],
   "source": []
  },
  {
   "cell_type": "markdown",
   "id": "twenty-mandate",
   "metadata": {},
   "source": [
    "Make an array of only 6 numbers between 1 and 10, evenly-spaced between them."
   ]
  },
  {
   "cell_type": "markdown",
   "id": "pleased-resource",
   "metadata": {},
   "source": []
  },
  {
   "cell_type": "markdown",
   "id": "ahead-radius",
   "metadata": {},
   "source": [
    "This list should also be an array..."
   ]
  },
  {
   "cell_type": "code",
   "execution_count": 3,
   "id": "pretty-comedy",
   "metadata": {},
   "outputs": [],
   "source": [
    "a = [True, False, False, True]"
   ]
  },
  {
   "cell_type": "markdown",
   "id": "phantom-pregnancy",
   "metadata": {
    "colab_type": "text",
    "id": "15ZzOLSPZ8ZI"
   },
   "source": [
    "Make an array containing 20 zeros."
   ]
  },
  {
   "cell_type": "code",
   "execution_count": null,
   "id": "answering-guide",
   "metadata": {
    "colab": {},
    "colab_type": "code",
    "id": "eNGUx1K0Z8ZI"
   },
   "outputs": [],
   "source": []
  },
  {
   "cell_type": "markdown",
   "id": "enclosed-second",
   "metadata": {
    "colab_type": "text",
    "id": "TjRMDeh1Z8ZL"
   },
   "source": [
    "Make an array contain 20 ones!"
   ]
  },
  {
   "cell_type": "code",
   "execution_count": null,
   "id": "sudden-passport",
   "metadata": {
    "colab": {},
    "colab_type": "code",
    "id": "J3Y7BeuYZ8ZM"
   },
   "outputs": [],
   "source": []
  },
  {
   "cell_type": "markdown",
   "id": "present-kazakhstan",
   "metadata": {},
   "source": [
    "How about an array of the 10 values between 100 and 1000?"
   ]
  },
  {
   "cell_type": "code",
   "execution_count": null,
   "id": "informal-platform",
   "metadata": {},
   "outputs": [],
   "source": []
  },
  {
   "cell_type": "markdown",
   "id": "burning-killer",
   "metadata": {
    "colab_type": "text",
    "id": "dvzWUJS_Z8ZO"
   },
   "source": [
    "Generate an array of 10 random numbers from Numpy's **random** submodule, using any function you want."
   ]
  },
  {
   "cell_type": "code",
   "execution_count": null,
   "id": "dimensional-richmond",
   "metadata": {
    "colab": {},
    "colab_type": "code",
    "id": "_W3Xjv_BZ8ZP"
   },
   "outputs": [],
   "source": []
  },
  {
   "cell_type": "markdown",
   "id": "twelve-helping",
   "metadata": {},
   "source": [
    "### Combining array generation with statistics functions\n",
    "\n",
    "These exercises all involve two steps:\n",
    "  1. Make the data\n",
    "  2. Calculate something on the data\n",
    "\n",
    "for example:\n",
    "```python\n",
    "np.mean(np.arange(1, 10))  # the mean of the integers from 1 to 9\n",
    "```"
   ]
  },
  {
   "cell_type": "markdown",
   "id": "quarterly-conference",
   "metadata": {},
   "source": [
    "#### Exercises"
   ]
  },
  {
   "cell_type": "markdown",
   "id": "suburban-ranch",
   "metadata": {},
   "source": [
    "What is the standard deviation of the integers between 2 and 20?"
   ]
  },
  {
   "cell_type": "code",
   "execution_count": null,
   "id": "thousand-virgin",
   "metadata": {},
   "outputs": [],
   "source": []
  },
  {
   "cell_type": "markdown",
   "id": "reported-expert",
   "metadata": {},
   "source": [
    "What is the standard deviation of the numbers generated from the np.random.randn() function?  "
   ]
  },
  {
   "cell_type": "code",
   "execution_count": null,
   "id": "flexible-worse",
   "metadata": {},
   "outputs": [],
   "source": []
  },
  {
   "cell_type": "markdown",
   "id": "drawn-newcastle",
   "metadata": {},
   "source": [
    "What is the sum of an array of 100 ones?"
   ]
  },
  {
   "cell_type": "code",
   "execution_count": null,
   "id": "sudden-company",
   "metadata": {},
   "outputs": [],
   "source": []
  },
  {
   "cell_type": "markdown",
   "id": "defined-generator",
   "metadata": {},
   "source": [
    "What is the sum of an array of 100 zeros?"
   ]
  },
  {
   "cell_type": "code",
   "execution_count": null,
   "id": "passing-movement",
   "metadata": {},
   "outputs": [],
   "source": []
  },
  {
   "cell_type": "code",
   "execution_count": null,
   "id": "technological-setup",
   "metadata": {},
   "outputs": [],
   "source": []
  }
 ],
 "metadata": {
  "kernelspec": {
   "display_name": "Python 3",
   "language": "python",
   "name": "python3"
  },
  "language_info": {
   "codemirror_mode": {
    "name": "ipython",
    "version": 3
   },
   "file_extension": ".py",
   "mimetype": "text/x-python",
   "name": "python",
   "nbconvert_exporter": "python",
   "pygments_lexer": "ipython3",
   "version": "3.8.3"
  }
 },
 "nbformat": 4,
 "nbformat_minor": 5
}
