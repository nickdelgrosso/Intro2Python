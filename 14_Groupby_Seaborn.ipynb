{
 "cells": [
  {
   "cell_type": "code",
   "execution_count": 18,
   "id": "bottom-declaration",
   "metadata": {},
   "outputs": [],
   "source": [
    "import pandas as pd"
   ]
  },
  {
   "cell_type": "markdown",
   "id": "lonely-grounds",
   "metadata": {},
   "source": [
    "## GroupBy Operations: Applying Aggregations to Groups of Data\n",
    "\n",
    "Usually, you don't just want to get a single metric from a dataset--you want to compare that metric between differnt subgroups of your data. For example, you want the mean **monthly** temperature, or the maximum firing rate of **each neuron**, or the total income of **each country**, and so on.\n",
    "\n",
    "The **groupby()** method lets you specify that an operation will be done on each *same-valued* row for a given column.  For example, to ask for the mean temperature by month:\n",
    "\n",
    "```python\n",
    ">>> df.groupby('month').temperature.mean()\n",
    "```\n",
    "\n",
    "To get the maxiumum firing rate of each neuron:\n",
    "\n",
    "```python\n",
    ">>> df.groupby('neuron_id').firing_rate.max()\n",
    "```\n",
    "\n",
    "You can also group by as many columns as you like, getting as many groups as unique combinations between the columns:\n",
    "\n",
    "```python\n",
    ">>> df.groupby(['year', 'month']).temperature.mean()\n",
    "```\n",
    "\n",
    "Groupby objects are **lazy**, meaning they don't start calculating anything until they know the full pipeline.  This approach is called the **\"Split-Apply-Combine\"** workflow.  You can get more info on it here: https://pandas.pydata.org/pandas-docs/stable/user_guide/groupby.html\n"
   ]
  },
  {
   "cell_type": "markdown",
   "id": "egyptian-might",
   "metadata": {},
   "source": [
    "#### Exercises\n",
    "\n",
    "Let's try this out on the Titanic Dataset!"
   ]
  },
  {
   "cell_type": "code",
   "execution_count": 25,
   "id": "utility-liver",
   "metadata": {},
   "outputs": [
    {
     "data": {
      "text/html": [
       "<div>\n",
       "<style scoped>\n",
       "    .dataframe tbody tr th:only-of-type {\n",
       "        vertical-align: middle;\n",
       "    }\n",
       "\n",
       "    .dataframe tbody tr th {\n",
       "        vertical-align: top;\n",
       "    }\n",
       "\n",
       "    .dataframe thead th {\n",
       "        text-align: right;\n",
       "    }\n",
       "</style>\n",
       "<table border=\"1\" class=\"dataframe\">\n",
       "  <thead>\n",
       "    <tr style=\"text-align: right;\">\n",
       "      <th></th>\n",
       "      <th>survived</th>\n",
       "      <th>pclass</th>\n",
       "      <th>sex</th>\n",
       "      <th>age</th>\n",
       "      <th>sibsp</th>\n",
       "      <th>parch</th>\n",
       "      <th>fare</th>\n",
       "      <th>embarked</th>\n",
       "      <th>class</th>\n",
       "      <th>who</th>\n",
       "      <th>adult_male</th>\n",
       "      <th>deck</th>\n",
       "      <th>embark_town</th>\n",
       "      <th>alive</th>\n",
       "      <th>alone</th>\n",
       "    </tr>\n",
       "  </thead>\n",
       "  <tbody>\n",
       "    <tr>\n",
       "      <th>0</th>\n",
       "      <td>0</td>\n",
       "      <td>3</td>\n",
       "      <td>male</td>\n",
       "      <td>22.0</td>\n",
       "      <td>1</td>\n",
       "      <td>0</td>\n",
       "      <td>7.2500</td>\n",
       "      <td>S</td>\n",
       "      <td>Third</td>\n",
       "      <td>man</td>\n",
       "      <td>True</td>\n",
       "      <td>NaN</td>\n",
       "      <td>Southampton</td>\n",
       "      <td>no</td>\n",
       "      <td>False</td>\n",
       "    </tr>\n",
       "    <tr>\n",
       "      <th>1</th>\n",
       "      <td>1</td>\n",
       "      <td>1</td>\n",
       "      <td>female</td>\n",
       "      <td>38.0</td>\n",
       "      <td>1</td>\n",
       "      <td>0</td>\n",
       "      <td>71.2833</td>\n",
       "      <td>C</td>\n",
       "      <td>First</td>\n",
       "      <td>woman</td>\n",
       "      <td>False</td>\n",
       "      <td>C</td>\n",
       "      <td>Cherbourg</td>\n",
       "      <td>yes</td>\n",
       "      <td>False</td>\n",
       "    </tr>\n",
       "    <tr>\n",
       "      <th>2</th>\n",
       "      <td>1</td>\n",
       "      <td>3</td>\n",
       "      <td>female</td>\n",
       "      <td>26.0</td>\n",
       "      <td>0</td>\n",
       "      <td>0</td>\n",
       "      <td>7.9250</td>\n",
       "      <td>S</td>\n",
       "      <td>Third</td>\n",
       "      <td>woman</td>\n",
       "      <td>False</td>\n",
       "      <td>NaN</td>\n",
       "      <td>Southampton</td>\n",
       "      <td>yes</td>\n",
       "      <td>True</td>\n",
       "    </tr>\n",
       "    <tr>\n",
       "      <th>3</th>\n",
       "      <td>1</td>\n",
       "      <td>1</td>\n",
       "      <td>female</td>\n",
       "      <td>35.0</td>\n",
       "      <td>1</td>\n",
       "      <td>0</td>\n",
       "      <td>53.1000</td>\n",
       "      <td>S</td>\n",
       "      <td>First</td>\n",
       "      <td>woman</td>\n",
       "      <td>False</td>\n",
       "      <td>C</td>\n",
       "      <td>Southampton</td>\n",
       "      <td>yes</td>\n",
       "      <td>False</td>\n",
       "    </tr>\n",
       "    <tr>\n",
       "      <th>4</th>\n",
       "      <td>0</td>\n",
       "      <td>3</td>\n",
       "      <td>male</td>\n",
       "      <td>35.0</td>\n",
       "      <td>0</td>\n",
       "      <td>0</td>\n",
       "      <td>8.0500</td>\n",
       "      <td>S</td>\n",
       "      <td>Third</td>\n",
       "      <td>man</td>\n",
       "      <td>True</td>\n",
       "      <td>NaN</td>\n",
       "      <td>Southampton</td>\n",
       "      <td>no</td>\n",
       "      <td>True</td>\n",
       "    </tr>\n",
       "  </tbody>\n",
       "</table>\n",
       "</div>"
      ],
      "text/plain": [
       "   survived  pclass     sex   age  sibsp  parch     fare embarked  class  \\\n",
       "0         0       3    male  22.0      1      0   7.2500        S  Third   \n",
       "1         1       1  female  38.0      1      0  71.2833        C  First   \n",
       "2         1       3  female  26.0      0      0   7.9250        S  Third   \n",
       "3         1       1  female  35.0      1      0  53.1000        S  First   \n",
       "4         0       3    male  35.0      0      0   8.0500        S  Third   \n",
       "\n",
       "     who  adult_male deck  embark_town alive  alone  \n",
       "0    man        True  NaN  Southampton    no  False  \n",
       "1  woman       False    C    Cherbourg   yes  False  \n",
       "2  woman       False  NaN  Southampton   yes   True  \n",
       "3  woman       False    C  Southampton   yes  False  \n",
       "4    man        True  NaN  Southampton    no   True  "
      ]
     },
     "execution_count": 25,
     "metadata": {},
     "output_type": "execute_result"
    }
   ],
   "source": [
    "df.head()"
   ]
  },
  {
   "cell_type": "markdown",
   "id": "exterior-bankruptcy",
   "metadata": {},
   "source": [
    "Example: What was the mean age, grouped by class?"
   ]
  },
  {
   "cell_type": "code",
   "execution_count": 67,
   "id": "bound-buyer",
   "metadata": {},
   "outputs": [
    {
     "data": {
      "text/plain": [
       "class\n",
       "First     38.233441\n",
       "Second    29.877630\n",
       "Third     25.140620\n",
       "Name: age, dtype: float64"
      ]
     },
     "execution_count": 67,
     "metadata": {},
     "output_type": "execute_result"
    }
   ],
   "source": [
    "df.groupby('class').age.mean()"
   ]
  },
  {
   "cell_type": "markdown",
   "id": "foster-hudson",
   "metadata": {},
   "source": [
    "1. What was the median ticket fare for each class?"
   ]
  },
  {
   "cell_type": "code",
   "execution_count": null,
   "id": "nominated-precipitation",
   "metadata": {},
   "outputs": [],
   "source": []
  },
  {
   "cell_type": "markdown",
   "id": "framed-proposal",
   "metadata": {},
   "source": [
    "2. What was the survival rate for each class?"
   ]
  },
  {
   "cell_type": "code",
   "execution_count": null,
   "id": "behind-people",
   "metadata": {},
   "outputs": [],
   "source": []
  },
  {
   "cell_type": "markdown",
   "id": "eligible-income",
   "metadata": {},
   "source": [
    "3. What was the survival rate for each sex?"
   ]
  },
  {
   "cell_type": "code",
   "execution_count": null,
   "id": "covered-prisoner",
   "metadata": {},
   "outputs": [],
   "source": []
  },
  {
   "cell_type": "markdown",
   "id": "banner-armor",
   "metadata": {},
   "source": [
    "4. What was the survival rate, broken down by both sex and class?"
   ]
  },
  {
   "cell_type": "code",
   "execution_count": null,
   "id": "utility-cholesterol",
   "metadata": {},
   "outputs": [],
   "source": []
  },
  {
   "cell_type": "markdown",
   "id": "extreme-baptist",
   "metadata": {},
   "source": [
    "5. Which class tended to travel alone more often?  Did it matter where they were embarking from?"
   ]
  },
  {
   "cell_type": "code",
   "execution_count": null,
   "id": "intelligent-withdrawal",
   "metadata": {},
   "outputs": [],
   "source": []
  },
  {
   "cell_type": "markdown",
   "id": "unlike-spirit",
   "metadata": {},
   "source": [
    "6. What was the ticket fare for each embarking city?"
   ]
  },
  {
   "cell_type": "code",
   "execution_count": null,
   "id": "vocational-ethernet",
   "metadata": {},
   "outputs": [],
   "source": []
  },
  {
   "cell_type": "markdown",
   "id": "interested-multimedia",
   "metadata": {},
   "source": [
    "7. What was the median age of the survivors vs non-survivors, when sex is considered as a factor?"
   ]
  },
  {
   "cell_type": "code",
   "execution_count": null,
   "id": "stylish-trash",
   "metadata": {},
   "outputs": [],
   "source": []
  },
  {
   "cell_type": "markdown",
   "id": "municipal-convert",
   "metadata": {},
   "source": [
    "## Plotting with Seaborn\n",
    "\n",
    "Seaborn is a data visualization library that uses Pandas Dataframes to produce statitistical plots; in other words, it takes Dataframes and does Groupby automatically for you\n",
    "\n",
    "(https://seaborn.pydata.org/examples/index.html)\n",
    "\n",
    "Most of its functions have a similar interface:\n",
    "\n",
    "```python\n",
    "import seaborn as sns\n",
    "sns.catplot(data=df, x=\"ColName\", y=\"ColName\", hue=\"ColName\", row=\"ColName\", col=\"ColName\", kind=\"bar\")\n",
    "# kind can be \"point\", \"bar\", \"violin\", \"box\", \"boxen\", \"count\", \"strip\", \"swarm\"\n",
    "```"
   ]
  },
  {
   "cell_type": "markdown",
   "id": "surface-radar",
   "metadata": {},
   "source": [
    "### Exercises\n",
    "\n",
    "Let's try out seaborn's **catplot** function to visualize answers to the following questions.  \n",
    "\n",
    "(Tip: check out the *kind* optional argument with the following strings: point, bar, violin, box, boxen)"
   ]
  },
  {
   "cell_type": "code",
   "execution_count": 42,
   "id": "fancy-bachelor",
   "metadata": {},
   "outputs": [],
   "source": [
    "# !pip install seaborn  # Run this if the import doesn't work"
   ]
  },
  {
   "cell_type": "code",
   "execution_count": 5,
   "id": "animated-count",
   "metadata": {},
   "outputs": [],
   "source": [
    "import seaborn as sns"
   ]
  },
  {
   "cell_type": "markdown",
   "id": "armed-quilt",
   "metadata": {},
   "source": [
    "What was the average age of the people in each class?"
   ]
  },
  {
   "cell_type": "code",
   "execution_count": 11,
   "id": "executed-wright",
   "metadata": {},
   "outputs": [
    {
     "name": "stderr",
     "output_type": "stream",
     "text": [
      "D:\\miniconda\\lib\\site-packages\\seaborn\\categorical.py:1296: UserWarning: 13.2% of the points cannot be placed; you may want to decrease the size of the markers or use stripplot.\n",
      "  warnings.warn(msg, UserWarning)\n"
     ]
    },
    {
     "data": {
      "image/png": "[encoded data removed]",
      "text/plain": [
       "<Figure size 360x360 with 1 Axes>"
      ]
     },
     "metadata": {
      "needs_background": "light"
     },
     "output_type": "display_data"
    }
   ],
   "source": [
    "sns.catplot(data=df, x=\"class\", y=\"age\", kind=\"swarm\");"
   ]
  },
  {
   "cell_type": "markdown",
   "id": "southwest-falls",
   "metadata": {},
   "source": [
    "What was the average ticket fare for each class?"
   ]
  },
  {
   "cell_type": "code",
   "execution_count": null,
   "id": "hydraulic-collaboration",
   "metadata": {},
   "outputs": [],
   "source": []
  },
  {
   "cell_type": "markdown",
   "id": "biblical-translator",
   "metadata": {},
   "source": [
    "What was the average survival rate for each class?"
   ]
  },
  {
   "cell_type": "code",
   "execution_count": null,
   "id": "asian-relevance",
   "metadata": {},
   "outputs": [],
   "source": []
  },
  {
   "cell_type": "markdown",
   "id": "laden-reason",
   "metadata": {},
   "source": [
    "What was the average survival rate for each sex?"
   ]
  },
  {
   "cell_type": "code",
   "execution_count": null,
   "id": "arctic-granny",
   "metadata": {},
   "outputs": [],
   "source": []
  },
  {
   "cell_type": "markdown",
   "id": "defined-commission",
   "metadata": {},
   "source": [
    "What was the average survival rate, broken down by both sex and class?"
   ]
  },
  {
   "cell_type": "code",
   "execution_count": null,
   "id": "rational-updating",
   "metadata": {},
   "outputs": [],
   "source": []
  },
  {
   "cell_type": "markdown",
   "id": "extreme-express",
   "metadata": {},
   "source": [
    "Which class tended to travel alone more often?  Did it matter where they were embarking from?"
   ]
  },
  {
   "cell_type": "code",
   "execution_count": null,
   "id": "ultimate-romance",
   "metadata": {},
   "outputs": [],
   "source": []
  },
  {
   "cell_type": "markdown",
   "id": "viral-drive",
   "metadata": {},
   "source": [
    "What was the average ticket fare for each class?  Did it depend on the embarking city?"
   ]
  },
  {
   "cell_type": "code",
   "execution_count": null,
   "id": "earned-attack",
   "metadata": {},
   "outputs": [],
   "source": []
  },
  {
   "cell_type": "markdown",
   "id": "harmful-excitement",
   "metadata": {},
   "source": [
    "What was the age of the survivors vs non-survivors, when sex is considered as a factor?"
   ]
  },
  {
   "cell_type": "code",
   "execution_count": null,
   "id": "macro-color",
   "metadata": {},
   "outputs": [],
   "source": []
  }
 ],
 "metadata": {
  "kernelspec": {
   "display_name": "Python 3",
   "language": "python",
   "name": "python3"
  },
  "language_info": {
   "codemirror_mode": {
    "name": "ipython",
    "version": 3
   },
   "file_extension": ".py",
   "mimetype": "text/x-python",
   "name": "python",
   "nbconvert_exporter": "python",
   "pygments_lexer": "ipython3",
   "version": "3.8.3"
  }
 },
 "nbformat": 4,
 "nbformat_minor": 5
}
