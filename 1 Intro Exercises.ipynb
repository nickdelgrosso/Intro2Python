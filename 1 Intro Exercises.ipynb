{
 "cells": [
  {
   "cell_type": "code",
   "execution_count": null,
   "id": "creative-tourism",
   "metadata": {},
   "outputs": [],
   "source": []
  },
  {
   "cell_type": "markdown",
   "id": "planned-junction",
   "metadata": {
    "slideshow": {
     "slide_type": "slide"
    }
   },
   "source": [
    "## Exercises: Using Python as a calculator\n",
    "\n",
    "Using the operators in the table below, ask Python to solve these difficult math equations:\n",
    "\n",
    "|Assign to a Variable | Add  | Subract | Multiply | Divide | Power | Integer Divide | Remainder after Division | \n",
    "|  :---------------:  | :---:| :-----: | :------: | :----: | :---: | :------------: | :----------------------: |\n",
    "|         =           |  +   |    -    |    *     |   /    |   **  |       //       |           %              |"
   ]
  },
  {
   "cell_type": "markdown",
   "id": "medical-creek",
   "metadata": {
    "slideshow": {
     "slide_type": "subslide"
    }
   },
   "source": [
    "1. What is two plus three?"
   ]
  },
  {
   "cell_type": "code",
   "execution_count": null,
   "id": "spoken-affect",
   "metadata": {},
   "outputs": [],
   "source": []
  },
  {
   "cell_type": "markdown",
   "id": "indie-disposition",
   "metadata": {
    "slideshow": {
     "slide_type": "fragment"
    }
   },
   "source": [
    "2. What is two times three?"
   ]
  },
  {
   "cell_type": "code",
   "execution_count": null,
   "id": "fabulous-employee",
   "metadata": {},
   "outputs": [],
   "source": []
  },
  {
   "cell_type": "markdown",
   "id": "compatible-colony",
   "metadata": {
    "slideshow": {
     "slide_type": "fragment"
    }
   },
   "source": [
    "3. What is two to the third power?"
   ]
  },
  {
   "cell_type": "code",
   "execution_count": null,
   "id": "simple-weekly",
   "metadata": {},
   "outputs": [],
   "source": []
  },
  {
   "cell_type": "markdown",
   "id": "ignored-extent",
   "metadata": {
    "slideshow": {
     "slide_type": "subslide"
    }
   },
   "source": [
    "3.5 How many (whole) times does 7 go into 100?"
   ]
  },
  {
   "cell_type": "code",
   "execution_count": null,
   "id": "worse-miller",
   "metadata": {},
   "outputs": [],
   "source": []
  },
  {
   "cell_type": "markdown",
   "id": "scenic-symbol",
   "metadata": {},
   "source": [
    "4. What is the remainder after dividing 3 from 2?"
   ]
  },
  {
   "cell_type": "code",
   "execution_count": null,
   "id": "requested-hometown",
   "metadata": {},
   "outputs": [],
   "source": []
  },
  {
   "cell_type": "markdown",
   "id": "violent-occupation",
   "metadata": {
    "slideshow": {
     "slide_type": "slide"
    }
   },
   "source": [
    "# Testing Your Logic\n",
    "## Bools\n",
    "\n",
    "You can also ask Python logical questions (questions that have a \"True\" or \"False\" answer). \n",
    "\n",
    "| \"Is Equal to\" | \"Is Greater than\" | \"Is Greater than or Equal to\"|  \"Is not Equal to\" |\n",
    "|  :----------: |  :----------:     |  :----------: |  :----------: |\n",
    "| ==            |   >               |   >=          |  !=  |\n",
    "\n",
    "Python will return \"True\" if the statement is true, \"False\" if False\n",
    "\n",
    "```python\n",
    ">>> 3 > 2\n",
    "True\n",
    "\n",
    ">>> 3 < 2\n",
    "False\n",
    "\n",
    ">>> 3 == 2\n",
    "False\n",
    "```\n",
    "\n",
    "Using logical operators, decide if the following assertions are True or False:"
   ]
  },
  {
   "cell_type": "markdown",
   "id": "average-venezuela",
   "metadata": {
    "slideshow": {
     "slide_type": "subslide"
    }
   },
   "source": [
    "1. One hundred is bigger than ten."
   ]
  },
  {
   "cell_type": "code",
   "execution_count": null,
   "id": "suitable-ranking",
   "metadata": {},
   "outputs": [],
   "source": []
  },
  {
   "cell_type": "markdown",
   "id": "friendly-vegetation",
   "metadata": {
    "slideshow": {
     "slide_type": "fragment"
    }
   },
   "source": [
    "2. Thirty squared is not equal to nine-hundred."
   ]
  },
  {
   "cell_type": "code",
   "execution_count": null,
   "id": "extensive-venture",
   "metadata": {},
   "outputs": [],
   "source": []
  },
  {
   "cell_type": "markdown",
   "id": "endless-graduate",
   "metadata": {
    "slideshow": {
     "slide_type": "fragment"
    }
   },
   "source": [
    "3. These two equations are equal:  \n",
    "  - 30 - 5 * 2\n",
    "  - 100 / 5"
   ]
  },
  {
   "cell_type": "code",
   "execution_count": null,
   "id": "changed-separation",
   "metadata": {},
   "outputs": [],
   "source": []
  },
  {
   "cell_type": "markdown",
   "id": "ordinary-gothic",
   "metadata": {
    "slideshow": {
     "slide_type": "subslide"
    }
   },
   "source": [
    "4. The sum of the numbers from 1 to 5 are at least 15."
   ]
  },
  {
   "cell_type": "code",
   "execution_count": null,
   "id": "engaged-ethnic",
   "metadata": {},
   "outputs": [],
   "source": []
  },
  {
   "cell_type": "markdown",
   "id": "eligible-proxy",
   "metadata": {
    "slideshow": {
     "slide_type": "slide"
    }
   },
   "source": [
    "## Python as an Ecosystem of Functions\n",
    "\n",
    "There are millions of functions that can be used in Python.  To access them, you first have to **import** their **packages/modules**.  Then you can specify the functions inside the packages using the following syntax:\n",
    "\n",
    "```python\n",
    "import package\n",
    "output = package.function(input)\n",
    "```\n",
    "\n",
    "To get a list of functions in a package, try using the **dir()** function or press the <TAB> key after the dot (autocompletion feature). .  To learn what the function does, try the **help()** function or put a question mark after the function name.\n",
    "\n",
    "```python\n",
    "import math\n",
    "dir(math)\n",
    "help(math.sqrt)\n",
    "math.sqrt?\n",
    "```\n"
   ]
  },
  {
   "cell_type": "markdown",
   "id": "homeless-intention",
   "metadata": {
    "slideshow": {
     "slide_type": "subslide"
    }
   },
   "source": [
    "Let's try out the built-in **math**package to do some calculating!"
   ]
  },
  {
   "cell_type": "markdown",
   "id": "possible-province",
   "metadata": {
    "slideshow": {
     "slide_type": "subslide"
    }
   },
   "source": [
    "What is the square root of 72?"
   ]
  },
  {
   "cell_type": "code",
   "execution_count": null,
   "id": "composed-hands",
   "metadata": {},
   "outputs": [],
   "source": []
  },
  {
   "cell_type": "markdown",
   "id": "ignored-retail",
   "metadata": {},
   "source": [
    "What is the log of 20?"
   ]
  },
  {
   "cell_type": "code",
   "execution_count": null,
   "id": "located-senegal",
   "metadata": {},
   "outputs": [],
   "source": []
  },
  {
   "cell_type": "markdown",
   "id": "impressed-bridge",
   "metadata": {
    "slideshow": {
     "slide_type": "fragment"
    }
   },
   "source": [
    "What is pi?"
   ]
  },
  {
   "cell_type": "code",
   "execution_count": null,
   "id": "cellular-mercy",
   "metadata": {},
   "outputs": [],
   "source": []
  },
  {
   "cell_type": "markdown",
   "id": "italian-parameter",
   "metadata": {
    "slideshow": {
     "slide_type": "fragment"
    }
   },
   "source": [
    "What how many radians are in 360 degrees?"
   ]
  },
  {
   "cell_type": "code",
   "execution_count": null,
   "id": "applicable-framework",
   "metadata": {},
   "outputs": [],
   "source": []
  },
  {
   "cell_type": "markdown",
   "id": "gentle-channel",
   "metadata": {},
   "source": [
    "What is the cosine of pi?"
   ]
  },
  {
   "cell_type": "code",
   "execution_count": null,
   "id": "wooden-istanbul",
   "metadata": {},
   "outputs": [],
   "source": []
  },
  {
   "cell_type": "markdown",
   "id": "traditional-printer",
   "metadata": {},
   "source": [
    "What is the sine of pi?"
   ]
  },
  {
   "cell_type": "code",
   "execution_count": null,
   "id": "funny-portugal",
   "metadata": {},
   "outputs": [],
   "source": []
  },
  {
   "cell_type": "markdown",
   "id": "placed-detector",
   "metadata": {
    "slideshow": {
     "slide_type": "fragment"
    }
   },
   "source": [
    "Pyton has a reputation for being \"batteries included\", meaning it has a big standard library.  Look for names of some more built-in packages online! \n",
    "\n",
    "**Exercise**: Import three different built-in packages that are listed in the documentation for the Python Standard Library: https://docs.python.org/3/library/index.html"
   ]
  },
  {
   "cell_type": "code",
   "execution_count": null,
   "id": "posted-looking",
   "metadata": {},
   "outputs": [],
   "source": []
  },
  {
   "cell_type": "code",
   "execution_count": null,
   "id": "regular-decrease",
   "metadata": {},
   "outputs": [],
   "source": []
  },
  {
   "cell_type": "code",
   "execution_count": null,
   "id": "jewish-interface",
   "metadata": {},
   "outputs": [],
   "source": []
  },
  {
   "cell_type": "markdown",
   "id": "atomic-danish",
   "metadata": {
    "slideshow": {
     "slide_type": "slide"
    }
   },
   "source": [
    "## Aggregating Your Collections into Single Values (Descriptive Statistics)\n",
    "\n",
    "Python can use named **functions** that turn data into something else.  By doing this repeatedly, in sequence, we can build data processing pipelines!\n",
    "\n",
    "Functions in Python have the following syntax:\n",
    "\n",
    "```\n",
    "output = function(input)\n",
    "```\n",
    "\n",
    "First, let's look at some **built-in** functions to get a sense of how they work:  **min()**, **max()**, **sum()**, and **len()**:\n",
    "\n",
    "```python\n",
    ">>> min([1, 2, 3, 2])\n",
    "1\n",
    "\n",
    ">>> max([1, 2, 3, 2])\n",
    "3\n",
    "\n",
    ">>> sum([1, 2, 3, 2])\n",
    "8\n",
    "\n",
    ">>> len([1, 2, 3, 2])\n",
    "4\n",
    "```"
   ]
  },
  {
   "cell_type": "markdown",
   "id": "curious-gossip",
   "metadata": {
    "slideshow": {
     "slide_type": "subslide"
    }
   },
   "source": [
    "### Exercises: \n",
    "Read the following lines of Python and predict their output.  Then, run the code to see if you were correct."
   ]
  },
  {
   "cell_type": "markdown",
   "id": "numerous-craft",
   "metadata": {
    "slideshow": {
     "slide_type": "fragment"
    }
   },
   "source": [
    "```python\n",
    "min([3, 6, 5, 2])\n",
    "```"
   ]
  },
  {
   "cell_type": "code",
   "execution_count": null,
   "id": "oriental-locking",
   "metadata": {},
   "outputs": [],
   "source": []
  },
  {
   "cell_type": "markdown",
   "id": "tropical-questionnaire",
   "metadata": {
    "slideshow": {
     "slide_type": "fragment"
    }
   },
   "source": [
    "```python\n",
    "max([3, 6, 5, 2])\n",
    "```"
   ]
  },
  {
   "cell_type": "code",
   "execution_count": null,
   "id": "american-deputy",
   "metadata": {},
   "outputs": [],
   "source": []
  },
  {
   "cell_type": "markdown",
   "id": "shared-workstation",
   "metadata": {
    "slideshow": {
     "slide_type": "fragment"
    }
   },
   "source": [
    "```python\n",
    "max([1, 2, 3, 4, 5, 6])\n",
    "```"
   ]
  },
  {
   "cell_type": "code",
   "execution_count": null,
   "id": "manufactured-andorra",
   "metadata": {},
   "outputs": [],
   "source": []
  },
  {
   "cell_type": "markdown",
   "id": "increasing-collector",
   "metadata": {
    "slideshow": {
     "slide_type": "subslide"
    }
   },
   "source": [
    "```python\n",
    "len({3, 4, 5, 5, 4})\n",
    "```"
   ]
  },
  {
   "cell_type": "code",
   "execution_count": null,
   "id": "capable-cover",
   "metadata": {},
   "outputs": [],
   "source": []
  },
  {
   "cell_type": "markdown",
   "id": "american-christian",
   "metadata": {},
   "source": [
    "```python\n",
    "len([1, 2, 5, 6])\n",
    "```"
   ]
  },
  {
   "cell_type": "code",
   "execution_count": null,
   "id": "aging-massage",
   "metadata": {},
   "outputs": [],
   "source": []
  },
  {
   "cell_type": "markdown",
   "id": "republican-stadium",
   "metadata": {
    "slideshow": {
     "slide_type": "fragment"
    }
   },
   "source": [
    "```python\n",
    "(min([1, 2]), max([3, 4, 5]))\n",
    "```"
   ]
  },
  {
   "cell_type": "code",
   "execution_count": null,
   "id": "private-tomorrow",
   "metadata": {},
   "outputs": [],
   "source": []
  },
  {
   "cell_type": "markdown",
   "id": "hazardous-single",
   "metadata": {
    "slideshow": {
     "slide_type": "subslide"
    }
   },
   "source": [
    "```python\n",
    "min([max((2, 4, 1)), len((2, 4, 1)), min(2, 4, 1)])\n",
    "```"
   ]
  },
  {
   "cell_type": "code",
   "execution_count": null,
   "id": "decent-possibility",
   "metadata": {},
   "outputs": [],
   "source": []
  }
 ],
 "metadata": {
  "kernelspec": {
   "display_name": "Python 3",
   "language": "python",
   "name": "python3"
  },
  "language_info": {
   "codemirror_mode": {
    "name": "ipython",
    "version": 3
   },
   "file_extension": ".py",
   "mimetype": "text/x-python",
   "name": "python",
   "nbconvert_exporter": "python",
   "pygments_lexer": "ipython3",
   "version": "3.8.3"
  }
 },
 "nbformat": 4,
 "nbformat_minor": 5
}
