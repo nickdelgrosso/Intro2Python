{
 "cells": [
  {
   "cell_type": "code",
   "execution_count": 2,
   "id": "apparent-optimum",
   "metadata": {},
   "outputs": [],
   "source": [
    "import numpy as np"
   ]
  },
  {
   "cell_type": "markdown",
   "id": "shared-quality",
   "metadata": {},
   "source": [
    "# Numpy Arrays  vs Python Lists\n",
    "\n",
    "Like Python Lists, numpy Arrays are ordered sequences of data.  However, they have slightly different properties than Python lists:\n",
    "\n",
    "| Property | Lists | Arrays |\n",
    "| :--:     | :--:  | :--:   |\n",
    "| Ordered  | ✔️    | ✔️ |\n",
    "| Mutable | ✔️    | ✔️ |\n",
    "| Can Mix Data Types | ✔️ |   |\n",
    "| Append Data without Copying Whole Structure | ✔️  |  |\n",
    "| Broadcastable |  | ✔️ |\n",
    "| Fast Calculations |   | ✔️ |\n",
    "| Fast Append | ✔️ |  |\n",
    "\n"
   ]
  },
  {
   "cell_type": "markdown",
   "id": "massive-agent",
   "metadata": {},
   "source": [
    "### Exercises \n",
    "Let's explore each property and compare lists and arrays"
   ]
  },
  {
   "cell_type": "markdown",
   "id": "charitable-enzyme",
   "metadata": {},
   "source": [
    "#### Ordered Index"
   ]
  },
  {
   "cell_type": "markdown",
   "id": "rising-knowing",
   "metadata": {},
   "source": [
    "Index the third element of these data collections:"
   ]
  },
  {
   "cell_type": "markdown",
   "id": "earlier-result",
   "metadata": {},
   "source": [
    "List:"
   ]
  },
  {
   "cell_type": "code",
   "execution_count": 31,
   "id": "independent-indication",
   "metadata": {},
   "outputs": [
    {
     "data": {
      "text/plain": [
       "30"
      ]
     },
     "execution_count": 31,
     "metadata": {},
     "output_type": "execute_result"
    }
   ],
   "source": [
    "x = [10, 20, 30, 40, 50]\n",
    "x[2]"
   ]
  },
  {
   "cell_type": "markdown",
   "id": "creative-brake",
   "metadata": {},
   "source": [
    "Array:"
   ]
  },
  {
   "cell_type": "code",
   "execution_count": 32,
   "id": "caroline-oklahoma",
   "metadata": {},
   "outputs": [
    {
     "data": {
      "text/plain": [
       "30"
      ]
     },
     "execution_count": 32,
     "metadata": {},
     "output_type": "execute_result"
    }
   ],
   "source": [
    "x = np.array([10, 20, 30, 40, 50])\n",
    "x[2]"
   ]
  },
  {
   "cell_type": "code",
   "execution_count": null,
   "id": "otherwise-great",
   "metadata": {},
   "outputs": [],
   "source": []
  },
  {
   "cell_type": "markdown",
   "id": "minimal-growing",
   "metadata": {},
   "source": [
    "#### Ordered Slicing"
   ]
  },
  {
   "cell_type": "markdown",
   "id": "acoustic-westminster",
   "metadata": {},
   "source": [
    "Slice out the second-to-fourth element of these data collections:"
   ]
  },
  {
   "cell_type": "markdown",
   "id": "genetic-carrier",
   "metadata": {},
   "source": [
    "List:"
   ]
  },
  {
   "cell_type": "code",
   "execution_count": 35,
   "id": "furnished-sharing",
   "metadata": {},
   "outputs": [
    {
     "data": {
      "text/plain": [
       "[20, 30, 40]"
      ]
     },
     "execution_count": 35,
     "metadata": {},
     "output_type": "execute_result"
    }
   ],
   "source": [
    "x = [10, 20, 30, 40, 50]\n",
    "x[1:4]"
   ]
  },
  {
   "cell_type": "markdown",
   "id": "intimate-joseph",
   "metadata": {},
   "source": [
    "Array:"
   ]
  },
  {
   "cell_type": "code",
   "execution_count": 36,
   "id": "married-vulnerability",
   "metadata": {},
   "outputs": [
    {
     "data": {
      "text/plain": [
       "array([20, 30, 40])"
      ]
     },
     "execution_count": 36,
     "metadata": {},
     "output_type": "execute_result"
    }
   ],
   "source": [
    "x = np.array([10, 20, 30, 40, 50])\n",
    "x[1:4]"
   ]
  },
  {
   "cell_type": "markdown",
   "id": "russian-bones",
   "metadata": {},
   "source": [
    "#### \"Mutate\" a Value inside a Collection"
   ]
  },
  {
   "cell_type": "markdown",
   "id": "super-reviewer",
   "metadata": {},
   "source": [
    "Change the third element of these data collections to the value \"A\":\n",
    "```python\n",
    "data[index] = value\n",
    "```"
   ]
  },
  {
   "cell_type": "markdown",
   "id": "expired-following",
   "metadata": {},
   "source": [
    "List:"
   ]
  },
  {
   "cell_type": "code",
   "execution_count": 40,
   "id": "musical-demographic",
   "metadata": {},
   "outputs": [
    {
     "data": {
      "text/plain": [
       "['A', 'C', 'A', 'G', 'C', 'T']"
      ]
     },
     "execution_count": 40,
     "metadata": {},
     "output_type": "execute_result"
    }
   ],
   "source": [
    "x = [\"A\", \"C\", \"G\", \"G\", \"C\", \"T\"]\n",
    "x[2]= \"A\"\n",
    "x"
   ]
  },
  {
   "cell_type": "markdown",
   "id": "choice-facial",
   "metadata": {},
   "source": [
    "Array:"
   ]
  },
  {
   "cell_type": "code",
   "execution_count": 41,
   "id": "viral-saturn",
   "metadata": {},
   "outputs": [
    {
     "data": {
      "text/plain": [
       "array(['A', 'C', 'A', 'G', 'C', 'T'], dtype='<U1')"
      ]
     },
     "execution_count": 41,
     "metadata": {},
     "output_type": "execute_result"
    }
   ],
   "source": [
    "x = np.array([\"A\", \"C\", \"G\", \"G\", \"C\", \"T\"])\n",
    "x[2]=\"A\"\n",
    "x"
   ]
  },
  {
   "cell_type": "markdown",
   "id": "brown-champion",
   "metadata": {},
   "source": [
    "#### Mixing Data Types"
   ]
  },
  {
   "cell_type": "markdown",
   "id": "generous-kazakhstan",
   "metadata": {},
   "source": [
    "Change the third element of these data collections to the value 40:\n",
    "```python\n",
    "data[index] = value\n",
    "```"
   ]
  },
  {
   "cell_type": "markdown",
   "id": "turkish-lambda",
   "metadata": {},
   "source": [
    "List:"
   ]
  },
  {
   "cell_type": "code",
   "execution_count": 42,
   "id": "material-excitement",
   "metadata": {},
   "outputs": [
    {
     "data": {
      "text/plain": [
       "['A', 'C', 'AT', 'G', 'C', 'T']"
      ]
     },
     "execution_count": 42,
     "metadata": {},
     "output_type": "execute_result"
    }
   ],
   "source": [
    "x = [\"A\", \"C\", \"G\", \"G\", \"C\", \"T\"]\n",
    "x[2]=\"AT\"\n",
    "x"
   ]
  },
  {
   "cell_type": "markdown",
   "id": "surface-namibia",
   "metadata": {},
   "source": [
    "Array:"
   ]
  },
  {
   "cell_type": "code",
   "execution_count": 48,
   "id": "solar-appraisal",
   "metadata": {},
   "outputs": [
    {
     "data": {
      "text/plain": [
       "array(['ATG', 'CGA', 'GT', 'GTT', 'CTT', 'TGA'], dtype='<U3')"
      ]
     },
     "execution_count": 48,
     "metadata": {},
     "output_type": "execute_result"
    }
   ],
   "source": [
    "x = np.array([\"ATG\", \"CGA\", \"GCT\", \"GTT\", \"CTT\", \"TGA\"])\n",
    "x[2]=\"GT\"\n",
    "x"
   ]
  },
  {
   "cell_type": "markdown",
   "id": "approximate-association",
   "metadata": {},
   "source": [
    "#### Append Values"
   ]
  },
  {
   "cell_type": "markdown",
   "id": "republican-soviet",
   "metadata": {},
   "source": [
    "Append a new value to the end of these data:"
   ]
  },
  {
   "cell_type": "markdown",
   "id": "surgical-phase",
   "metadata": {},
   "source": [
    "List:\n",
    "```python\n",
    "data.append(value)\n",
    "```"
   ]
  },
  {
   "cell_type": "code",
   "execution_count": 51,
   "id": "dental-hopkins",
   "metadata": {},
   "outputs": [
    {
     "data": {
      "text/plain": [
       "['A', 'C', 'G', 'G', 'C', 'T', 'A']"
      ]
     },
     "execution_count": 51,
     "metadata": {},
     "output_type": "execute_result"
    }
   ],
   "source": [
    "x = [\"A\", \"C\", \"G\", \"G\", \"C\", \"T\"]\n",
    "x.append(\"A\")\n",
    "x"
   ]
  },
  {
   "cell_type": "code",
   "execution_count": 53,
   "id": "italic-excuse",
   "metadata": {},
   "outputs": [
    {
     "data": {
      "text/plain": [
       "['A', 'C', 'G', 'A', 'G', 'C', 'T']"
      ]
     },
     "execution_count": 53,
     "metadata": {},
     "output_type": "execute_result"
    }
   ],
   "source": [
    "x = [\"A\", \"C\", \"G\", \"G\", \"C\", \"T\"]\n",
    "x.insert(3, \"A\")\n",
    "x"
   ]
  },
  {
   "cell_type": "markdown",
   "id": "tribal-business",
   "metadata": {},
   "source": [
    "Array:\n",
    "```python\n",
    "np.append(data, value)\n",
    "```"
   ]
  },
  {
   "cell_type": "code",
   "execution_count": 56,
   "id": "opposed-vampire",
   "metadata": {},
   "outputs": [
    {
     "data": {
      "text/plain": [
       "array(['A', 'C', 'G', 'G', 'C', 'T'], dtype='<U1')"
      ]
     },
     "execution_count": 56,
     "metadata": {},
     "output_type": "execute_result"
    }
   ],
   "source": [
    "x = np.array([\"A\", \"C\", \"G\", \"G\", \"C\", \"T\"])\n",
    "np.append(x, \"A\")\n",
    "x"
   ]
  },
  {
   "cell_type": "markdown",
   "id": "provincial-prototype",
   "metadata": {},
   "source": [
    "### Broadcasting\n",
    "\n",
    "Run the following code, which multiplies every value in the collection by 10"
   ]
  },
  {
   "cell_type": "markdown",
   "id": "actual-marking",
   "metadata": {},
   "source": [
    "List:"
   ]
  },
  {
   "cell_type": "code",
   "execution_count": 61,
   "id": "urban-virtue",
   "metadata": {},
   "outputs": [
    {
     "data": {
      "text/plain": [
       "[1, 2, 3, 4, 5]"
      ]
     },
     "execution_count": 61,
     "metadata": {},
     "output_type": "execute_result"
    }
   ],
   "source": [
    "data = [1, 2, 3, 4, 5]\n",
    "data"
   ]
  },
  {
   "cell_type": "code",
   "execution_count": 63,
   "id": "color-testing",
   "metadata": {},
   "outputs": [],
   "source": [
    "data * 10;"
   ]
  },
  {
   "cell_type": "code",
   "execution_count": 58,
   "id": "loose-queen",
   "metadata": {},
   "outputs": [
    {
     "data": {
      "text/plain": [
       "[10, 20, 30, 40, 50]"
      ]
     },
     "execution_count": 58,
     "metadata": {},
     "output_type": "execute_result"
    }
   ],
   "source": [
    "data10 = [x * 10 for x in data]\n",
    "data10"
   ]
  },
  {
   "cell_type": "markdown",
   "id": "renewable-split",
   "metadata": {},
   "source": [
    "Array:"
   ]
  },
  {
   "cell_type": "code",
   "execution_count": 59,
   "id": "satisfactory-details",
   "metadata": {},
   "outputs": [
    {
     "data": {
      "text/plain": [
       "array([1, 2, 3, 4, 5])"
      ]
     },
     "execution_count": 59,
     "metadata": {},
     "output_type": "execute_result"
    }
   ],
   "source": [
    "data = np.array([1, 2, 3, 4, 5])\n",
    "data"
   ]
  },
  {
   "cell_type": "code",
   "execution_count": 60,
   "id": "posted-chemical",
   "metadata": {},
   "outputs": [
    {
     "data": {
      "text/plain": [
       "array([10, 20, 30, 40, 50])"
      ]
     },
     "execution_count": 60,
     "metadata": {},
     "output_type": "execute_result"
    }
   ],
   "source": [
    "data10 = data * 10\n",
    "data10"
   ]
  },
  {
   "cell_type": "markdown",
   "id": "parliamentary-immigration",
   "metadata": {},
   "source": [
    "### Fast Calculations\n",
    "\n",
    "Run the following code, which multiplies every value in the collection by 10.  This time, take a look at how long it takes to run.  Which is faster?\n",
    "\n",
    "Note: the ```%%timeit``` magic command runs the cell many times and reports the average amount of time each run of the cell's code took."
   ]
  },
  {
   "cell_type": "markdown",
   "id": "lonely-supervision",
   "metadata": {},
   "source": [
    "List:"
   ]
  },
  {
   "cell_type": "code",
   "execution_count": 66,
   "id": "english-french",
   "metadata": {},
   "outputs": [
    {
     "data": {
      "text/plain": [
       "1000000.0"
      ]
     },
     "execution_count": 66,
     "metadata": {},
     "output_type": "execute_result"
    }
   ],
   "source": [
    "1e6 "
   ]
  },
  {
   "cell_type": "code",
   "execution_count": 68,
   "id": "loved-terrorism",
   "metadata": {},
   "outputs": [],
   "source": [
    "data = list(range(0, 1_000_000))\n",
    "# data"
   ]
  },
  {
   "cell_type": "code",
   "execution_count": 69,
   "id": "ranking-borough",
   "metadata": {},
   "outputs": [
    {
     "name": "stdout",
     "output_type": "stream",
     "text": [
      "97 ms ± 522 µs per loop (mean ± std. dev. of 7 runs, 10 loops each)\n"
     ]
    }
   ],
   "source": [
    "%%timeit\n",
    "data10 = [x * 10 for x in data]"
   ]
  },
  {
   "cell_type": "markdown",
   "id": "least-flavor",
   "metadata": {},
   "source": [
    "Array:"
   ]
  },
  {
   "cell_type": "code",
   "execution_count": 70,
   "id": "favorite-disposal",
   "metadata": {},
   "outputs": [
    {
     "data": {
      "text/plain": [
       "array([     0,      1,      2, ..., 999997, 999998, 999999])"
      ]
     },
     "execution_count": 70,
     "metadata": {},
     "output_type": "execute_result"
    }
   ],
   "source": [
    "data = np.arange(0, 1_000_000)\n",
    "data"
   ]
  },
  {
   "cell_type": "code",
   "execution_count": 71,
   "id": "remarkable-player",
   "metadata": {},
   "outputs": [
    {
     "name": "stdout",
     "output_type": "stream",
     "text": [
      "1.99 ms ± 62.3 µs per loop (mean ± std. dev. of 7 runs, 100 loops each)\n"
     ]
    }
   ],
   "source": [
    "%%timeit\n",
    "data10 = data * 10"
   ]
  },
  {
   "cell_type": "markdown",
   "id": "delayed-maine",
   "metadata": {},
   "source": [
    "### Fast Append\n",
    "\n",
    "Run the following code, which appends a new value to a list a thousand times.  Which is faster?\n"
   ]
  },
  {
   "cell_type": "markdown",
   "id": "retained-table",
   "metadata": {},
   "source": [
    "List:"
   ]
  },
  {
   "cell_type": "code",
   "execution_count": 73,
   "id": "thirty-louisiana",
   "metadata": {},
   "outputs": [
    {
     "name": "stdout",
     "output_type": "stream",
     "text": [
      "779 µs ± 27.4 µs per loop (mean ± std. dev. of 7 runs, 1000 loops each)\n"
     ]
    }
   ],
   "source": [
    "%%timeit\n",
    "data = []  # an empty list\n",
    "for _ in range(10000):  # repeat the same code 1000 times\n",
    "    data.append(\"A\")\n"
   ]
  },
  {
   "cell_type": "markdown",
   "id": "cognitive-england",
   "metadata": {},
   "source": [
    "Array:"
   ]
  },
  {
   "cell_type": "code",
   "execution_count": 74,
   "id": "jewish-transparency",
   "metadata": {},
   "outputs": [
    {
     "name": "stdout",
     "output_type": "stream",
     "text": [
      "81.3 ms ± 734 µs per loop (mean ± std. dev. of 7 runs, 10 loops each)\n"
     ]
    }
   ],
   "source": [
    "%%timeit\n",
    "data = np.array([], dtype=str)  # an empty array\n",
    "for _ in range(10000):  # repeat the same code 1000 times\n",
    "    data = np.append(data, \"A\")"
   ]
  },
  {
   "cell_type": "markdown",
   "id": "golden-mineral",
   "metadata": {},
   "source": [
    "### Summary\n",
    "So long as your data is complete and well-organized, arrays are quite handy!  They are simple to work with and can crunch a lot of numbers in a short time!  On the other hand, if you want maximum flexibility, lists are perfect!"
   ]
  },
  {
   "cell_type": "markdown",
   "id": "promotional-inside",
   "metadata": {},
   "source": [
    "## Multidimensional Arrays with Numpy\n",
    "\n",
    "\n",
    "Numpy arrays can be multidimensional: they can be squares, cubes, hypercubes, etc!  When choosing datastructures, Arrays are best chosen when all of the values in the structure represent the same variable.\n",
    "\n",
    "With multidimensional arrays, everything is pretty much the same as the 1-dimensional case, with the addition of a few options for specifiying which order the dimensions should be in, and which dimension an operation should operate on."
   ]
  },
  {
   "cell_type": "markdown",
   "id": "little-bunch",
   "metadata": {},
   "source": [
    "### Creating Multidimensional Arrays\n",
    "\n",
    "Most of the array-generation functions have a **shape** or **size** optional argument in them.  If you provide a tuple with a new shape specifying the number of elements along each dimension (e.g. (5, 3) will produce a matrix with 5 rows and 3 columns), it will give you something multidimensional!\n",
    "\n",
    "```python\n",
    ">>> data = np.random.randint(1, 10, size=(4, 5))\n",
    ">>> data\n",
    "array([[9, 7, 4, 2, 3],\n",
    "       [3, 6, 7, 4, 8],\n",
    "       [3, 6, 8, 7, 3],\n",
    "       [6, 9, 4, 2, 2]])\n",
    "```\n",
    "\n",
    "For cases where there is no such option, all arrays have a **reshape()** method that lets you make it more-dimensional.  To simply **flatten** the matrix to a single dimension, you can use the **flatten()** method.\n",
    "\n",
    "```python\n",
    ">>> data.reshape(2, 10)\n",
    "array([[9, 7, 4, 2, 3, 3, 6, 7, 4, 8],\n",
    "       [3, 6, 8, 7, 3, 6, 9, 4, 2, 2]])\n",
    "\n",
    ">>> data.flatten()\n",
    "array([9, 7, 4, 2, 3, 3, 6, 7, 4, 8, 3, 6, 8, 7, 3, 6, 9, 4, 2, 2])\n",
    "```\n",
    "\n",
    "Numpy also has some auto-calculation features to make it a bit easier to get the shape you need:\n",
    "\n",
    "```python\n",
    ">>> data.reshape(-1, 5)  # -1 tells the reshape() method to calculate the value in that spot\n",
    "array([[9, 7, 4, 2, 3],\n",
    "       [3, 6, 7, 4, 8],\n",
    "       [3, 6, 8, 7, 3],\n",
    "       [6, 9, 4, 2, 2]])\n",
    "\n",
    ">>> data.flatten()[np.newaxis, :]  # Makes a 1xN array\n",
    ">>> data.flatten()[None, :]  # Also Makes a 1xN array\n",
    ">>> data.flatten()[:, None]  # Makes an Nx1 array\n",
    "```\n",
    "\n",
    "And if an array has some extra dimensions you don't care about (like a 32x1x1 array, and you just want a 32 array), you can use the **squeeze()** method to squeeze out those extra dimensions!\n",
    "\n",
    "Finally, you can find out the shape of a matrix by getting its **shape** attribute.  And to get the total number of elements, check its **size** attribute.\n",
    "\n",
    "```python\n",
    ">>> data.shape\n",
    "(4, 5)\n",
    "\n",
    ">>> data.size\n",
    "20\n",
    "```"
   ]
  },
  {
   "cell_type": "markdown",
   "id": "designing-flexibility",
   "metadata": {},
   "source": [
    "#### Exercises"
   ]
  },
  {
   "cell_type": "markdown",
   "id": "outstanding-thumbnail",
   "metadata": {},
   "source": [
    "Generate a 3 x 10 array of random integers between 1 and 4."
   ]
  },
  {
   "cell_type": "code",
   "execution_count": 76,
   "id": "interior-broadcast",
   "metadata": {},
   "outputs": [
    {
     "data": {
      "text/plain": [
       "array([[1, 4, 1, 3, 4, 2, 1, 1, 4, 4],\n",
       "       [1, 4, 2, 2, 4, 4, 1, 2, 2, 3],\n",
       "       [2, 4, 3, 2, 3, 4, 3, 2, 2, 3]])"
      ]
     },
     "execution_count": 76,
     "metadata": {},
     "output_type": "execute_result"
    }
   ],
   "source": [
    "x = np.random.randint(1, 5, size=(3, 10))\n",
    "x"
   ]
  },
  {
   "cell_type": "markdown",
   "id": "external-sixth",
   "metadata": {},
   "source": [
    "Make an array with all the values between 0 and 11, and reshape it into a 3 x 4 matrix..."
   ]
  },
  {
   "cell_type": "code",
   "execution_count": 78,
   "id": "induced-calibration",
   "metadata": {},
   "outputs": [
    {
     "data": {
      "text/plain": [
       "array([[1, 4, 1, 3, 4, 2, 1, 1, 4, 4],\n",
       "       [1, 4, 2, 2, 4, 4, 1, 2, 2, 3],\n",
       "       [2, 4, 3, 2, 3, 4, 3, 2, 2, 3]])"
      ]
     },
     "execution_count": 78,
     "metadata": {},
     "output_type": "execute_result"
    }
   ],
   "source": [
    "x2 = x.reshape(15, 2)\n",
    "x"
   ]
  },
  {
   "cell_type": "markdown",
   "id": "fifth-integrity",
   "metadata": {},
   "source": [
    "...Reshape the previous array into a 4 x 3 matrix..."
   ]
  },
  {
   "cell_type": "code",
   "execution_count": null,
   "id": "radio-concentrate",
   "metadata": {},
   "outputs": [],
   "source": []
  },
  {
   "cell_type": "markdown",
   "id": "protective-person",
   "metadata": {},
   "source": [
    "...Reshape that array into a 2 x 6 matrix..."
   ]
  },
  {
   "cell_type": "code",
   "execution_count": null,
   "id": "necessary-collect",
   "metadata": {},
   "outputs": [],
   "source": []
  },
  {
   "cell_type": "markdown",
   "id": "going-flexibility",
   "metadata": {},
   "source": [
    "...Then flatten it."
   ]
  },
  {
   "cell_type": "code",
   "execution_count": null,
   "id": "loaded-husband",
   "metadata": {},
   "outputs": [],
   "source": []
  },
  {
   "cell_type": "markdown",
   "id": "standing-council",
   "metadata": {},
   "source": [
    "Confirm its shape.  Is it the same as its size?"
   ]
  },
  {
   "cell_type": "code",
   "execution_count": null,
   "id": "educated-arrest",
   "metadata": {},
   "outputs": [],
   "source": []
  },
  {
   "cell_type": "markdown",
   "id": "consolidated-ridge",
   "metadata": {},
   "source": [
    "### Reordering Dimensions\n",
    "\n",
    "There are many ways to transpose matrices:\n",
    "  - array.T\n",
    "  - array.transpose()\n",
    "  - np.transpose(array)\n",
    "  - array.swapaxes()\n",
    "\n",
    "Try using each of them on the array **x**."
   ]
  },
  {
   "cell_type": "code",
   "execution_count": 80,
   "id": "standard-standard",
   "metadata": {},
   "outputs": [
    {
     "data": {
      "text/plain": [
       "array([[1, 4, 1, 3, 4, 2, 1, 1, 4, 4],\n",
       "       [1, 4, 2, 2, 4, 4, 1, 2, 2, 3],\n",
       "       [2, 4, 3, 2, 3, 4, 3, 2, 2, 3]])"
      ]
     },
     "execution_count": 80,
     "metadata": {},
     "output_type": "execute_result"
    }
   ],
   "source": [
    "x.me"
   ]
  },
  {
   "cell_type": "code",
   "execution_count": 79,
   "id": "cooperative-spencer",
   "metadata": {},
   "outputs": [
    {
     "data": {
      "text/plain": [
       "array([[1, 3],\n",
       "       [2, 4]])"
      ]
     },
     "execution_count": 79,
     "metadata": {},
     "output_type": "execute_result"
    }
   ],
   "source": [
    "np.transpose([[1, 2], [3, 4]])"
   ]
  },
  {
   "cell_type": "code",
   "execution_count": 16,
   "id": "surgical-exhaust",
   "metadata": {},
   "outputs": [
    {
     "data": {
      "text/plain": [
       "array([[ 0,  1,  2,  3],\n",
       "       [ 4,  5,  6,  7],\n",
       "       [ 8,  9, 10, 11]])"
      ]
     },
     "execution_count": 16,
     "metadata": {},
     "output_type": "execute_result"
    }
   ],
   "source": [
    "x = np.arange(12).reshape(3, 4)\n",
    "x"
   ]
  },
  {
   "cell_type": "markdown",
   "id": "expensive-petersburg",
   "metadata": {},
   "source": [
    "**Discussion**: Let's try out each of them.  Why does Numpy have these options?  What's the benefit?"
   ]
  },
  {
   "cell_type": "code",
   "execution_count": null,
   "id": "original-strategy",
   "metadata": {},
   "outputs": [],
   "source": []
  },
  {
   "cell_type": "code",
   "execution_count": null,
   "id": "decent-robinson",
   "metadata": {},
   "outputs": [],
   "source": []
  },
  {
   "cell_type": "code",
   "execution_count": null,
   "id": "fabulous-department",
   "metadata": {},
   "outputs": [],
   "source": []
  },
  {
   "cell_type": "code",
   "execution_count": null,
   "id": "royal-collection",
   "metadata": {},
   "outputs": [],
   "source": []
  },
  {
   "cell_type": "markdown",
   "id": "enormous-chinese",
   "metadata": {},
   "source": [
    "### Aggregating Across Axes\n",
    "\n",
    "Almost all of the Numpy functions have an **axis** option, which lets you limit the operation to just that axis.  \n",
    "\n",
    "For example, to get the mean of all rows:\n",
    "\n",
    "```python\n",
    ">>> array = np.arange(12).reshape(3, 4)\n",
    ">>> array.mean(axis=0)\n",
    "array([4., 5., 6., 7.])\n",
    "```\n",
    "\n",
    "And the mean of the columns:\n",
    "\n",
    "```python\n",
    ">>> array.mean(axis=1)\n",
    "array([1.5, 5.5, 9.5])\n",
    "```\n",
    "\n",
    "Notice that the number of dimensions goes down by default whenever you aggregate across the axis.  If you'd like to keep the dimensions the same, you can also use the **keepdims=True** option:\n",
    "\n",
    "```python\n",
    ">>> array.mean(axis=1, keepdims=True)\n",
    "array([[1.5],\n",
    "       [5.5],\n",
    "       [9.5]])\n",
    "```"
   ]
  },
  {
   "cell_type": "markdown",
   "id": "natural-necklace",
   "metadata": {},
   "source": [
    "**Exercises**: Try it out for yourself, with the provided array \"data\":"
   ]
  },
  {
   "cell_type": "code",
   "execution_count": 8,
   "id": "employed-satellite",
   "metadata": {},
   "outputs": [
    {
     "data": {
      "text/plain": [
       "array([[  6,  30, 700],\n",
       "       [  4,  60, 900],\n",
       "       [  2,  60, 700],\n",
       "       [  4,  30, 700],\n",
       "       [  7,  20, 500]])"
      ]
     },
     "execution_count": 8,
     "metadata": {},
     "output_type": "execute_result"
    }
   ],
   "source": [
    "np.random.seed(42)\n",
    "data = np.random.randint(0, 10, size=(5, 3)) * [1, 10, 100]\n",
    "data"
   ]
  },
  {
   "cell_type": "markdown",
   "id": "ceramic-romania",
   "metadata": {},
   "source": [
    "1. What is the mean of each column?"
   ]
  },
  {
   "cell_type": "markdown",
   "id": "japanese-desperate",
   "metadata": {},
   "source": []
  },
  {
   "cell_type": "markdown",
   "id": "systematic-italic",
   "metadata": {},
   "source": [
    "2. What is the standard deviation of each row?"
   ]
  },
  {
   "cell_type": "code",
   "execution_count": null,
   "id": "upper-evolution",
   "metadata": {},
   "outputs": [],
   "source": []
  },
  {
   "cell_type": "markdown",
   "id": "brief-recruitment",
   "metadata": {},
   "source": [
    "3. What is the mean of each column's median?"
   ]
  },
  {
   "cell_type": "code",
   "execution_count": null,
   "id": "institutional-advertising",
   "metadata": {},
   "outputs": [],
   "source": []
  },
  {
   "cell_type": "markdown",
   "id": "strong-fields",
   "metadata": {},
   "source": [
    "## Indexing Exercises"
   ]
  },
  {
   "cell_type": "markdown",
   "id": "continued-enough",
   "metadata": {},
   "source": [
    "Numpy arrays work the same way as other sequences, but they can have multiple dimensions (rows, columns, etc) over which to index/slice the array.\n",
    "\n",
    "```python\n",
    "data = np.array([[0, 1, 2,  3],\n",
    "                 [4, 5, 6,  7],\n",
    "                 [8, 9, 10, 11]]\n",
    "               )\n",
    "second_row = data[1, :]\n",
    "third_column = data[:, 2]\n",
    "```"
   ]
  },
  {
   "cell_type": "markdown",
   "id": "thorough-rally",
   "metadata": {},
   "source": [
    "Using the example dataset *scores*, select only the described elements from each list:"
   ]
  },
  {
   "cell_type": "code",
   "execution_count": 49,
   "id": "sonic-gathering",
   "metadata": {},
   "outputs": [
    {
     "data": {
      "text/plain": [
       "array([[ 1,  2,  3,  4,  5,  6,  7,  8],\n",
       "       [ 9, 10, 11, 12, 13, 14, 15, 16],\n",
       "       [17, 18, 19, 20, 21, 22, 23, 24],\n",
       "       [25, 26, 27, 28, 29, 30, 31, 32],\n",
       "       [33, 34, 35, 36, 37, 38, 39, 40],\n",
       "       [41, 42, 43, 44, 45, 46, 47, 48]])"
      ]
     },
     "execution_count": 49,
     "metadata": {},
     "output_type": "execute_result"
    }
   ],
   "source": [
    "scores = np.arange(1, 49).reshape(6, 8)\n",
    "scores"
   ]
  },
  {
   "cell_type": "markdown",
   "id": "automated-hollywood",
   "metadata": {},
   "source": [
    "The first score in the 2nd row:"
   ]
  },
  {
   "cell_type": "code",
   "execution_count": null,
   "id": "korean-indonesian",
   "metadata": {},
   "outputs": [],
   "source": []
  },
  {
   "cell_type": "markdown",
   "id": "variable-organizer",
   "metadata": {},
   "source": [
    "The third-through-fifth columns:"
   ]
  },
  {
   "cell_type": "code",
   "execution_count": null,
   "id": "surprising-gardening",
   "metadata": {},
   "outputs": [],
   "source": []
  },
  {
   "cell_type": "markdown",
   "id": "historic-torture",
   "metadata": {},
   "source": [
    "The last score:"
   ]
  },
  {
   "cell_type": "code",
   "execution_count": null,
   "id": "alpha-gauge",
   "metadata": {},
   "outputs": [],
   "source": []
  },
  {
   "cell_type": "markdown",
   "id": "medical-placement",
   "metadata": {},
   "source": [
    "The 2nd through 5th score, in the 6th column:"
   ]
  },
  {
   "cell_type": "code",
   "execution_count": null,
   "id": "quarterly-bikini",
   "metadata": {},
   "outputs": [],
   "source": []
  },
  {
   "cell_type": "markdown",
   "id": "renewable-reform",
   "metadata": {},
   "source": [
    "All the scores greater than 20:"
   ]
  },
  {
   "cell_type": "code",
   "execution_count": null,
   "id": "unable-canyon",
   "metadata": {},
   "outputs": [],
   "source": []
  },
  {
   "cell_type": "markdown",
   "id": "danish-dream",
   "metadata": {},
   "source": [
    "The rectangle inscribed by scores 19, 22, 35, and 38:"
   ]
  },
  {
   "cell_type": "code",
   "execution_count": null,
   "id": "dried-romance",
   "metadata": {},
   "outputs": [],
   "source": []
  },
  {
   "cell_type": "markdown",
   "id": "timely-medication",
   "metadata": {},
   "source": [
    "The rectangle inscribed by scores 42, 44, 12, and 10:"
   ]
  },
  {
   "cell_type": "code",
   "execution_count": null,
   "id": "destroyed-missile",
   "metadata": {},
   "outputs": [],
   "source": []
  },
  {
   "cell_type": "markdown",
   "id": "toxic-plain",
   "metadata": {},
   "source": [
    "##### Setting New Values\n",
    "\n",
    "For arrays, indexing can also be used to assign a new value.  Let's try it out, using the following pattern:\n",
    "\n",
    "```python\n",
    "data[0, :] = 10  # changes all values in the first row to 10\n",
    "data\n",
    "```"
   ]
  },
  {
   "cell_type": "code",
   "execution_count": 11,
   "id": "alternative-ethics",
   "metadata": {},
   "outputs": [
    {
     "data": {
      "text/plain": [
       "array([[ 1,  2,  3,  4,  5,  6,  7,  8],\n",
       "       [ 9, 10, 11, 12, 13, 14, 15, 16],\n",
       "       [17, 18, 19, 20, 21, 22, 23, 24],\n",
       "       [25, 26, 27, 28, 29, 30, 31, 32],\n",
       "       [33, 34, 35, 36, 37, 38, 39, 40],\n",
       "       [41, 42, 43, 44, 45, 46, 47, 48]])"
      ]
     },
     "execution_count": 11,
     "metadata": {},
     "output_type": "execute_result"
    }
   ],
   "source": [
    "scores = np.arange(1, 49).reshape(6, 8)\n",
    "scores"
   ]
  },
  {
   "cell_type": "markdown",
   "id": "general-checkout",
   "metadata": {},
   "source": [
    "Change the 3rd column to all 10s:"
   ]
  },
  {
   "cell_type": "code",
   "execution_count": null,
   "id": "controlled-persian",
   "metadata": {},
   "outputs": [],
   "source": []
  },
  {
   "cell_type": "markdown",
   "id": "efficient-display",
   "metadata": {},
   "source": [
    "Change the last score to 999:"
   ]
  },
  {
   "cell_type": "code",
   "execution_count": null,
   "id": "spectacular-nature",
   "metadata": {},
   "outputs": [],
   "source": []
  },
  {
   "cell_type": "markdown",
   "id": "british-bankruptcy",
   "metadata": {},
   "source": [
    "Change the 4th row to 0:"
   ]
  },
  {
   "cell_type": "code",
   "execution_count": null,
   "id": "cultural-console",
   "metadata": {},
   "outputs": [],
   "source": []
  },
  {
   "cell_type": "markdown",
   "id": "diverse-nicaragua",
   "metadata": {},
   "source": [
    "Change the 5th column to nan  (e.g. np.nan)"
   ]
  },
  {
   "cell_type": "code",
   "execution_count": 82,
   "id": "collaborative-greene",
   "metadata": {},
   "outputs": [
    {
     "ename": "ValueError",
     "evalue": "cannot convert float NaN to integer",
     "output_type": "error",
     "traceback": [
      "\u001b[1;31m---------------------------------------------------------------------------\u001b[0m",
      "\u001b[1;31mValueError\u001b[0m                                Traceback (most recent call last)",
      "\u001b[1;32m<ipython-input-82-8a97f1f3f520>\u001b[0m in \u001b[0;36m<module>\u001b[1;34m\u001b[0m\n\u001b[0;32m      1\u001b[0m \u001b[0mx\u001b[0m \u001b[1;33m=\u001b[0m \u001b[0mnp\u001b[0m\u001b[1;33m.\u001b[0m\u001b[0marray\u001b[0m\u001b[1;33m(\u001b[0m\u001b[1;33m[\u001b[0m\u001b[1;36m1\u001b[0m\u001b[1;33m,\u001b[0m \u001b[1;36m2\u001b[0m\u001b[1;33m,\u001b[0m \u001b[1;36m3\u001b[0m\u001b[1;33m,\u001b[0m \u001b[1;36m4\u001b[0m\u001b[1;33m,\u001b[0m \u001b[1;36m5\u001b[0m\u001b[1;33m]\u001b[0m\u001b[1;33m)\u001b[0m\u001b[1;33m\u001b[0m\u001b[1;33m\u001b[0m\u001b[0m\n\u001b[1;32m----> 2\u001b[1;33m \u001b[0mx\u001b[0m\u001b[1;33m[\u001b[0m\u001b[1;36m2\u001b[0m\u001b[1;33m]\u001b[0m \u001b[1;33m=\u001b[0m \u001b[0mnp\u001b[0m\u001b[1;33m.\u001b[0m\u001b[0mnan\u001b[0m\u001b[1;33m\u001b[0m\u001b[1;33m\u001b[0m\u001b[0m\n\u001b[0m\u001b[0;32m      3\u001b[0m \u001b[0mx\u001b[0m\u001b[1;33m\u001b[0m\u001b[1;33m\u001b[0m\u001b[0m\n",
      "\u001b[1;31mValueError\u001b[0m: cannot convert float NaN to integer"
     ]
    }
   ],
   "source": [
    "x = np.array([1, 2, 3, 4, 5])\n",
    "x[2] = np.nan\n",
    "x"
   ]
  },
  {
   "cell_type": "code",
   "execution_count": null,
   "id": "nearby-particular",
   "metadata": {},
   "outputs": [],
   "source": []
  }
 ],
 "metadata": {
  "kernelspec": {
   "display_name": "Python 3",
   "language": "python",
   "name": "python3"
  },
  "language_info": {
   "codemirror_mode": {
    "name": "ipython",
    "version": 3
   },
   "file_extension": ".py",
   "mimetype": "text/x-python",
   "name": "python",
   "nbconvert_exporter": "python",
   "pygments_lexer": "ipython3",
   "version": "3.8.3"
  }
 },
 "nbformat": 4,
 "nbformat_minor": 5
}
