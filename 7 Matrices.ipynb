{
 "cells": [
  {
   "cell_type": "code",
   "execution_count": 2,
   "id": "raised-wheat",
   "metadata": {},
   "outputs": [],
   "source": [
    "import numpy as np"
   ]
  },
  {
   "cell_type": "markdown",
   "id": "indoor-universe",
   "metadata": {},
   "source": [
    "# Numpy Arrays  vs Python Lists\n",
    "\n",
    "Like Python Lists, numpy Arrays are ordered sequences of data.  However, they have slightly different properties than Python lists:\n",
    "\n",
    "| Property | Lists | Arrays |\n",
    "| :--:     | :--:  | :--:   |\n",
    "| Ordered  | ✔️    | ✔️ |\n",
    "| Mutable | ✔️    | ✔️ |\n",
    "| Can Mix Data Types | ✔️ |   |\n",
    "| Append Data without Copying Whole Structure | ✔️  |  |\n",
    "| Broadcastable |  | ✔️ |\n",
    "| Fast Calculations |   | ✔️ |\n",
    "| Fast Append | ✔️ |  |\n",
    "\n"
   ]
  },
  {
   "cell_type": "markdown",
   "id": "selective-stevens",
   "metadata": {},
   "source": [
    "### Exercises \n",
    "Let's explore each property and compare lists and arrays"
   ]
  },
  {
   "cell_type": "markdown",
   "id": "atmospheric-tours",
   "metadata": {},
   "source": [
    "#### Ordered Index"
   ]
  },
  {
   "cell_type": "markdown",
   "id": "female-correction",
   "metadata": {},
   "source": [
    "Index the third element of these data collections:"
   ]
  },
  {
   "cell_type": "markdown",
   "id": "attended-glasgow",
   "metadata": {},
   "source": [
    "List:"
   ]
  },
  {
   "cell_type": "code",
   "execution_count": null,
   "id": "american-relations",
   "metadata": {},
   "outputs": [],
   "source": [
    "x = [10, 20, 30, 40, 50]"
   ]
  },
  {
   "cell_type": "markdown",
   "id": "romance-priority",
   "metadata": {},
   "source": [
    "Array:"
   ]
  },
  {
   "cell_type": "code",
   "execution_count": 3,
   "id": "coupled-national",
   "metadata": {},
   "outputs": [],
   "source": [
    "x = np.array([10, 20, 30, 40, 50])"
   ]
  },
  {
   "cell_type": "code",
   "execution_count": null,
   "id": "broke-looking",
   "metadata": {},
   "outputs": [],
   "source": []
  },
  {
   "cell_type": "markdown",
   "id": "everyday-windows",
   "metadata": {},
   "source": [
    "#### Ordered Slicing"
   ]
  },
  {
   "cell_type": "markdown",
   "id": "humanitarian-amplifier",
   "metadata": {},
   "source": [
    "Slice out the second-to-fourth element of these data collections:"
   ]
  },
  {
   "cell_type": "markdown",
   "id": "shaped-marina",
   "metadata": {},
   "source": [
    "List:"
   ]
  },
  {
   "cell_type": "code",
   "execution_count": null,
   "id": "closed-french",
   "metadata": {},
   "outputs": [],
   "source": [
    "x = [10, 20, 30, 40, 50]"
   ]
  },
  {
   "cell_type": "markdown",
   "id": "after-science",
   "metadata": {},
   "source": [
    "Array:"
   ]
  },
  {
   "cell_type": "code",
   "execution_count": 3,
   "id": "changed-simpson",
   "metadata": {},
   "outputs": [],
   "source": [
    "x = np.array([10, 20, 30, 40, 50])"
   ]
  },
  {
   "cell_type": "markdown",
   "id": "american-exploration",
   "metadata": {},
   "source": [
    "#### \"Mutate\" a Value inside a Collection"
   ]
  },
  {
   "cell_type": "markdown",
   "id": "dress-biotechnology",
   "metadata": {},
   "source": [
    "Change the third element of these data collections to the value \"A\":\n",
    "```python\n",
    "data[index] = value\n",
    "```"
   ]
  },
  {
   "cell_type": "markdown",
   "id": "double-reminder",
   "metadata": {},
   "source": [
    "List:"
   ]
  },
  {
   "cell_type": "code",
   "execution_count": null,
   "id": "social-sector",
   "metadata": {},
   "outputs": [],
   "source": [
    "x = [\"A\", \"C\", \"G\", \"G\", \"C\", \"T\"]"
   ]
  },
  {
   "cell_type": "markdown",
   "id": "least-chair",
   "metadata": {},
   "source": [
    "Array:"
   ]
  },
  {
   "cell_type": "code",
   "execution_count": 3,
   "id": "copyrighted-scale",
   "metadata": {},
   "outputs": [],
   "source": [
    "x = np.array([\"A\", \"C\", \"G\", \"G\", \"C\", \"T\"])"
   ]
  },
  {
   "cell_type": "markdown",
   "id": "boolean-washington",
   "metadata": {},
   "source": [
    "#### Mixing Data Types"
   ]
  },
  {
   "cell_type": "markdown",
   "id": "entire-present",
   "metadata": {},
   "source": [
    "Change the third element of these data collections to the value 40:\n",
    "```python\n",
    "data[index] = value\n",
    "```"
   ]
  },
  {
   "cell_type": "markdown",
   "id": "mental-dictionary",
   "metadata": {},
   "source": [
    "List:"
   ]
  },
  {
   "cell_type": "code",
   "execution_count": null,
   "id": "moderate-chicken",
   "metadata": {},
   "outputs": [],
   "source": [
    "x = [\"A\", \"C\", \"G\", \"G\", \"C\", \"T\"]"
   ]
  },
  {
   "cell_type": "markdown",
   "id": "focal-driver",
   "metadata": {},
   "source": [
    "Array:"
   ]
  },
  {
   "cell_type": "code",
   "execution_count": 3,
   "id": "placed-temperature",
   "metadata": {},
   "outputs": [],
   "source": [
    "x = np.array([\"A\", \"C\", \"G\", \"G\", \"C\", \"T\"])"
   ]
  },
  {
   "cell_type": "markdown",
   "id": "conservative-plain",
   "metadata": {},
   "source": [
    "#### Append Values"
   ]
  },
  {
   "cell_type": "markdown",
   "id": "operating-bachelor",
   "metadata": {},
   "source": [
    "Append a new value to the end of these data:"
   ]
  },
  {
   "cell_type": "markdown",
   "id": "outdoor-swift",
   "metadata": {},
   "source": [
    "List:\n",
    "```python\n",
    "data.append(value)\n",
    "```"
   ]
  },
  {
   "cell_type": "code",
   "execution_count": null,
   "id": "eastern-function",
   "metadata": {},
   "outputs": [],
   "source": [
    "x = [\"A\", \"C\", \"G\", \"G\", \"C\", \"T\"]"
   ]
  },
  {
   "cell_type": "markdown",
   "id": "alternate-granny",
   "metadata": {},
   "source": [
    "Array:\n",
    "```python\n",
    "np.append(data, value)\n",
    "```"
   ]
  },
  {
   "cell_type": "code",
   "execution_count": 7,
   "id": "valid-theater",
   "metadata": {},
   "outputs": [],
   "source": [
    "x = np.array([\"A\", \"C\", \"G\", \"G\", \"C\", \"T\"])"
   ]
  },
  {
   "cell_type": "markdown",
   "id": "amateur-dependence",
   "metadata": {},
   "source": [
    "### Broadcasting\n",
    "\n",
    "Run the following code, which multiplies every value in the collection by 10"
   ]
  },
  {
   "cell_type": "markdown",
   "id": "paperback-seattle",
   "metadata": {},
   "source": [
    "List:"
   ]
  },
  {
   "cell_type": "code",
   "execution_count": 9,
   "id": "amended-metro",
   "metadata": {},
   "outputs": [
    {
     "data": {
      "text/plain": [
       "[1, 2, 3, 4, 5]"
      ]
     },
     "execution_count": 9,
     "metadata": {},
     "output_type": "execute_result"
    }
   ],
   "source": [
    "data = [1, 2, 3, 4, 5]\n",
    "data"
   ]
  },
  {
   "cell_type": "code",
   "execution_count": 10,
   "id": "utility-norwegian",
   "metadata": {},
   "outputs": [
    {
     "data": {
      "text/plain": [
       "[10, 20, 30, 40, 50]"
      ]
     },
     "execution_count": 10,
     "metadata": {},
     "output_type": "execute_result"
    }
   ],
   "source": [
    "data10 = [x * 10 for x in data]\n",
    "data10"
   ]
  },
  {
   "cell_type": "markdown",
   "id": "enormous-grain",
   "metadata": {},
   "source": [
    "Array:"
   ]
  },
  {
   "cell_type": "code",
   "execution_count": 11,
   "id": "stopped-finder",
   "metadata": {},
   "outputs": [
    {
     "data": {
      "text/plain": [
       "array([1, 2, 3, 4, 5])"
      ]
     },
     "execution_count": 11,
     "metadata": {},
     "output_type": "execute_result"
    }
   ],
   "source": [
    "data = np.array([1, 2, 3, 4, 5])\n",
    "data"
   ]
  },
  {
   "cell_type": "code",
   "execution_count": 12,
   "id": "sixth-portugal",
   "metadata": {},
   "outputs": [
    {
     "data": {
      "text/plain": [
       "array([10, 20, 30, 40, 50])"
      ]
     },
     "execution_count": 12,
     "metadata": {},
     "output_type": "execute_result"
    }
   ],
   "source": [
    "data10 = data * 10\n",
    "data10"
   ]
  },
  {
   "cell_type": "markdown",
   "id": "educational-lithuania",
   "metadata": {},
   "source": [
    "### Fast Calculations\n",
    "\n",
    "Run the following code, which multiplies every value in the collection by 10.  This time, take a look at how long it takes to run.  Which is faster?\n",
    "\n",
    "Note: the ```%%timeit``` magic command runs the cell many times and reports the average amount of time each run of the cell's code took."
   ]
  },
  {
   "cell_type": "markdown",
   "id": "greenhouse-aside",
   "metadata": {},
   "source": [
    "List:"
   ]
  },
  {
   "cell_type": "code",
   "execution_count": 22,
   "id": "looking-radius",
   "metadata": {},
   "outputs": [
    {
     "data": {
      "text/plain": [
       "1000000"
      ]
     },
     "execution_count": 22,
     "metadata": {},
     "output_type": "execute_result"
    }
   ],
   "source": [
    "data = list(range(0, 1_000_000))\n",
    "len(data)"
   ]
  },
  {
   "cell_type": "code",
   "execution_count": 23,
   "id": "fatty-request",
   "metadata": {},
   "outputs": [
    {
     "name": "stdout",
     "output_type": "stream",
     "text": [
      "85.3 ms ± 1.88 ms per loop (mean ± std. dev. of 7 runs, 10 loops each)\n"
     ]
    }
   ],
   "source": [
    "%%timeit\n",
    "data10 = [x * 10 for x in data]"
   ]
  },
  {
   "cell_type": "markdown",
   "id": "neither-china",
   "metadata": {},
   "source": [
    "Array:"
   ]
  },
  {
   "cell_type": "code",
   "execution_count": 24,
   "id": "suspended-italian",
   "metadata": {},
   "outputs": [
    {
     "data": {
      "text/plain": [
       "array([     0,      1,      2, ..., 999997, 999998, 999999])"
      ]
     },
     "execution_count": 24,
     "metadata": {},
     "output_type": "execute_result"
    }
   ],
   "source": [
    "data = np.arange(0, 1_000_000)\n",
    "data"
   ]
  },
  {
   "cell_type": "code",
   "execution_count": 25,
   "id": "massive-mathematics",
   "metadata": {},
   "outputs": [
    {
     "name": "stdout",
     "output_type": "stream",
     "text": [
      "1.56 ms ± 40.4 µs per loop (mean ± std. dev. of 7 runs, 1000 loops each)\n"
     ]
    }
   ],
   "source": [
    "%%timeit\n",
    "data10 = data * 10"
   ]
  },
  {
   "cell_type": "markdown",
   "id": "dying-guinea",
   "metadata": {},
   "source": [
    "Array:"
   ]
  },
  {
   "cell_type": "code",
   "execution_count": 11,
   "id": "tamil-linux",
   "metadata": {},
   "outputs": [
    {
     "data": {
      "text/plain": [
       "array([1, 2, 3, 4, 5])"
      ]
     },
     "execution_count": 11,
     "metadata": {},
     "output_type": "execute_result"
    }
   ],
   "source": [
    "data = np.array([1, 2, 3, 4, 5])\n",
    "data"
   ]
  },
  {
   "cell_type": "code",
   "execution_count": 12,
   "id": "quality-sport",
   "metadata": {},
   "outputs": [
    {
     "data": {
      "text/plain": [
       "array([10, 20, 30, 40, 50])"
      ]
     },
     "execution_count": 12,
     "metadata": {},
     "output_type": "execute_result"
    }
   ],
   "source": [
    "data10 = data * 10\n",
    "data10"
   ]
  },
  {
   "cell_type": "markdown",
   "id": "stretch-microphone",
   "metadata": {},
   "source": [
    "### Fast Append\n",
    "\n",
    "Run the following code, which appends a new value to a list a thousand times.  Which is faster?\n"
   ]
  },
  {
   "cell_type": "markdown",
   "id": "raised-american",
   "metadata": {},
   "source": [
    "List:"
   ]
  },
  {
   "cell_type": "code",
   "execution_count": 27,
   "id": "existing-buffer",
   "metadata": {},
   "outputs": [
    {
     "name": "stdout",
     "output_type": "stream",
     "text": [
      "72.5 µs ± 2.21 µs per loop (mean ± std. dev. of 7 runs, 10000 loops each)\n"
     ]
    }
   ],
   "source": [
    "%%timeit\n",
    "data = []  # an empty list\n",
    "for _ in range(1000):  # repeat the same code 1000 times\n",
    "    data.append(\"A\")\n"
   ]
  },
  {
   "cell_type": "markdown",
   "id": "adapted-europe",
   "metadata": {},
   "source": [
    "Array:"
   ]
  },
  {
   "cell_type": "code",
   "execution_count": 28,
   "id": "instrumental-irish",
   "metadata": {},
   "outputs": [
    {
     "name": "stdout",
     "output_type": "stream",
     "text": [
      "5.76 ms ± 143 µs per loop (mean ± std. dev. of 7 runs, 100 loops each)\n"
     ]
    }
   ],
   "source": [
    "%%timeit\n",
    "data = np.array([], dtype=str)  # an empty array\n",
    "for _ in range(1000):  # repeat the same code 1000 times\n",
    "    data = np.append(data, \"A\")"
   ]
  },
  {
   "cell_type": "markdown",
   "id": "registered-carol",
   "metadata": {},
   "source": [
    "### Summary\n",
    "So long as your data is complete and well-organized, arrays are quite handy!  They are simple to work with and can crunch a lot of numbers in a short time!  On the other hand, if you want maximum flexibility, lists are perfect!"
   ]
  },
  {
   "cell_type": "markdown",
   "id": "floral-asbestos",
   "metadata": {},
   "source": [
    "## Multidimensional Arrays with Numpy\n",
    "\n",
    "\n",
    "Numpy arrays can be multidimensional: they can be squares, cubes, hypercubes, etc!  When choosing datastructures, Arrays are best chosen when all of the values in the structure represent the same variable.\n",
    "\n",
    "With multidimensional arrays, everything is pretty much the same as the 1-dimensional case, with the addition of a few options for specifiying which order the dimensions should be in, and which dimension an operation should operate on."
   ]
  },
  {
   "cell_type": "markdown",
   "id": "minor-selection",
   "metadata": {},
   "source": [
    "### Creating Multidimensional Arrays\n",
    "\n",
    "Most of the array-generation functions have a **shape** or **size** optional argument in them.  If you provide a tuple with a new shape specifying the number of elements along each dimension (e.g. (5, 3) will produce a matrix with 5 rows and 3 columns), it will give you something multidimensional!\n",
    "\n",
    "```python\n",
    ">>> data = np.random.randint(1, 10, size=(4, 5))\n",
    ">>> data\n",
    "array([[9, 7, 4, 2, 3],\n",
    "       [3, 6, 7, 4, 8],\n",
    "       [3, 6, 8, 7, 3],\n",
    "       [6, 9, 4, 2, 2]])\n",
    "```\n",
    "\n",
    "For cases where there is no such option, all arrays have a **reshape()** method that lets you make it more-dimensional.  To simply **flatten** the matrix to a single dimension, you can use the **flatten()** method.\n",
    "\n",
    "```python\n",
    ">>> data.reshape(2, 10)\n",
    "array([[9, 7, 4, 2, 3, 3, 6, 7, 4, 8],\n",
    "       [3, 6, 8, 7, 3, 6, 9, 4, 2, 2]])\n",
    "\n",
    ">>> data.flatten()\n",
    "array([9, 7, 4, 2, 3, 3, 6, 7, 4, 8, 3, 6, 8, 7, 3, 6, 9, 4, 2, 2])\n",
    "```\n",
    "\n",
    "Numpy also has some auto-calculation features to make it a bit easier to get the shape you need:\n",
    "\n",
    "```python\n",
    ">>> data.reshape(-1, 5)  # -1 tells the reshape() method to calculate the value in that spot\n",
    "array([[9, 7, 4, 2, 3],\n",
    "       [3, 6, 7, 4, 8],\n",
    "       [3, 6, 8, 7, 3],\n",
    "       [6, 9, 4, 2, 2]])\n",
    "\n",
    ">>> data.flatten()[np.newaxis, :]  # Makes a 1xN array\n",
    ">>> data.flatten()[None, :]  # Also Makes a 1xN array\n",
    ">>> data.flatten()[:, None]  # Makes an Nx1 array\n",
    "```\n",
    "\n",
    "And if an array has some extra dimensions you don't care about (like a 32x1x1 array, and you just want a 32 array), you can use the **squeeze()** method to squeeze out those extra dimensions!\n",
    "\n",
    "Finally, you can find out the shape of a matrix by getting its **shape** attribute.  And to get the total number of elements, check its **size** attribute.\n",
    "\n",
    "```python\n",
    ">>> data.shape\n",
    "(4, 5)\n",
    "\n",
    ">>> data.size\n",
    "20\n",
    "```"
   ]
  },
  {
   "cell_type": "markdown",
   "id": "dying-tuition",
   "metadata": {},
   "source": [
    "#### Exercises"
   ]
  },
  {
   "cell_type": "markdown",
   "id": "stuffed-child",
   "metadata": {},
   "source": [
    "Generate a 3 x 10 array of random integers between 1 and 4."
   ]
  },
  {
   "cell_type": "code",
   "execution_count": null,
   "id": "afraid-brunei",
   "metadata": {},
   "outputs": [],
   "source": []
  },
  {
   "cell_type": "markdown",
   "id": "solved-statistics",
   "metadata": {},
   "source": [
    "Make an array with all the values between 0 and 11, and reshape it into a 3 x 4 matrix..."
   ]
  },
  {
   "cell_type": "code",
   "execution_count": null,
   "id": "differential-sodium",
   "metadata": {},
   "outputs": [],
   "source": []
  },
  {
   "cell_type": "markdown",
   "id": "analyzed-separation",
   "metadata": {},
   "source": [
    "...Reshape the previous array into a 4 x 3 matrix..."
   ]
  },
  {
   "cell_type": "code",
   "execution_count": null,
   "id": "welsh-burlington",
   "metadata": {},
   "outputs": [],
   "source": []
  },
  {
   "cell_type": "markdown",
   "id": "fewer-harbor",
   "metadata": {},
   "source": [
    "...Reshape that array into a 2 x 6 matrix..."
   ]
  },
  {
   "cell_type": "code",
   "execution_count": null,
   "id": "derived-cleaners",
   "metadata": {},
   "outputs": [],
   "source": []
  },
  {
   "cell_type": "markdown",
   "id": "streaming-malpractice",
   "metadata": {},
   "source": [
    "...Then flatten it."
   ]
  },
  {
   "cell_type": "code",
   "execution_count": null,
   "id": "genuine-example",
   "metadata": {},
   "outputs": [],
   "source": []
  },
  {
   "cell_type": "markdown",
   "id": "separated-armstrong",
   "metadata": {},
   "source": [
    "Confirm its shape.  Is it the same as its size?"
   ]
  },
  {
   "cell_type": "code",
   "execution_count": null,
   "id": "metropolitan-aquarium",
   "metadata": {},
   "outputs": [],
   "source": []
  },
  {
   "cell_type": "markdown",
   "id": "recognized-output",
   "metadata": {},
   "source": [
    "### Reordering Dimensions\n",
    "\n",
    "There are many ways to transpose matrices:\n",
    "  - array.T\n",
    "  - array.transpose()\n",
    "  - np.transpose(array)\n",
    "  - array.swapaxes()\n",
    "\n",
    "Try using each of them on the array **x**."
   ]
  },
  {
   "cell_type": "code",
   "execution_count": 16,
   "id": "earlier-conjunction",
   "metadata": {},
   "outputs": [
    {
     "data": {
      "text/plain": [
       "array([[ 0,  1,  2,  3],\n",
       "       [ 4,  5,  6,  7],\n",
       "       [ 8,  9, 10, 11]])"
      ]
     },
     "execution_count": 16,
     "metadata": {},
     "output_type": "execute_result"
    }
   ],
   "source": [
    "x = np.arange(12).reshape(3, 4)\n",
    "x"
   ]
  },
  {
   "cell_type": "markdown",
   "id": "metallic-portable",
   "metadata": {},
   "source": [
    "**Discussion**: Let's try out each of them.  Why does Numpy have these options?  What's the benefit?"
   ]
  },
  {
   "cell_type": "code",
   "execution_count": null,
   "id": "opponent-binary",
   "metadata": {},
   "outputs": [],
   "source": []
  },
  {
   "cell_type": "code",
   "execution_count": null,
   "id": "dried-employee",
   "metadata": {},
   "outputs": [],
   "source": []
  },
  {
   "cell_type": "code",
   "execution_count": null,
   "id": "under-great",
   "metadata": {},
   "outputs": [],
   "source": []
  },
  {
   "cell_type": "code",
   "execution_count": null,
   "id": "universal-hawaiian",
   "metadata": {},
   "outputs": [],
   "source": []
  },
  {
   "cell_type": "markdown",
   "id": "civic-minnesota",
   "metadata": {},
   "source": [
    "### Aggregating Across Axes\n",
    "\n",
    "Almost all of the Numpy functions have an **axis** option, which lets you limit the operation to just that axis.  \n",
    "\n",
    "For example, to get the mean of all rows:\n",
    "\n",
    "```python\n",
    ">>> array = np.arange(12).reshape(3, 4)\n",
    ">>> array.mean(axis=0)\n",
    "array([4., 5., 6., 7.])\n",
    "```\n",
    "\n",
    "And the mean of the columns:\n",
    "\n",
    "```python\n",
    ">>> array.mean(axis=1)\n",
    "array([1.5, 5.5, 9.5])\n",
    "```\n",
    "\n",
    "Notice that the number of dimensions goes down by default whenever you aggregate across the axis.  If you'd like to keep the dimensions the same, you can also use the **keepdims=True** option:\n",
    "\n",
    "```python\n",
    ">>> array.mean(axis=1, keepdims=True)\n",
    "array([[1.5],\n",
    "       [5.5],\n",
    "       [9.5]])\n",
    "```"
   ]
  },
  {
   "cell_type": "markdown",
   "id": "sufficient-envelope",
   "metadata": {},
   "source": [
    "**Exercises**: Try it out for yourself, with the provided array \"data\":"
   ]
  },
  {
   "cell_type": "code",
   "execution_count": 8,
   "id": "czech-sponsorship",
   "metadata": {},
   "outputs": [
    {
     "data": {
      "text/plain": [
       "array([[  6,  30, 700],\n",
       "       [  4,  60, 900],\n",
       "       [  2,  60, 700],\n",
       "       [  4,  30, 700],\n",
       "       [  7,  20, 500]])"
      ]
     },
     "execution_count": 8,
     "metadata": {},
     "output_type": "execute_result"
    }
   ],
   "source": [
    "np.random.seed(42)\n",
    "data = np.random.randint(0, 10, size=(5, 3)) * [1, 10, 100]\n",
    "data"
   ]
  },
  {
   "cell_type": "markdown",
   "id": "peaceful-lincoln",
   "metadata": {},
   "source": [
    "1. What is the mean of each column?"
   ]
  },
  {
   "cell_type": "markdown",
   "id": "contained-valuable",
   "metadata": {},
   "source": []
  },
  {
   "cell_type": "markdown",
   "id": "allied-plenty",
   "metadata": {},
   "source": [
    "2. What is the standard deviation of each row?"
   ]
  },
  {
   "cell_type": "code",
   "execution_count": null,
   "id": "powered-beauty",
   "metadata": {},
   "outputs": [],
   "source": []
  },
  {
   "cell_type": "markdown",
   "id": "spare-split",
   "metadata": {},
   "source": [
    "3. What is the mean of each column's median?"
   ]
  },
  {
   "cell_type": "code",
   "execution_count": null,
   "id": "differential-hanging",
   "metadata": {},
   "outputs": [],
   "source": []
  },
  {
   "cell_type": "markdown",
   "id": "invisible-document",
   "metadata": {},
   "source": [
    "## Indexing Exercises"
   ]
  },
  {
   "cell_type": "markdown",
   "id": "broke-print",
   "metadata": {},
   "source": [
    "Numpy arrays work the same way as other sequences, but they can have multiple dimensions (rows, columns, etc) over which to index/slice the array.\n",
    "\n",
    "```python\n",
    "data = np.array([[0, 1, 2,  3],\n",
    "                 [4, 5, 6,  7],\n",
    "                 [8, 9, 10, 11]]\n",
    "               )\n",
    "second_row = data[1, :]\n",
    "third_column = data[:, 2]\n",
    "```"
   ]
  },
  {
   "cell_type": "markdown",
   "id": "norman-egyptian",
   "metadata": {},
   "source": [
    "Using the example dataset *scores*, select only the described elements from each list:"
   ]
  },
  {
   "cell_type": "code",
   "execution_count": 49,
   "id": "pretty-filing",
   "metadata": {},
   "outputs": [
    {
     "data": {
      "text/plain": [
       "array([[ 1,  2,  3,  4,  5,  6,  7,  8],\n",
       "       [ 9, 10, 11, 12, 13, 14, 15, 16],\n",
       "       [17, 18, 19, 20, 21, 22, 23, 24],\n",
       "       [25, 26, 27, 28, 29, 30, 31, 32],\n",
       "       [33, 34, 35, 36, 37, 38, 39, 40],\n",
       "       [41, 42, 43, 44, 45, 46, 47, 48]])"
      ]
     },
     "execution_count": 49,
     "metadata": {},
     "output_type": "execute_result"
    }
   ],
   "source": [
    "scores = np.arange(1, 49).reshape(6, 8)\n",
    "scores"
   ]
  },
  {
   "cell_type": "markdown",
   "id": "chemical-cambridge",
   "metadata": {},
   "source": [
    "The first score in the 2nd row:"
   ]
  },
  {
   "cell_type": "code",
   "execution_count": null,
   "id": "collected-services",
   "metadata": {},
   "outputs": [],
   "source": []
  },
  {
   "cell_type": "markdown",
   "id": "surrounded-drink",
   "metadata": {},
   "source": [
    "The third-through-fifth columns:"
   ]
  },
  {
   "cell_type": "code",
   "execution_count": null,
   "id": "plastic-miracle",
   "metadata": {},
   "outputs": [],
   "source": []
  },
  {
   "cell_type": "markdown",
   "id": "relative-section",
   "metadata": {},
   "source": [
    "The last score:"
   ]
  },
  {
   "cell_type": "code",
   "execution_count": null,
   "id": "middle-keeping",
   "metadata": {},
   "outputs": [],
   "source": []
  },
  {
   "cell_type": "markdown",
   "id": "young-quebec",
   "metadata": {},
   "source": [
    "The 2nd through 5th score, in the 6th column:"
   ]
  },
  {
   "cell_type": "code",
   "execution_count": null,
   "id": "tested-style",
   "metadata": {},
   "outputs": [],
   "source": []
  },
  {
   "cell_type": "markdown",
   "id": "supported-immune",
   "metadata": {},
   "source": [
    "All the scores greater than 20:"
   ]
  },
  {
   "cell_type": "code",
   "execution_count": null,
   "id": "thick-zimbabwe",
   "metadata": {},
   "outputs": [],
   "source": []
  },
  {
   "cell_type": "markdown",
   "id": "golden-trail",
   "metadata": {},
   "source": [
    "The rectangle inscribed by scores 19, 22, 35, and 38:"
   ]
  },
  {
   "cell_type": "code",
   "execution_count": null,
   "id": "contrary-tablet",
   "metadata": {},
   "outputs": [],
   "source": []
  },
  {
   "cell_type": "markdown",
   "id": "arctic-glance",
   "metadata": {},
   "source": [
    "The rectangle inscribed by scores 42, 44, 12, and 10:"
   ]
  },
  {
   "cell_type": "code",
   "execution_count": null,
   "id": "solid-mason",
   "metadata": {},
   "outputs": [],
   "source": []
  },
  {
   "cell_type": "markdown",
   "id": "dated-leader",
   "metadata": {},
   "source": [
    "##### Setting New Values\n",
    "\n",
    "For arrays, indexing can also be used to assign a new value.  Let's try it out, using the following pattern:\n",
    "\n",
    "```python\n",
    "data[0, :] = 10  # changes all values in the first row to 10\n",
    "data\n",
    "```"
   ]
  },
  {
   "cell_type": "code",
   "execution_count": 11,
   "id": "composite-tower",
   "metadata": {},
   "outputs": [
    {
     "data": {
      "text/plain": [
       "array([[ 1,  2,  3,  4,  5,  6,  7,  8],\n",
       "       [ 9, 10, 11, 12, 13, 14, 15, 16],\n",
       "       [17, 18, 19, 20, 21, 22, 23, 24],\n",
       "       [25, 26, 27, 28, 29, 30, 31, 32],\n",
       "       [33, 34, 35, 36, 37, 38, 39, 40],\n",
       "       [41, 42, 43, 44, 45, 46, 47, 48]])"
      ]
     },
     "execution_count": 11,
     "metadata": {},
     "output_type": "execute_result"
    }
   ],
   "source": [
    "scores = np.arange(1, 49).reshape(6, 8)\n",
    "scores"
   ]
  },
  {
   "cell_type": "markdown",
   "id": "close-listening",
   "metadata": {},
   "source": [
    "Change the 3rd column to all 10s:"
   ]
  },
  {
   "cell_type": "code",
   "execution_count": null,
   "id": "bound-cambodia",
   "metadata": {},
   "outputs": [],
   "source": []
  },
  {
   "cell_type": "markdown",
   "id": "adult-blues",
   "metadata": {},
   "source": [
    "Change the last score to 999:"
   ]
  },
  {
   "cell_type": "code",
   "execution_count": null,
   "id": "charming-singing",
   "metadata": {},
   "outputs": [],
   "source": []
  },
  {
   "cell_type": "markdown",
   "id": "blond-watts",
   "metadata": {},
   "source": [
    "Change the 4th row to 0:"
   ]
  },
  {
   "cell_type": "code",
   "execution_count": null,
   "id": "representative-ultimate",
   "metadata": {},
   "outputs": [],
   "source": []
  },
  {
   "cell_type": "markdown",
   "id": "operational-thong",
   "metadata": {},
   "source": [
    "Change the 5th column to nan  (e.g. np.nan)"
   ]
  },
  {
   "cell_type": "code",
   "execution_count": null,
   "id": "pursuant-quebec",
   "metadata": {},
   "outputs": [],
   "source": []
  }
 ],
 "metadata": {
  "kernelspec": {
   "display_name": "Python 3",
   "language": "python",
   "name": "python3"
  },
  "language_info": {
   "codemirror_mode": {
    "name": "ipython",
    "version": 3
   },
   "file_extension": ".py",
   "mimetype": "text/x-python",
   "name": "python",
   "nbconvert_exporter": "python",
   "pygments_lexer": "ipython3",
   "version": "3.8.3"
  }
 },
 "nbformat": 4,
 "nbformat_minor": 5
}
