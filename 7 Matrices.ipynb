{
 "cells": [
  {
   "cell_type": "code",
   "execution_count": 4,
   "id": "flush-tiffany",
   "metadata": {},
   "outputs": [],
   "source": [
    "%matplotlib inline"
   ]
  },
  {
   "cell_type": "code",
   "execution_count": 1,
   "id": "fuzzy-criticism",
   "metadata": {},
   "outputs": [],
   "source": [
    "import numpy as np"
   ]
  },
  {
   "cell_type": "markdown",
   "id": "selective-arlington",
   "metadata": {},
   "source": [
    "# Multidimensional Arrays with Numpy"
   ]
  },
  {
   "cell_type": "markdown",
   "id": "interested-storm",
   "metadata": {},
   "source": [
    "## Matrix Exercises\n",
    "\n",
    "Numpy arrays can be multidimensional: they can be squares, cubes, hypercubes, etc!  When choosing datastructures, Arrays are best chosen when all of the values in the structure represent the same variable.\n",
    "\n",
    "With multidimensional arrays, everything is pretty much the same as the 1-dimensional case, with the addition of a few options for specifiying which order the dimensions should be in, and which dimension an operation should operate on."
   ]
  },
  {
   "cell_type": "markdown",
   "id": "cross-summer",
   "metadata": {},
   "source": [
    "## Creating Multidimensional Arrays\n",
    "\n",
    "Most of the array-generation functions have a **shape** or **size** optional argument in them.  If you provide a tuple with a new shape specifying the number of elements along each dimension (e.g. (5, 3) will produce a matrix with 5 rows and 3 columns), it will give you something multidimensional!\n",
    "\n",
    "```python\n",
    ">>> data = np.random.randint(1, 10, size=(4, 5))\n",
    ">>> data\n",
    "array([[9, 7, 4, 2, 3],\n",
    "       [3, 6, 7, 4, 8],\n",
    "       [3, 6, 8, 7, 3],\n",
    "       [6, 9, 4, 2, 2]])\n",
    "```\n",
    "\n",
    "For cases where there is no such option, all arrays have a **reshape()** method that lets you make it more-dimensional.  To simply **flatten** the matrix to a single dimension, you can use the **flatten()** method.\n",
    "\n",
    "```python\n",
    ">>> data.reshape(2, 10)\n",
    "array([[9, 7, 4, 2, 3, 3, 6, 7, 4, 8],\n",
    "       [3, 6, 8, 7, 3, 6, 9, 4, 2, 2]])\n",
    "\n",
    ">>> data.flatten()\n",
    "array([9, 7, 4, 2, 3, 3, 6, 7, 4, 8, 3, 6, 8, 7, 3, 6, 9, 4, 2, 2])\n",
    "```\n",
    "\n",
    "Numpy also has some auto-calculation features to make it a bit easier to get the shape you need:\n",
    "\n",
    "```python\n",
    ">>> data.reshape(-1, 5)  # -1 tells the reshape() method to calculate the value in that spot\n",
    "array([[9, 7, 4, 2, 3],\n",
    "       [3, 6, 7, 4, 8],\n",
    "       [3, 6, 8, 7, 3],\n",
    "       [6, 9, 4, 2, 2]])\n",
    "\n",
    ">>> data.flatten()[np.newaxis, :]  # Makes a 1xN array\n",
    ">>> data.flatten()[None, :]  # Also Makes a 1xN array\n",
    ">>> data.flatten()[:, None]  # Makes an Nx1 array\n",
    "```\n",
    "\n",
    "And if an array has some extra dimensions you don't care about (like a 32x1x1 array, and you just want a 32 array), you can use the **squeeze()** method to squeeze out those extra dimensions!\n",
    "\n",
    "Finally, you can find out the shape of a matrix by getting its **shape** attribute.  And to get the total number of elements, check its **size** attribute.\n",
    "\n",
    "```python\n",
    ">>> data.shape\n",
    "(4, 5)\n",
    "\n",
    ">>> data.size\n",
    "20\n",
    "```"
   ]
  },
  {
   "cell_type": "markdown",
   "id": "legal-calgary",
   "metadata": {},
   "source": [
    "### Exercises"
   ]
  },
  {
   "cell_type": "markdown",
   "id": "vertical-cable",
   "metadata": {},
   "source": [
    "Generate a 3 x 10 array of random integers between 1 and 4."
   ]
  },
  {
   "cell_type": "code",
   "execution_count": null,
   "id": "earned-seattle",
   "metadata": {},
   "outputs": [],
   "source": []
  },
  {
   "cell_type": "markdown",
   "id": "democratic-nation",
   "metadata": {},
   "source": [
    "Make an array with all the values between 0 and 11, and reshape it into a 3 x 4 matrix..."
   ]
  },
  {
   "cell_type": "code",
   "execution_count": null,
   "id": "nonprofit-finder",
   "metadata": {},
   "outputs": [],
   "source": []
  },
  {
   "cell_type": "markdown",
   "id": "reverse-holder",
   "metadata": {},
   "source": [
    "...Reshape the previous array into a 4 x 3 matrix..."
   ]
  },
  {
   "cell_type": "code",
   "execution_count": null,
   "id": "specific-joyce",
   "metadata": {},
   "outputs": [],
   "source": []
  },
  {
   "cell_type": "markdown",
   "id": "enabling-parent",
   "metadata": {},
   "source": [
    "...Reshape that array into a 2 x 6 matrix..."
   ]
  },
  {
   "cell_type": "code",
   "execution_count": null,
   "id": "developmental-column",
   "metadata": {},
   "outputs": [],
   "source": []
  },
  {
   "cell_type": "markdown",
   "id": "armed-syndication",
   "metadata": {},
   "source": [
    "...Then flatten it."
   ]
  },
  {
   "cell_type": "code",
   "execution_count": null,
   "id": "obvious-cooperative",
   "metadata": {},
   "outputs": [],
   "source": []
  },
  {
   "cell_type": "markdown",
   "id": "relative-laser",
   "metadata": {},
   "source": [
    "Confirm its shape.  Is it the same as its size?"
   ]
  },
  {
   "cell_type": "code",
   "execution_count": null,
   "id": "frank-saskatchewan",
   "metadata": {},
   "outputs": [],
   "source": []
  },
  {
   "cell_type": "markdown",
   "id": "reserved-publicity",
   "metadata": {},
   "source": [
    "### Reordering Dimensions\n",
    "\n",
    "There are many ways to transpose matrices:\n",
    "  - array.T\n",
    "  - array.transpose()\n",
    "  - np.transpose(array)\n",
    "  - array.swapaxes()\n",
    "\n",
    "Try using each of them on the array **x**."
   ]
  },
  {
   "cell_type": "code",
   "execution_count": 16,
   "id": "sufficient-conversation",
   "metadata": {},
   "outputs": [
    {
     "data": {
      "text/plain": [
       "array([[ 0,  1,  2,  3],\n",
       "       [ 4,  5,  6,  7],\n",
       "       [ 8,  9, 10, 11]])"
      ]
     },
     "execution_count": 16,
     "metadata": {},
     "output_type": "execute_result"
    }
   ],
   "source": [
    "x = np.arange(12).reshape(3, 4)\n",
    "x"
   ]
  },
  {
   "cell_type": "markdown",
   "id": "hybrid-brain",
   "metadata": {},
   "source": [
    "**Discussion**: Let's try out each of them.  Why does Numpy have these options?  What's the benefit?"
   ]
  },
  {
   "cell_type": "code",
   "execution_count": null,
   "id": "indie-spice",
   "metadata": {},
   "outputs": [],
   "source": []
  },
  {
   "cell_type": "code",
   "execution_count": null,
   "id": "racial-revolution",
   "metadata": {},
   "outputs": [],
   "source": []
  },
  {
   "cell_type": "code",
   "execution_count": null,
   "id": "loved-legislature",
   "metadata": {},
   "outputs": [],
   "source": []
  },
  {
   "cell_type": "code",
   "execution_count": null,
   "id": "available-california",
   "metadata": {},
   "outputs": [],
   "source": []
  },
  {
   "cell_type": "markdown",
   "id": "sensitive-wheel",
   "metadata": {},
   "source": [
    "### Aggregating Across Axes\n",
    "\n",
    "Almost all of the Numpy functions have an **axis** option, which lets you limit the operation to just that axis.  \n",
    "\n",
    "For example, to get the mean of all rows:\n",
    "\n",
    "```python\n",
    ">>> array = np.arange(12).reshape(3, 4)\n",
    ">>> array.mean(axis=0)\n",
    "array([4., 5., 6., 7.])\n",
    "```\n",
    "\n",
    "And the mean of the columns:\n",
    "\n",
    "```python\n",
    ">>> array.mean(axis=1)\n",
    "array([1.5, 5.5, 9.5])\n",
    "```\n",
    "\n",
    "Notice that the number of dimensions goes down by default whenever you aggregate across the axis.  If you'd like to keep the dimensions the same, you can also use the **keepdims=True** option:\n",
    "\n",
    "```python\n",
    ">>> array.mean(axis=1, keepdims=True)\n",
    "array([[1.5],\n",
    "       [5.5],\n",
    "       [9.5]])\n",
    "```"
   ]
  },
  {
   "cell_type": "markdown",
   "id": "dramatic-cosmetic",
   "metadata": {},
   "source": [
    "**Exercises**: Try it out for yourself, with the provided array \"data\":"
   ]
  },
  {
   "cell_type": "code",
   "execution_count": 8,
   "id": "yellow-nylon",
   "metadata": {},
   "outputs": [
    {
     "data": {
      "text/plain": [
       "array([[  6,  30, 700],\n",
       "       [  4,  60, 900],\n",
       "       [  2,  60, 700],\n",
       "       [  4,  30, 700],\n",
       "       [  7,  20, 500]])"
      ]
     },
     "execution_count": 8,
     "metadata": {},
     "output_type": "execute_result"
    }
   ],
   "source": [
    "np.random.seed(42)\n",
    "data = np.random.randint(0, 10, size=(5, 3)) * [1, 10, 100]\n",
    "data"
   ]
  },
  {
   "cell_type": "markdown",
   "id": "absolute-feeling",
   "metadata": {},
   "source": [
    "1. What is the mean of each column?"
   ]
  },
  {
   "cell_type": "markdown",
   "id": "unexpected-buyer",
   "metadata": {},
   "source": []
  },
  {
   "cell_type": "markdown",
   "id": "french-algebra",
   "metadata": {},
   "source": [
    "2. What is the standard deviation of each row?"
   ]
  },
  {
   "cell_type": "code",
   "execution_count": null,
   "id": "agreed-terry",
   "metadata": {},
   "outputs": [],
   "source": []
  },
  {
   "cell_type": "markdown",
   "id": "solid-government",
   "metadata": {},
   "source": [
    "3. What is the mean of each column's median?"
   ]
  },
  {
   "cell_type": "code",
   "execution_count": null,
   "id": "everyday-story",
   "metadata": {},
   "outputs": [],
   "source": []
  },
  {
   "cell_type": "markdown",
   "id": "revolutionary-psychiatry",
   "metadata": {},
   "source": [
    "## Indexing Exercises"
   ]
  },
  {
   "cell_type": "markdown",
   "id": "brilliant-gabriel",
   "metadata": {},
   "source": [
    "Numpy arrays work the same way as other sequences, but they can have multiple dimensions (rows, columns, etc) over which to index/slice the array.\n",
    "\n",
    "```python\n",
    "data = np.array([[0, 1, 2,  3],\n",
    "                 [4, 5, 6,  7],\n",
    "                 [8, 9, 10, 11]]\n",
    "               )\n",
    "second_row = data[1, :]\n",
    "third_column = data[:, 2]\n",
    "```"
   ]
  },
  {
   "cell_type": "markdown",
   "id": "decimal-monaco",
   "metadata": {},
   "source": [
    "Using the example dataset *scores*, select only the described elements from each list:"
   ]
  },
  {
   "cell_type": "code",
   "execution_count": 49,
   "id": "difficult-marriage",
   "metadata": {},
   "outputs": [
    {
     "data": {
      "text/plain": [
       "array([[ 1,  2,  3,  4,  5,  6,  7,  8],\n",
       "       [ 9, 10, 11, 12, 13, 14, 15, 16],\n",
       "       [17, 18, 19, 20, 21, 22, 23, 24],\n",
       "       [25, 26, 27, 28, 29, 30, 31, 32],\n",
       "       [33, 34, 35, 36, 37, 38, 39, 40],\n",
       "       [41, 42, 43, 44, 45, 46, 47, 48]])"
      ]
     },
     "execution_count": 49,
     "metadata": {},
     "output_type": "execute_result"
    }
   ],
   "source": [
    "scores = np.arange(1, 49).reshape(6, 8)\n",
    "scores"
   ]
  },
  {
   "cell_type": "markdown",
   "id": "protecting-expression",
   "metadata": {},
   "source": [
    "The first score in the 2nd row:"
   ]
  },
  {
   "cell_type": "code",
   "execution_count": null,
   "id": "naked-window",
   "metadata": {},
   "outputs": [],
   "source": []
  },
  {
   "cell_type": "markdown",
   "id": "sufficient-spray",
   "metadata": {},
   "source": [
    "The third-through-fifth columns:"
   ]
  },
  {
   "cell_type": "code",
   "execution_count": null,
   "id": "subsequent-cause",
   "metadata": {},
   "outputs": [],
   "source": []
  },
  {
   "cell_type": "markdown",
   "id": "emotional-bottle",
   "metadata": {},
   "source": [
    "The last score:"
   ]
  },
  {
   "cell_type": "code",
   "execution_count": null,
   "id": "coupled-speaking",
   "metadata": {},
   "outputs": [],
   "source": []
  },
  {
   "cell_type": "markdown",
   "id": "thorough-there",
   "metadata": {},
   "source": [
    "The 2nd through 5th score, in the 6th column:"
   ]
  },
  {
   "cell_type": "code",
   "execution_count": null,
   "id": "ideal-compact",
   "metadata": {},
   "outputs": [],
   "source": []
  },
  {
   "cell_type": "markdown",
   "id": "about-toddler",
   "metadata": {},
   "source": [
    "All the scores greater than 20:"
   ]
  },
  {
   "cell_type": "code",
   "execution_count": null,
   "id": "excited-classification",
   "metadata": {},
   "outputs": [],
   "source": []
  },
  {
   "cell_type": "markdown",
   "id": "comic-latitude",
   "metadata": {},
   "source": [
    "The rectangle inscribed by scores 19, 22, 35, and 38:"
   ]
  },
  {
   "cell_type": "code",
   "execution_count": null,
   "id": "random-burst",
   "metadata": {},
   "outputs": [],
   "source": []
  },
  {
   "cell_type": "markdown",
   "id": "swedish-navigation",
   "metadata": {},
   "source": [
    "The rectangle inscribed by scores 42, 44, 12, and 10:"
   ]
  },
  {
   "cell_type": "code",
   "execution_count": null,
   "id": "local-saskatchewan",
   "metadata": {},
   "outputs": [],
   "source": []
  },
  {
   "cell_type": "markdown",
   "id": "dutch-riverside",
   "metadata": {},
   "source": [
    "##### Setting New Values\n",
    "\n",
    "For arrays, indexing can also be used to assign a new value.  Let's try it out, using the following pattern:\n",
    "\n",
    "```python\n",
    "data[0, :] = 10  # changes all values in the first row to 10\n",
    "data\n",
    "```"
   ]
  },
  {
   "cell_type": "code",
   "execution_count": 11,
   "id": "radical-curtis",
   "metadata": {},
   "outputs": [
    {
     "data": {
      "text/plain": [
       "array([[ 1,  2,  3,  4,  5,  6,  7,  8],\n",
       "       [ 9, 10, 11, 12, 13, 14, 15, 16],\n",
       "       [17, 18, 19, 20, 21, 22, 23, 24],\n",
       "       [25, 26, 27, 28, 29, 30, 31, 32],\n",
       "       [33, 34, 35, 36, 37, 38, 39, 40],\n",
       "       [41, 42, 43, 44, 45, 46, 47, 48]])"
      ]
     },
     "execution_count": 11,
     "metadata": {},
     "output_type": "execute_result"
    }
   ],
   "source": [
    "scores = np.arange(1, 49).reshape(6, 8)\n",
    "scores"
   ]
  },
  {
   "cell_type": "markdown",
   "id": "piano-renaissance",
   "metadata": {},
   "source": [
    "Change the 3rd column to all 10s:"
   ]
  },
  {
   "cell_type": "code",
   "execution_count": null,
   "id": "superb-teacher",
   "metadata": {},
   "outputs": [],
   "source": []
  },
  {
   "cell_type": "markdown",
   "id": "first-chicken",
   "metadata": {},
   "source": [
    "Change the last score to 999:"
   ]
  },
  {
   "cell_type": "code",
   "execution_count": null,
   "id": "alpha-dealer",
   "metadata": {},
   "outputs": [],
   "source": []
  },
  {
   "cell_type": "markdown",
   "id": "handy-stopping",
   "metadata": {},
   "source": [
    "Change the 4th row to 0:"
   ]
  },
  {
   "cell_type": "code",
   "execution_count": null,
   "id": "rising-separate",
   "metadata": {},
   "outputs": [],
   "source": []
  },
  {
   "cell_type": "markdown",
   "id": "planned-facial",
   "metadata": {},
   "source": [
    "Change the 5th column to nan  (e.g. np.nan)"
   ]
  },
  {
   "cell_type": "code",
   "execution_count": null,
   "id": "hidden-beginning",
   "metadata": {},
   "outputs": [],
   "source": []
  }
 ],
 "metadata": {
  "kernelspec": {
   "display_name": "Python 3",
   "language": "python",
   "name": "python3"
  },
  "language_info": {
   "codemirror_mode": {
    "name": "ipython",
    "version": 3
   },
   "file_extension": ".py",
   "mimetype": "text/x-python",
   "name": "python",
   "nbconvert_exporter": "python",
   "pygments_lexer": "ipython3",
   "version": "3.8.3"
  }
 },
 "nbformat": 4,
 "nbformat_minor": 5
}
