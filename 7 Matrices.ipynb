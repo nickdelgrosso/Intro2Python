{
 "cells": [
  {
   "cell_type": "code",
   "execution_count": 2,
   "id": "optical-definition",
   "metadata": {},
   "outputs": [],
   "source": [
    "import numpy as np"
   ]
  },
  {
   "cell_type": "markdown",
   "id": "basic-lesbian",
   "metadata": {},
   "source": [
    "# Numpy Arrays  vs Python Lists\n",
    "\n",
    "Like Python Lists, numpy Arrays are ordered sequences of data.  However, they have slightly different properties than Python lists:\n",
    "\n",
    "| Property | Lists | Arrays |\n",
    "| :--:     | :--:  | :--:   |\n",
    "| Ordered  | ✔️    | ✔️ |\n",
    "| Mutable | ✔️    | ✔️ |\n",
    "| Can Mix Data Types | ✔️ |   |\n",
    "| Append Data without Copying Whole Structure | ✔️  |  |\n",
    "| Broadcastable |  | ✔️ |\n",
    "| Fast Calculations |   | ✔️ |\n",
    "\n"
   ]
  },
  {
   "cell_type": "markdown",
   "id": "transparent-smoke",
   "metadata": {},
   "source": [
    "### Exercises \n",
    "Let's explore each property and compare lists and arrays"
   ]
  },
  {
   "cell_type": "markdown",
   "id": "bored-stephen",
   "metadata": {},
   "source": [
    "#### Ordered Index"
   ]
  },
  {
   "cell_type": "markdown",
   "id": "smaller-denmark",
   "metadata": {},
   "source": [
    "Index the third element of these data collections:"
   ]
  },
  {
   "cell_type": "markdown",
   "id": "noble-journalist",
   "metadata": {},
   "source": [
    "List:"
   ]
  },
  {
   "cell_type": "code",
   "execution_count": null,
   "id": "vanilla-attempt",
   "metadata": {},
   "outputs": [],
   "source": [
    "x = [10, 20, 30, 40, 50]"
   ]
  },
  {
   "cell_type": "markdown",
   "id": "infectious-embassy",
   "metadata": {},
   "source": [
    "Array:"
   ]
  },
  {
   "cell_type": "code",
   "execution_count": 3,
   "id": "sacred-salvation",
   "metadata": {},
   "outputs": [],
   "source": [
    "x = np.array([10, 20, 30, 40, 50])"
   ]
  },
  {
   "cell_type": "code",
   "execution_count": null,
   "id": "rough-jumping",
   "metadata": {},
   "outputs": [],
   "source": []
  },
  {
   "cell_type": "markdown",
   "id": "coordinated-scope",
   "metadata": {},
   "source": [
    "#### Ordered Slicing"
   ]
  },
  {
   "cell_type": "markdown",
   "id": "alpha-spirituality",
   "metadata": {},
   "source": [
    "Slice out the second-to-fourth element of these data collections:"
   ]
  },
  {
   "cell_type": "markdown",
   "id": "transparent-brain",
   "metadata": {},
   "source": [
    "List:"
   ]
  },
  {
   "cell_type": "code",
   "execution_count": null,
   "id": "dominican-gazette",
   "metadata": {},
   "outputs": [],
   "source": [
    "x = [10, 20, 30, 40, 50]"
   ]
  },
  {
   "cell_type": "markdown",
   "id": "grave-engineer",
   "metadata": {},
   "source": [
    "Array:"
   ]
  },
  {
   "cell_type": "code",
   "execution_count": 3,
   "id": "continuous-morocco",
   "metadata": {},
   "outputs": [],
   "source": [
    "x = np.array([10, 20, 30, 40, 50])"
   ]
  },
  {
   "cell_type": "markdown",
   "id": "imported-movement",
   "metadata": {},
   "source": [
    "#### \"Mutate\" a Value inside a Collection"
   ]
  },
  {
   "cell_type": "markdown",
   "id": "streaming-selling",
   "metadata": {},
   "source": [
    "Change the third element of these data collections to the value \"A\":\n",
    "```python\n",
    "data[index] = value\n",
    "```"
   ]
  },
  {
   "cell_type": "markdown",
   "id": "agricultural-defeat",
   "metadata": {},
   "source": [
    "List:"
   ]
  },
  {
   "cell_type": "code",
   "execution_count": null,
   "id": "occasional-observation",
   "metadata": {},
   "outputs": [],
   "source": [
    "x = [\"A\", \"C\", \"G\", \"G\", \"C\", \"T\"]"
   ]
  },
  {
   "cell_type": "markdown",
   "id": "sacred-competition",
   "metadata": {},
   "source": [
    "Array:"
   ]
  },
  {
   "cell_type": "code",
   "execution_count": 3,
   "id": "historic-elder",
   "metadata": {},
   "outputs": [],
   "source": [
    "x = np.array([\"A\", \"C\", \"G\", \"G\", \"C\", \"T\"])"
   ]
  },
  {
   "cell_type": "markdown",
   "id": "expanded-anaheim",
   "metadata": {},
   "source": [
    "#### Mixing Data Types"
   ]
  },
  {
   "cell_type": "markdown",
   "id": "eleven-insight",
   "metadata": {},
   "source": [
    "Change the third element of these data collections to the value 40:\n",
    "```python\n",
    "data[index] = value\n",
    "```"
   ]
  },
  {
   "cell_type": "markdown",
   "id": "deadly-education",
   "metadata": {},
   "source": [
    "List:"
   ]
  },
  {
   "cell_type": "code",
   "execution_count": null,
   "id": "accomplished-heaven",
   "metadata": {},
   "outputs": [],
   "source": [
    "x = [\"A\", \"C\", \"G\", \"G\", \"C\", \"T\"]"
   ]
  },
  {
   "cell_type": "markdown",
   "id": "rotary-toyota",
   "metadata": {},
   "source": [
    "Array:"
   ]
  },
  {
   "cell_type": "code",
   "execution_count": 3,
   "id": "boxed-dallas",
   "metadata": {},
   "outputs": [],
   "source": [
    "x = np.array([\"A\", \"C\", \"G\", \"G\", \"C\", \"T\"])"
   ]
  },
  {
   "cell_type": "markdown",
   "id": "imposed-input",
   "metadata": {},
   "source": [
    "#### Append Values"
   ]
  },
  {
   "cell_type": "markdown",
   "id": "lucky-mustang",
   "metadata": {},
   "source": [
    "Append a new value to the end of these data:"
   ]
  },
  {
   "cell_type": "markdown",
   "id": "usual-newark",
   "metadata": {},
   "source": [
    "List:\n",
    "```python\n",
    "data.append(value)\n",
    "```"
   ]
  },
  {
   "cell_type": "code",
   "execution_count": null,
   "id": "southeast-invitation",
   "metadata": {},
   "outputs": [],
   "source": [
    "x = [\"A\", \"C\", \"G\", \"G\", \"C\", \"T\"]"
   ]
  },
  {
   "cell_type": "markdown",
   "id": "mechanical-miami",
   "metadata": {},
   "source": [
    "Array:\n",
    "```python\n",
    "np.append(data, value)\n",
    "```"
   ]
  },
  {
   "cell_type": "code",
   "execution_count": 7,
   "id": "toxic-corporation",
   "metadata": {},
   "outputs": [],
   "source": [
    "x = np.array([\"A\", \"C\", \"G\", \"G\", \"C\", \"T\"])"
   ]
  },
  {
   "cell_type": "markdown",
   "id": "lyric-plant",
   "metadata": {},
   "source": [
    "### Broadcasting\n",
    "\n",
    "Run the following code, which multiplies every value in the collection by 10"
   ]
  },
  {
   "cell_type": "markdown",
   "id": "partial-sensitivity",
   "metadata": {},
   "source": [
    "List:"
   ]
  },
  {
   "cell_type": "code",
   "execution_count": 9,
   "id": "prospective-reynolds",
   "metadata": {},
   "outputs": [
    {
     "data": {
      "text/plain": [
       "[1, 2, 3, 4, 5]"
      ]
     },
     "execution_count": 9,
     "metadata": {},
     "output_type": "execute_result"
    }
   ],
   "source": [
    "data = [1, 2, 3, 4, 5]\n",
    "data"
   ]
  },
  {
   "cell_type": "code",
   "execution_count": 10,
   "id": "enclosed-cartridge",
   "metadata": {},
   "outputs": [
    {
     "data": {
      "text/plain": [
       "[10, 20, 30, 40, 50]"
      ]
     },
     "execution_count": 10,
     "metadata": {},
     "output_type": "execute_result"
    }
   ],
   "source": [
    "data10 = [x * 10 for x in data]\n",
    "data10"
   ]
  },
  {
   "cell_type": "markdown",
   "id": "focused-burst",
   "metadata": {},
   "source": [
    "Array:"
   ]
  },
  {
   "cell_type": "code",
   "execution_count": 11,
   "id": "varied-israeli",
   "metadata": {},
   "outputs": [
    {
     "data": {
      "text/plain": [
       "array([1, 2, 3, 4, 5])"
      ]
     },
     "execution_count": 11,
     "metadata": {},
     "output_type": "execute_result"
    }
   ],
   "source": [
    "data = np.array([1, 2, 3, 4, 5])\n",
    "data"
   ]
  },
  {
   "cell_type": "code",
   "execution_count": 12,
   "id": "lonely-coral",
   "metadata": {},
   "outputs": [
    {
     "data": {
      "text/plain": [
       "array([10, 20, 30, 40, 50])"
      ]
     },
     "execution_count": 12,
     "metadata": {},
     "output_type": "execute_result"
    }
   ],
   "source": [
    "data10 = data * 10\n",
    "data10"
   ]
  },
  {
   "cell_type": "markdown",
   "id": "placed-being",
   "metadata": {},
   "source": [
    "### Fast Calculations\n",
    "\n",
    "Run the following code, which multiplies every value in the collection by 10.  This time, take a look at how long it takes to run.  Which is faster?\n",
    "\n",
    "Note: the ```%%timeit``` magic command runs the cell many times and reports the average amount of time each run of the cell's code took."
   ]
  },
  {
   "cell_type": "markdown",
   "id": "oriented-pipeline",
   "metadata": {},
   "source": [
    "List:"
   ]
  },
  {
   "cell_type": "code",
   "execution_count": 22,
   "id": "royal-heart",
   "metadata": {},
   "outputs": [
    {
     "data": {
      "text/plain": [
       "1000000"
      ]
     },
     "execution_count": 22,
     "metadata": {},
     "output_type": "execute_result"
    }
   ],
   "source": [
    "data = list(range(0, 1_000_000))\n",
    "len(data)"
   ]
  },
  {
   "cell_type": "code",
   "execution_count": 23,
   "id": "eligible-dietary",
   "metadata": {},
   "outputs": [
    {
     "name": "stdout",
     "output_type": "stream",
     "text": [
      "85.3 ms ± 1.88 ms per loop (mean ± std. dev. of 7 runs, 10 loops each)\n"
     ]
    }
   ],
   "source": [
    "%%timeit\n",
    "data10 = [x * 10 for x in data]"
   ]
  },
  {
   "cell_type": "markdown",
   "id": "hollywood-stable",
   "metadata": {},
   "source": [
    "Array:"
   ]
  },
  {
   "cell_type": "code",
   "execution_count": 24,
   "id": "minute-bumper",
   "metadata": {},
   "outputs": [
    {
     "data": {
      "text/plain": [
       "array([     0,      1,      2, ..., 999997, 999998, 999999])"
      ]
     },
     "execution_count": 24,
     "metadata": {},
     "output_type": "execute_result"
    }
   ],
   "source": [
    "data = np.arange(0, 1_000_000)\n",
    "data"
   ]
  },
  {
   "cell_type": "code",
   "execution_count": 25,
   "id": "realistic-hardware",
   "metadata": {},
   "outputs": [
    {
     "name": "stdout",
     "output_type": "stream",
     "text": [
      "1.56 ms ± 40.4 µs per loop (mean ± std. dev. of 7 runs, 1000 loops each)\n"
     ]
    }
   ],
   "source": [
    "%%timeit\n",
    "data10 = data * 10"
   ]
  },
  {
   "cell_type": "markdown",
   "id": "universal-rubber",
   "metadata": {},
   "source": [
    "Array:"
   ]
  },
  {
   "cell_type": "code",
   "execution_count": 11,
   "id": "analyzed-fundamental",
   "metadata": {},
   "outputs": [
    {
     "data": {
      "text/plain": [
       "array([1, 2, 3, 4, 5])"
      ]
     },
     "execution_count": 11,
     "metadata": {},
     "output_type": "execute_result"
    }
   ],
   "source": [
    "data = np.array([1, 2, 3, 4, 5])\n",
    "data"
   ]
  },
  {
   "cell_type": "code",
   "execution_count": 12,
   "id": "ruled-brooklyn",
   "metadata": {},
   "outputs": [
    {
     "data": {
      "text/plain": [
       "array([10, 20, 30, 40, 50])"
      ]
     },
     "execution_count": 12,
     "metadata": {},
     "output_type": "execute_result"
    }
   ],
   "source": [
    "data10 = data * 10\n",
    "data10"
   ]
  },
  {
   "cell_type": "markdown",
   "id": "lovely-sigma",
   "metadata": {},
   "source": [
    "### Fast Append\n",
    "\n",
    "Run the following code, which appends a new value to a list a thousand times.  Which is faster?\n"
   ]
  },
  {
   "cell_type": "markdown",
   "id": "referenced-planner",
   "metadata": {},
   "source": [
    "List:"
   ]
  },
  {
   "cell_type": "code",
   "execution_count": 27,
   "id": "tribal-raising",
   "metadata": {},
   "outputs": [
    {
     "name": "stdout",
     "output_type": "stream",
     "text": [
      "72.5 µs ± 2.21 µs per loop (mean ± std. dev. of 7 runs, 10000 loops each)\n"
     ]
    }
   ],
   "source": [
    "%%timeit\n",
    "data = []  # an empty list\n",
    "for _ in range(1000):  # repeat the same code 1000 times\n",
    "    data.append(\"A\")\n"
   ]
  },
  {
   "cell_type": "markdown",
   "id": "velvet-wireless",
   "metadata": {},
   "source": [
    "Array:"
   ]
  },
  {
   "cell_type": "code",
   "execution_count": 28,
   "id": "geographic-agriculture",
   "metadata": {},
   "outputs": [
    {
     "name": "stdout",
     "output_type": "stream",
     "text": [
      "5.76 ms ± 143 µs per loop (mean ± std. dev. of 7 runs, 100 loops each)\n"
     ]
    }
   ],
   "source": [
    "%%timeit\n",
    "data = np.array([], dtype=str)  # an empty array\n",
    "for _ in range(1000):  # repeat the same code 1000 times\n",
    "    data = np.append(data, \"A\")"
   ]
  },
  {
   "cell_type": "markdown",
   "id": "touched-proceeding",
   "metadata": {},
   "source": [
    "### Summary\n",
    "So long as your data is complete and well-organized, arrays are quite handy!  They are simple to work with and can crunch a lot of numbers in a short time!  On the other hand, if you want maximum flexibility, lists are perfect!"
   ]
  },
  {
   "cell_type": "markdown",
   "id": "excess-doctor",
   "metadata": {},
   "source": [
    "## Multidimensional Arrays with Numpy\n",
    "\n",
    "\n",
    "Numpy arrays can be multidimensional: they can be squares, cubes, hypercubes, etc!  When choosing datastructures, Arrays are best chosen when all of the values in the structure represent the same variable.\n",
    "\n",
    "With multidimensional arrays, everything is pretty much the same as the 1-dimensional case, with the addition of a few options for specifiying which order the dimensions should be in, and which dimension an operation should operate on."
   ]
  },
  {
   "cell_type": "markdown",
   "id": "hungarian-sympathy",
   "metadata": {},
   "source": [
    "### Creating Multidimensional Arrays\n",
    "\n",
    "Most of the array-generation functions have a **shape** or **size** optional argument in them.  If you provide a tuple with a new shape specifying the number of elements along each dimension (e.g. (5, 3) will produce a matrix with 5 rows and 3 columns), it will give you something multidimensional!\n",
    "\n",
    "```python\n",
    ">>> data = np.random.randint(1, 10, size=(4, 5))\n",
    ">>> data\n",
    "array([[9, 7, 4, 2, 3],\n",
    "       [3, 6, 7, 4, 8],\n",
    "       [3, 6, 8, 7, 3],\n",
    "       [6, 9, 4, 2, 2]])\n",
    "```\n",
    "\n",
    "For cases where there is no such option, all arrays have a **reshape()** method that lets you make it more-dimensional.  To simply **flatten** the matrix to a single dimension, you can use the **flatten()** method.\n",
    "\n",
    "```python\n",
    ">>> data.reshape(2, 10)\n",
    "array([[9, 7, 4, 2, 3, 3, 6, 7, 4, 8],\n",
    "       [3, 6, 8, 7, 3, 6, 9, 4, 2, 2]])\n",
    "\n",
    ">>> data.flatten()\n",
    "array([9, 7, 4, 2, 3, 3, 6, 7, 4, 8, 3, 6, 8, 7, 3, 6, 9, 4, 2, 2])\n",
    "```\n",
    "\n",
    "Numpy also has some auto-calculation features to make it a bit easier to get the shape you need:\n",
    "\n",
    "```python\n",
    ">>> data.reshape(-1, 5)  # -1 tells the reshape() method to calculate the value in that spot\n",
    "array([[9, 7, 4, 2, 3],\n",
    "       [3, 6, 7, 4, 8],\n",
    "       [3, 6, 8, 7, 3],\n",
    "       [6, 9, 4, 2, 2]])\n",
    "\n",
    ">>> data.flatten()[np.newaxis, :]  # Makes a 1xN array\n",
    ">>> data.flatten()[None, :]  # Also Makes a 1xN array\n",
    ">>> data.flatten()[:, None]  # Makes an Nx1 array\n",
    "```\n",
    "\n",
    "And if an array has some extra dimensions you don't care about (like a 32x1x1 array, and you just want a 32 array), you can use the **squeeze()** method to squeeze out those extra dimensions!\n",
    "\n",
    "Finally, you can find out the shape of a matrix by getting its **shape** attribute.  And to get the total number of elements, check its **size** attribute.\n",
    "\n",
    "```python\n",
    ">>> data.shape\n",
    "(4, 5)\n",
    "\n",
    ">>> data.size\n",
    "20\n",
    "```"
   ]
  },
  {
   "cell_type": "markdown",
   "id": "adequate-rings",
   "metadata": {},
   "source": [
    "#### Exercises"
   ]
  },
  {
   "cell_type": "markdown",
   "id": "composed-touch",
   "metadata": {},
   "source": [
    "Generate a 3 x 10 array of random integers between 1 and 4."
   ]
  },
  {
   "cell_type": "code",
   "execution_count": null,
   "id": "functioning-petroleum",
   "metadata": {},
   "outputs": [],
   "source": []
  },
  {
   "cell_type": "markdown",
   "id": "suburban-pendant",
   "metadata": {},
   "source": [
    "Make an array with all the values between 0 and 11, and reshape it into a 3 x 4 matrix..."
   ]
  },
  {
   "cell_type": "code",
   "execution_count": null,
   "id": "facial-steering",
   "metadata": {},
   "outputs": [],
   "source": []
  },
  {
   "cell_type": "markdown",
   "id": "thousand-stamp",
   "metadata": {},
   "source": [
    "...Reshape the previous array into a 4 x 3 matrix..."
   ]
  },
  {
   "cell_type": "code",
   "execution_count": null,
   "id": "overhead-jimmy",
   "metadata": {},
   "outputs": [],
   "source": []
  },
  {
   "cell_type": "markdown",
   "id": "hindu-weekly",
   "metadata": {},
   "source": [
    "...Reshape that array into a 2 x 6 matrix..."
   ]
  },
  {
   "cell_type": "code",
   "execution_count": null,
   "id": "labeled-compact",
   "metadata": {},
   "outputs": [],
   "source": []
  },
  {
   "cell_type": "markdown",
   "id": "precious-protest",
   "metadata": {},
   "source": [
    "...Then flatten it."
   ]
  },
  {
   "cell_type": "code",
   "execution_count": null,
   "id": "liquid-counter",
   "metadata": {},
   "outputs": [],
   "source": []
  },
  {
   "cell_type": "markdown",
   "id": "going-footage",
   "metadata": {},
   "source": [
    "Confirm its shape.  Is it the same as its size?"
   ]
  },
  {
   "cell_type": "code",
   "execution_count": null,
   "id": "duplicate-toilet",
   "metadata": {},
   "outputs": [],
   "source": []
  },
  {
   "cell_type": "markdown",
   "id": "remarkable-operations",
   "metadata": {},
   "source": [
    "### Reordering Dimensions\n",
    "\n",
    "There are many ways to transpose matrices:\n",
    "  - array.T\n",
    "  - array.transpose()\n",
    "  - np.transpose(array)\n",
    "  - array.swapaxes()\n",
    "\n",
    "Try using each of them on the array **x**."
   ]
  },
  {
   "cell_type": "code",
   "execution_count": 16,
   "id": "listed-valentine",
   "metadata": {},
   "outputs": [
    {
     "data": {
      "text/plain": [
       "array([[ 0,  1,  2,  3],\n",
       "       [ 4,  5,  6,  7],\n",
       "       [ 8,  9, 10, 11]])"
      ]
     },
     "execution_count": 16,
     "metadata": {},
     "output_type": "execute_result"
    }
   ],
   "source": [
    "x = np.arange(12).reshape(3, 4)\n",
    "x"
   ]
  },
  {
   "cell_type": "markdown",
   "id": "excellent-canon",
   "metadata": {},
   "source": [
    "**Discussion**: Let's try out each of them.  Why does Numpy have these options?  What's the benefit?"
   ]
  },
  {
   "cell_type": "code",
   "execution_count": null,
   "id": "interesting-terrorist",
   "metadata": {},
   "outputs": [],
   "source": []
  },
  {
   "cell_type": "code",
   "execution_count": null,
   "id": "living-dominant",
   "metadata": {},
   "outputs": [],
   "source": []
  },
  {
   "cell_type": "code",
   "execution_count": null,
   "id": "complicated-february",
   "metadata": {},
   "outputs": [],
   "source": []
  },
  {
   "cell_type": "code",
   "execution_count": null,
   "id": "personal-czech",
   "metadata": {},
   "outputs": [],
   "source": []
  },
  {
   "cell_type": "markdown",
   "id": "coordinated-visit",
   "metadata": {},
   "source": [
    "### Aggregating Across Axes\n",
    "\n",
    "Almost all of the Numpy functions have an **axis** option, which lets you limit the operation to just that axis.  \n",
    "\n",
    "For example, to get the mean of all rows:\n",
    "\n",
    "```python\n",
    ">>> array = np.arange(12).reshape(3, 4)\n",
    ">>> array.mean(axis=0)\n",
    "array([4., 5., 6., 7.])\n",
    "```\n",
    "\n",
    "And the mean of the columns:\n",
    "\n",
    "```python\n",
    ">>> array.mean(axis=1)\n",
    "array([1.5, 5.5, 9.5])\n",
    "```\n",
    "\n",
    "Notice that the number of dimensions goes down by default whenever you aggregate across the axis.  If you'd like to keep the dimensions the same, you can also use the **keepdims=True** option:\n",
    "\n",
    "```python\n",
    ">>> array.mean(axis=1, keepdims=True)\n",
    "array([[1.5],\n",
    "       [5.5],\n",
    "       [9.5]])\n",
    "```"
   ]
  },
  {
   "cell_type": "markdown",
   "id": "legislative-wright",
   "metadata": {},
   "source": [
    "**Exercises**: Try it out for yourself, with the provided array \"data\":"
   ]
  },
  {
   "cell_type": "code",
   "execution_count": 8,
   "id": "requested-arctic",
   "metadata": {},
   "outputs": [
    {
     "data": {
      "text/plain": [
       "array([[  6,  30, 700],\n",
       "       [  4,  60, 900],\n",
       "       [  2,  60, 700],\n",
       "       [  4,  30, 700],\n",
       "       [  7,  20, 500]])"
      ]
     },
     "execution_count": 8,
     "metadata": {},
     "output_type": "execute_result"
    }
   ],
   "source": [
    "np.random.seed(42)\n",
    "data = np.random.randint(0, 10, size=(5, 3)) * [1, 10, 100]\n",
    "data"
   ]
  },
  {
   "cell_type": "markdown",
   "id": "biological-county",
   "metadata": {},
   "source": [
    "1. What is the mean of each column?"
   ]
  },
  {
   "cell_type": "markdown",
   "id": "postal-maine",
   "metadata": {},
   "source": []
  },
  {
   "cell_type": "markdown",
   "id": "exposed-faith",
   "metadata": {},
   "source": [
    "2. What is the standard deviation of each row?"
   ]
  },
  {
   "cell_type": "code",
   "execution_count": null,
   "id": "brief-pavilion",
   "metadata": {},
   "outputs": [],
   "source": []
  },
  {
   "cell_type": "markdown",
   "id": "printable-estimate",
   "metadata": {},
   "source": [
    "3. What is the mean of each column's median?"
   ]
  },
  {
   "cell_type": "code",
   "execution_count": null,
   "id": "material-protein",
   "metadata": {},
   "outputs": [],
   "source": []
  },
  {
   "cell_type": "markdown",
   "id": "moderate-freeware",
   "metadata": {},
   "source": [
    "## Indexing Exercises"
   ]
  },
  {
   "cell_type": "markdown",
   "id": "amended-nylon",
   "metadata": {},
   "source": [
    "Numpy arrays work the same way as other sequences, but they can have multiple dimensions (rows, columns, etc) over which to index/slice the array.\n",
    "\n",
    "```python\n",
    "data = np.array([[0, 1, 2,  3],\n",
    "                 [4, 5, 6,  7],\n",
    "                 [8, 9, 10, 11]]\n",
    "               )\n",
    "second_row = data[1, :]\n",
    "third_column = data[:, 2]\n",
    "```"
   ]
  },
  {
   "cell_type": "markdown",
   "id": "analyzed-importance",
   "metadata": {},
   "source": [
    "Using the example dataset *scores*, select only the described elements from each list:"
   ]
  },
  {
   "cell_type": "code",
   "execution_count": 49,
   "id": "located-cheese",
   "metadata": {},
   "outputs": [
    {
     "data": {
      "text/plain": [
       "array([[ 1,  2,  3,  4,  5,  6,  7,  8],\n",
       "       [ 9, 10, 11, 12, 13, 14, 15, 16],\n",
       "       [17, 18, 19, 20, 21, 22, 23, 24],\n",
       "       [25, 26, 27, 28, 29, 30, 31, 32],\n",
       "       [33, 34, 35, 36, 37, 38, 39, 40],\n",
       "       [41, 42, 43, 44, 45, 46, 47, 48]])"
      ]
     },
     "execution_count": 49,
     "metadata": {},
     "output_type": "execute_result"
    }
   ],
   "source": [
    "scores = np.arange(1, 49).reshape(6, 8)\n",
    "scores"
   ]
  },
  {
   "cell_type": "markdown",
   "id": "suited-police",
   "metadata": {},
   "source": [
    "The first score in the 2nd row:"
   ]
  },
  {
   "cell_type": "code",
   "execution_count": null,
   "id": "persistent-reggae",
   "metadata": {},
   "outputs": [],
   "source": []
  },
  {
   "cell_type": "markdown",
   "id": "sweet-courage",
   "metadata": {},
   "source": [
    "The third-through-fifth columns:"
   ]
  },
  {
   "cell_type": "code",
   "execution_count": null,
   "id": "static-evolution",
   "metadata": {},
   "outputs": [],
   "source": []
  },
  {
   "cell_type": "markdown",
   "id": "dress-annotation",
   "metadata": {},
   "source": [
    "The last score:"
   ]
  },
  {
   "cell_type": "code",
   "execution_count": null,
   "id": "significant-lindsay",
   "metadata": {},
   "outputs": [],
   "source": []
  },
  {
   "cell_type": "markdown",
   "id": "greenhouse-banking",
   "metadata": {},
   "source": [
    "The 2nd through 5th score, in the 6th column:"
   ]
  },
  {
   "cell_type": "code",
   "execution_count": null,
   "id": "english-thesaurus",
   "metadata": {},
   "outputs": [],
   "source": []
  },
  {
   "cell_type": "markdown",
   "id": "incredible-thickness",
   "metadata": {},
   "source": [
    "All the scores greater than 20:"
   ]
  },
  {
   "cell_type": "code",
   "execution_count": null,
   "id": "genetic-harrison",
   "metadata": {},
   "outputs": [],
   "source": []
  },
  {
   "cell_type": "markdown",
   "id": "beautiful-worcester",
   "metadata": {},
   "source": [
    "The rectangle inscribed by scores 19, 22, 35, and 38:"
   ]
  },
  {
   "cell_type": "code",
   "execution_count": null,
   "id": "complimentary-poster",
   "metadata": {},
   "outputs": [],
   "source": []
  },
  {
   "cell_type": "markdown",
   "id": "canadian-semester",
   "metadata": {},
   "source": [
    "The rectangle inscribed by scores 42, 44, 12, and 10:"
   ]
  },
  {
   "cell_type": "code",
   "execution_count": null,
   "id": "wooden-drain",
   "metadata": {},
   "outputs": [],
   "source": []
  },
  {
   "cell_type": "markdown",
   "id": "available-motor",
   "metadata": {},
   "source": [
    "##### Setting New Values\n",
    "\n",
    "For arrays, indexing can also be used to assign a new value.  Let's try it out, using the following pattern:\n",
    "\n",
    "```python\n",
    "data[0, :] = 10  # changes all values in the first row to 10\n",
    "data\n",
    "```"
   ]
  },
  {
   "cell_type": "code",
   "execution_count": 11,
   "id": "civic-offset",
   "metadata": {},
   "outputs": [
    {
     "data": {
      "text/plain": [
       "array([[ 1,  2,  3,  4,  5,  6,  7,  8],\n",
       "       [ 9, 10, 11, 12, 13, 14, 15, 16],\n",
       "       [17, 18, 19, 20, 21, 22, 23, 24],\n",
       "       [25, 26, 27, 28, 29, 30, 31, 32],\n",
       "       [33, 34, 35, 36, 37, 38, 39, 40],\n",
       "       [41, 42, 43, 44, 45, 46, 47, 48]])"
      ]
     },
     "execution_count": 11,
     "metadata": {},
     "output_type": "execute_result"
    }
   ],
   "source": [
    "scores = np.arange(1, 49).reshape(6, 8)\n",
    "scores"
   ]
  },
  {
   "cell_type": "markdown",
   "id": "wrong-stanley",
   "metadata": {},
   "source": [
    "Change the 3rd column to all 10s:"
   ]
  },
  {
   "cell_type": "code",
   "execution_count": null,
   "id": "pleased-liechtenstein",
   "metadata": {},
   "outputs": [],
   "source": []
  },
  {
   "cell_type": "markdown",
   "id": "recovered-lawsuit",
   "metadata": {},
   "source": [
    "Change the last score to 999:"
   ]
  },
  {
   "cell_type": "code",
   "execution_count": null,
   "id": "musical-slovenia",
   "metadata": {},
   "outputs": [],
   "source": []
  },
  {
   "cell_type": "markdown",
   "id": "driven-finnish",
   "metadata": {},
   "source": [
    "Change the 4th row to 0:"
   ]
  },
  {
   "cell_type": "code",
   "execution_count": null,
   "id": "crucial-affect",
   "metadata": {},
   "outputs": [],
   "source": []
  },
  {
   "cell_type": "markdown",
   "id": "light-syndication",
   "metadata": {},
   "source": [
    "Change the 5th column to nan  (e.g. np.nan)"
   ]
  },
  {
   "cell_type": "code",
   "execution_count": null,
   "id": "indirect-skirt",
   "metadata": {},
   "outputs": [],
   "source": []
  }
 ],
 "metadata": {
  "kernelspec": {
   "display_name": "Python 3",
   "language": "python",
   "name": "python3"
  },
  "language_info": {
   "codemirror_mode": {
    "name": "ipython",
    "version": 3
   },
   "file_extension": ".py",
   "mimetype": "text/x-python",
   "name": "python",
   "nbconvert_exporter": "python",
   "pygments_lexer": "ipython3",
   "version": "3.8.3"
  }
 },
 "nbformat": 4,
 "nbformat_minor": 5
}
