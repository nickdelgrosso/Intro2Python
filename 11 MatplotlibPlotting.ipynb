{
 "cells": [
  {
   "cell_type": "code",
   "execution_count": 1,
   "id": "vertical-equivalent",
   "metadata": {},
   "outputs": [],
   "source": [
    "%matplotlib inline"
   ]
  },
  {
   "cell_type": "code",
   "execution_count": 2,
   "id": "affecting-elephant",
   "metadata": {},
   "outputs": [],
   "source": [
    "import matplotlib"
   ]
  },
  {
   "cell_type": "code",
   "execution_count": 3,
   "id": "velvet-police",
   "metadata": {},
   "outputs": [
    {
     "name": "stdout",
     "output_type": "stream",
     "text": [
      "['Solarize_Light2', '_classic_test_patch', 'bmh', 'classic', 'dark_background', 'fast', 'fivethirtyeight', 'ggplot', 'grayscale', 'seaborn', 'seaborn-bright', 'seaborn-colorblind', 'seaborn-dark', 'seaborn-dark-palette', 'seaborn-darkgrid', 'seaborn-deep', 'seaborn-muted', 'seaborn-notebook', 'seaborn-paper', 'seaborn-pastel', 'seaborn-poster', 'seaborn-talk', 'seaborn-ticks', 'seaborn-white', 'seaborn-whitegrid', 'tableau-colorblind10']\n"
     ]
    }
   ],
   "source": [
    "print(matplotlib.style.available)"
   ]
  },
  {
   "cell_type": "code",
   "execution_count": 4,
   "id": "automated-lover",
   "metadata": {},
   "outputs": [],
   "source": [
    "matplotlib.style.use('fivethirtyeight')"
   ]
  },
  {
   "cell_type": "code",
   "execution_count": 5,
   "id": "activated-graham",
   "metadata": {},
   "outputs": [],
   "source": [
    "import numpy as np\n",
    "import matplotlib.pyplot as plt"
   ]
  },
  {
   "cell_type": "markdown",
   "id": "italic-cemetery",
   "metadata": {},
   "source": [
    "## Exercises: Make some attractive plots!"
   ]
  },
  {
   "cell_type": "markdown",
   "id": "genuine-coordination",
   "metadata": {},
   "source": [
    "### Make a Line Plot showing the following timeseries:"
   ]
  },
  {
   "cell_type": "code",
   "execution_count": 6,
   "id": "superior-simpson",
   "metadata": {},
   "outputs": [],
   "source": [
    "secs = np.sort(np.random.uniform(3, 100, size=100))\n",
    "data1 = np.random.gamma(1.7, 1., size=100)"
   ]
  },
  {
   "cell_type": "markdown",
   "id": "commercial-strategy",
   "metadata": {},
   "source": [
    "### Make a figure showing 3 different random distributions's pdfs and cdfs"
   ]
  },
  {
   "cell_type": "code",
   "execution_count": null,
   "id": "italic-temperature",
   "metadata": {},
   "outputs": [],
   "source": []
  },
  {
   "cell_type": "code",
   "execution_count": null,
   "id": "involved-harassment",
   "metadata": {},
   "outputs": [],
   "source": []
  },
  {
   "cell_type": "markdown",
   "id": "fluid-assist",
   "metadata": {},
   "source": [
    "### Make a figure comparing \n",
    "$$ 2 ^ x $$ \n",
    "against \n",
    "$$ x^2 $$.  \n",
    "\n",
    "Where do they intersect?"
   ]
  },
  {
   "cell_type": "code",
   "execution_count": null,
   "id": "short-commitment",
   "metadata": {},
   "outputs": [],
   "source": []
  },
  {
   "cell_type": "markdown",
   "id": "mature-borough",
   "metadata": {},
   "source": [
    "### Plot some noisy sinusoidal data as points, along with a line through the non-noisy wave"
   ]
  },
  {
   "cell_type": "code",
   "execution_count": null,
   "id": "serial-breed",
   "metadata": {},
   "outputs": [],
   "source": []
  },
  {
   "cell_type": "markdown",
   "id": "recovered-antigua",
   "metadata": {},
   "source": [
    "### Exercise: \"T-Test Simulator\".  Use the starting code below to build interactions that change the mean and standard deviation of the dataset. \n",
    "\n",
    "*Note*: May need to install scipy and ipywidgets.  If Ipywidgets needs to be installed, then VSCode/JupyterLab will need to be restarted for the widgets to work."
   ]
  },
  {
   "cell_type": "code",
   "execution_count": null,
   "id": "alternate-prediction",
   "metadata": {},
   "outputs": [],
   "source": [
    "#  !conda install -y ipywidgets"
   ]
  },
  {
   "cell_type": "code",
   "execution_count": 14,
   "id": "automotive-recording",
   "metadata": {},
   "outputs": [],
   "source": [
    "from ipywidgets import interact, IntSlider, Checkbox, FloatSlider\n",
    "from scipy.stats import ttest_1samp"
   ]
  },
  {
   "cell_type": "code",
   "execution_count": 15,
   "id": "divine-bouquet",
   "metadata": {},
   "outputs": [
    {
     "data": {
      "application/vnd.jupyter.widget-view+json": {
       "model_id": "75807d8e8798414d8b4df24243b391f3",
       "version_major": 2,
       "version_minor": 0
      },
      "text/plain": [
       "interactive(children=(IntSlider(value=10, description='bins', min=3), Checkbox(value=False, description='cdf')…"
      ]
     },
     "metadata": {},
     "output_type": "display_data"
    }
   ],
   "source": [
    "x = np.random.randn(100)\n",
    "\n",
    "@interact(\n",
    "    bins=IntSlider(10, 3, 100),\n",
    "    cdf=Checkbox(),\n",
    ")\n",
    "def hist(bins, cdf):\n",
    "    plt.figure(figsize=(2, 2))\n",
    "    plt.hist(x, bins=bins, cumulative=cdf)\n",
    "    t = ttest_1samp(x, 0)\n",
    "    print(f\"t={t.statistic:.2f}, p={t.pvalue:.3f}\")\n",
    "    \n"
   ]
  }
 ],
 "metadata": {
  "kernelspec": {
   "display_name": "Python 3",
   "language": "python",
   "name": "python3"
  },
  "language_info": {
   "codemirror_mode": {
    "name": "ipython",
    "version": 3
   },
   "file_extension": ".py",
   "mimetype": "text/x-python",
   "name": "python",
   "nbconvert_exporter": "python",
   "pygments_lexer": "ipython3",
   "version": "3.8.3"
  },
  "metadata": {
   "interpreter": {
    "hash": "fc0e67284b290651ff490186edfcd112a3a9886d035b0e6d700f36a65c8bc338"
   }
  }
 },
 "nbformat": 4,
 "nbformat_minor": 5
}
