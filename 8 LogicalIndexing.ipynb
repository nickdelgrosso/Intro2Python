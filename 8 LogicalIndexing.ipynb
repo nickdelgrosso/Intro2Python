{
 "cells": [
  {
   "cell_type": "code",
   "execution_count": 2,
   "id": "hawaiian-boost",
   "metadata": {},
   "outputs": [],
   "source": [
    "import numpy as np"
   ]
  },
  {
   "cell_type": "markdown",
   "id": "senior-brain",
   "metadata": {},
   "source": [
    "# Filtering Data\n",
    "\n",
    "Sometimes you want to remove certain values from your dataset.  In Numpy, this can be done with **Logical Indexing**, and in normal Python this is done with an **If Statement**"
   ]
  },
  {
   "cell_type": "markdown",
   "id": "magnetic-badge",
   "metadata": {},
   "source": [
    "## With Logical Indexing"
   ]
  },
  {
   "cell_type": "markdown",
   "id": "worth-generation",
   "metadata": {},
   "source": [
    "### Step 1: Create a Logical Numpy Array\n",
    "\n",
    "We can convert all of the values in an array at once with a single logical expression.  This is broadcasting, the same as is done with the math operations we saw earlier:\n",
    "\n",
    "```python\n",
    ">>> data = np.array([1, 2, 3, 4, 5])\n",
    ">>> data < 3\n",
    "[True, True, False, False, False]\n",
    "```"
   ]
  },
  {
   "cell_type": "markdown",
   "id": "described-pilot",
   "metadata": {},
   "source": [
    "**Exercises**: Make arrays of True/False values that answer the following questions about the dataset below for each element."
   ]
  },
  {
   "cell_type": "code",
   "execution_count": 4,
   "id": "blocked-dependence",
   "metadata": {},
   "outputs": [],
   "source": [
    "import numpy as np\n",
    "\n",
    "list_of_values = [3, 7, 10, 2, 1, 7, 20, -5]\n",
    "data = np.array(list_of_values)"
   ]
  },
  {
   "cell_type": "markdown",
   "id": "early-basketball",
   "metadata": {},
   "source": [
    "1. Which values are greater than zero?"
   ]
  },
  {
   "cell_type": "code",
   "execution_count": null,
   "id": "liquid-guidance",
   "metadata": {},
   "outputs": [],
   "source": []
  },
  {
   "cell_type": "markdown",
   "id": "toxic-moore",
   "metadata": {},
   "source": [
    "2. Which values are equal to 7?"
   ]
  },
  {
   "cell_type": "code",
   "execution_count": null,
   "id": "helpful-politics",
   "metadata": {},
   "outputs": [],
   "source": []
  },
  {
   "cell_type": "markdown",
   "id": "warming-review",
   "metadata": {},
   "source": [
    "3. Which values are greater or equal to 7?"
   ]
  },
  {
   "cell_type": "code",
   "execution_count": null,
   "id": "massive-platform",
   "metadata": {},
   "outputs": [],
   "source": []
  },
  {
   "cell_type": "markdown",
   "id": "frequent-lawsuit",
   "metadata": {},
   "source": [
    "4. Which values are not equal to 7?"
   ]
  },
  {
   "cell_type": "code",
   "execution_count": null,
   "id": "little-connection",
   "metadata": {},
   "outputs": [],
   "source": []
  },
  {
   "cell_type": "markdown",
   "id": "conservative-season",
   "metadata": {},
   "source": [
    "## Step 2: Filter with Logical Indexing\n",
    "\n",
    "If an array of True/False values is used to *index* another array, and both arrays are the same size, it will return all of the values that correspond to the True values of the indexing array:\n",
    "\n",
    "```python\n",
    ">>> data = np.array([1, 2, 3, 4, 5])\n",
    ">>> is_big = data > 3\n",
    ">>> is_big\n",
    "[False, False, False, True, True]\n",
    "\n",
    ">>> data[is_big]\n",
    "[4, 5]\n",
    "```\n"
   ]
  },
  {
   "cell_type": "markdown",
   "id": "sharing-liability",
   "metadata": {},
   "source": [
    "**Exercises**:  Using the data below, extract only the values that corresspond to each question"
   ]
  },
  {
   "cell_type": "code",
   "execution_count": 14,
   "id": "missing-security",
   "metadata": {},
   "outputs": [
    {
     "data": {
      "text/plain": [
       "array([ 3,  1, -6,  8, 20,  2,  7,  1,  9,  7,  7, -7])"
      ]
     },
     "execution_count": 14,
     "metadata": {},
     "output_type": "execute_result"
    }
   ],
   "source": [
    "data = np.array([3, 1, -6, 8, 20, 2, 7, 1, 9, 7, 7, -7])\n",
    "data"
   ]
  },
  {
   "cell_type": "markdown",
   "id": "defensive-people",
   "metadata": {},
   "source": [
    "1. The values that are less than 0"
   ]
  },
  {
   "cell_type": "code",
   "execution_count": null,
   "id": "precise-import",
   "metadata": {},
   "outputs": [],
   "source": []
  },
  {
   "cell_type": "markdown",
   "id": "sharp-aspect",
   "metadata": {},
   "source": [
    "2. The values that are greater than 3"
   ]
  },
  {
   "cell_type": "code",
   "execution_count": null,
   "id": "pediatric-breeding",
   "metadata": {},
   "outputs": [],
   "source": []
  },
  {
   "cell_type": "markdown",
   "id": "outdoor-zealand",
   "metadata": {},
   "source": [
    "3. The values equal to 7"
   ]
  },
  {
   "cell_type": "code",
   "execution_count": null,
   "id": "musical-aspect",
   "metadata": {},
   "outputs": [],
   "source": []
  },
  {
   "cell_type": "markdown",
   "id": "fuzzy-dressing",
   "metadata": {},
   "source": [
    "4. The values not equal to 7"
   ]
  },
  {
   "cell_type": "code",
   "execution_count": null,
   "id": "empirical-emergency",
   "metadata": {},
   "outputs": [],
   "source": []
  },
  {
   "cell_type": "markdown",
   "id": "sitting-acting",
   "metadata": {},
   "source": [
    "  5. The values equal to 20"
   ]
  },
  {
   "cell_type": "code",
   "execution_count": null,
   "id": "stainless-business",
   "metadata": {},
   "outputs": [],
   "source": []
  },
  {
   "cell_type": "markdown",
   "id": "demonstrated-tourism",
   "metadata": {},
   "source": [
    "### Step 2.5: Combine Step 1 and Step 2 into a single line\n",
    "\n",
    "Both steps can be done in a single expression.  Sometimes this can make things clearer!\n",
    "\n",
    "\n",
    "```python\n",
    ">>> data = np.array([1, 2, 3, 4, 5])\n",
    ">>> data[data > 3]\n",
    "[4, 5]\n",
    "```\n",
    "\n"
   ]
  },
  {
   "cell_type": "markdown",
   "id": "amber-hebrew",
   "metadata": {},
   "source": [
    "**Exercises**: Do the same as in the previous section, this time in a single line."
   ]
  },
  {
   "cell_type": "code",
   "execution_count": 28,
   "id": "concerned-latex",
   "metadata": {},
   "outputs": [
    {
     "data": {
      "text/plain": [
       "array([ 3,  1, -6,  8, 20,  2,  7,  1,  9,  7,  7, -7])"
      ]
     },
     "execution_count": 28,
     "metadata": {},
     "output_type": "execute_result"
    }
   ],
   "source": [
    "data = np.array([3, 1, -6, 8, 20, 2, 7, 1, 9, 7, 7, -7])\n",
    "data"
   ]
  },
  {
   "cell_type": "markdown",
   "id": "chief-lawrence",
   "metadata": {},
   "source": [
    "1. The values that are less than 0"
   ]
  },
  {
   "cell_type": "code",
   "execution_count": null,
   "id": "shaped-clinic",
   "metadata": {},
   "outputs": [],
   "source": []
  },
  {
   "cell_type": "markdown",
   "id": "under-flight",
   "metadata": {},
   "source": [
    "2. The values that are greater than 3"
   ]
  },
  {
   "cell_type": "code",
   "execution_count": null,
   "id": "empirical-marsh",
   "metadata": {},
   "outputs": [],
   "source": []
  },
  {
   "cell_type": "markdown",
   "id": "serious-finance",
   "metadata": {},
   "source": [
    "3. The values equal to 7"
   ]
  },
  {
   "cell_type": "code",
   "execution_count": null,
   "id": "sweet-meaning",
   "metadata": {},
   "outputs": [],
   "source": []
  },
  {
   "cell_type": "markdown",
   "id": "young-coalition",
   "metadata": {},
   "source": [
    "4. The values not equal to 7"
   ]
  },
  {
   "cell_type": "code",
   "execution_count": null,
   "id": "computational-quebec",
   "metadata": {},
   "outputs": [],
   "source": []
  },
  {
   "cell_type": "markdown",
   "id": "martial-enhancement",
   "metadata": {},
   "source": [
    "  5. The values equal to 20"
   ]
  },
  {
   "cell_type": "code",
   "execution_count": null,
   "id": "forward-comparison",
   "metadata": {},
   "outputs": [],
   "source": []
  },
  {
   "cell_type": "code",
   "execution_count": null,
   "id": "supreme-purse",
   "metadata": {},
   "outputs": [],
   "source": []
  },
  {
   "cell_type": "markdown",
   "id": "surprised-airfare",
   "metadata": {},
   "source": [
    "Using the following dataset, have Python to calculate the answers to the questions below:"
   ]
  },
  {
   "cell_type": "code",
   "execution_count": 22,
   "id": "incoming-pierce",
   "metadata": {},
   "outputs": [
    {
     "data": {
      "text/plain": [
       "array([ 3,  1, -6,  8, 20,  2,  7,  1,  9,  7,  7, -7])"
      ]
     },
     "execution_count": 22,
     "metadata": {},
     "output_type": "execute_result"
    }
   ],
   "source": [
    "data = np.array([3, 1, -6, 8, 20, 2, 7, 1, 9, 7, 7, -7])\n",
    "data"
   ]
  },
  {
   "cell_type": "markdown",
   "id": "virgin-distributor",
   "metadata": {},
   "source": [
    "1. How many values are greater than 4 in this dataset?  (*Hint:* the len() function is useful here)"
   ]
  },
  {
   "cell_type": "code",
   "execution_count": null,
   "id": "removed-fashion",
   "metadata": {},
   "outputs": [],
   "source": []
  },
  {
   "cell_type": "markdown",
   "id": "alive-vegetation",
   "metadata": {},
   "source": [
    "2. How many values are equal to 7 in this dataset?"
   ]
  },
  {
   "cell_type": "code",
   "execution_count": null,
   "id": "racial-convertible",
   "metadata": {},
   "outputs": [],
   "source": []
  },
  {
   "cell_type": "markdown",
   "id": "corresponding-hepatitis",
   "metadata": {},
   "source": [
    "3. What is the mean value of the positive numbers in this dataset?"
   ]
  },
  {
   "cell_type": "code",
   "execution_count": null,
   "id": "connected-banking",
   "metadata": {},
   "outputs": [],
   "source": []
  },
  {
   "cell_type": "code",
   "execution_count": null,
   "id": "1b441401",
   "metadata": {},
   "outputs": [],
   "source": []
  },
  {
   "cell_type": "markdown",
   "id": "english-conflict",
   "metadata": {},
   "source": [
    "4. What is the mean value of the negative numbers in this dataset?"
   ]
  },
  {
   "cell_type": "code",
   "execution_count": null,
   "id": "activated-missile",
   "metadata": {},
   "outputs": [],
   "source": []
  },
  {
   "cell_type": "code",
   "execution_count": null,
   "id": "0b2f3a2f",
   "metadata": {},
   "outputs": [],
   "source": []
  },
  {
   "cell_type": "markdown",
   "id": "breeding-collective",
   "metadata": {},
   "source": [
    "5. What proportion of the values in this dataset are positive?"
   ]
  },
  {
   "cell_type": "code",
   "execution_count": null,
   "id": "driving-midwest",
   "metadata": {},
   "outputs": [],
   "source": []
  },
  {
   "cell_type": "code",
   "execution_count": null,
   "id": "6a4a9642",
   "metadata": {},
   "outputs": [],
   "source": []
  },
  {
   "cell_type": "markdown",
   "id": "alternate-brick",
   "metadata": {},
   "source": [
    "6. What proportion of the values in this dataset are less than or equal to 8?"
   ]
  },
  {
   "cell_type": "code",
   "execution_count": null,
   "id": "seasonal-memorabilia",
   "metadata": {},
   "outputs": [],
   "source": []
  },
  {
   "cell_type": "code",
   "execution_count": null,
   "id": "9d481008",
   "metadata": {},
   "outputs": [],
   "source": []
  },
  {
   "cell_type": "markdown",
   "id": "dominican-surge",
   "metadata": {},
   "source": [
    "## Visual Filtering: Selecting Data in your Plots\n",
    "\n",
    "**Exercise**: Load the \"cell.jpg\" image, and change \"red\" channel of the the brightest parts of the image (the nuclei, more or less) to 255. "
   ]
  },
  {
   "cell_type": "code",
   "execution_count": 45,
   "id": "ranging-jamaica",
   "metadata": {},
   "outputs": [
    {
     "data": {
      "text/plain": [
       "<matplotlib.image.AxesImage at 0x1f26a3dbca0>"
      ]
     },
     "execution_count": 45,
     "metadata": {},
     "output_type": "execute_result"
    },
    {
     "data": {
      "image/png": "[encoded data removed]",
      "image/svg+xml": [
       "<?xml version=\"1.0\" encoding=\"utf-8\" standalone=\"no\"?>\r\n",
       "<!DOCTYPE svg PUBLIC \"-//W3C//DTD SVG 1.1//EN\"\r\n",
       "  \"http://www.w3.org/Graphics/SVG/1.1/DTD/svg11.dtd\">\r\n",
       "<svg height=\"252.189588pt\" version=\"1.1\" viewBox=\"0 0 367.541789 252.189588\" width=\"367.541789pt\" xmlns=\"http://www.w3.org/2000/svg\" xmlns:xlink=\"http://www.w3.org/1999/xlink\">\r\n",
       " <metadata>\r\n",
       "  <rdf:RDF xmlns:cc=\"http://creativecommons.org/ns#\" xmlns:dc=\"http://purl.org/dc/elements/1.1/\" xmlns:rdf=\"http://www.w3.org/1999/02/22-rdf-syntax-ns#\">\r\n",
       "   <cc:Work>\r\n",
       "    <dc:type rdf:resource=\"http://purl.org/dc/dcmitype/StillImage\"/>\r\n",
       "    <dc:date>2021-05-18T10:49:55.126512</dc:date>\r\n",
       "    <dc:format>image/svg+xml</dc:format>\r\n",
       "    <dc:creator>\r\n",
       "     <cc:Agent>\r\n",
       "      <dc:title>Matplotlib v3.4.2, https://matplotlib.org/</dc:title>\r\n",
       "     </cc:Agent>\r\n",
       "    </dc:creator>\r\n",
       "   </cc:Work>\r\n",
       "  </rdf:RDF>\r\n",
       " </metadata>\r\n",
       " <defs>\r\n",
       "  <style type=\"text/css\">*{stroke-linecap:butt;stroke-linejoin:round;}</style>\r\n",
       " </defs>\r\n",
       " <g id=\"figure_1\">\r\n",
       "  <g id=\"patch_1\">\r\n",
       "   <path d=\"M 0 252.189588 \r\n",
       "L 367.541789 252.189588 \r\n",
       "L 367.541789 0 \r\n",
       "L 0 0 \r\n",
       "z\r\n",
       "\" style=\"fill:none;\"/>\r\n",
       "  </g>\r\n",
       "  <g id=\"axes_1\">\r\n",
       "   <g id=\"patch_2\">\r\n",
       "    <path d=\"M 33.2875 228.311463 \r\n",
       "L 360.341789 228.311463 \r\n",
       "L 360.341789 10.871463 \r\n",
       "L 33.2875 10.871463 \r\n",
       "z\r\n",
       "\" style=\"fill:#ffffff;\"/>\r\n",
       "   </g>\r\n",
       "   <g clip-path=\"url(#pd9d259b15c)\">\r\n",
       "    <image height=\"218\" id=\"imaged8946c189e\" transform=\"scale(1 -1)translate(0 -218)\" width=\"328\" x=\"33.2875\" xlink:href=\"data:image/png;base64,\r\n",
       "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\" y=\"-10.311463\"/>\r\n",
       "   </g>\r\n",
       "   <g id=\"matplotlib.axis_1\">\r\n",
       "    <g id=\"xtick_1\">\r\n",
       "     <g id=\"line2d_1\">\r\n",
       "      <defs>\r\n",
       "       <path d=\"M 0 0 \r\n",
       "L 0 3.5 \r\n",
       "\" id=\"m55eb97a8fc\" style=\"stroke:#000000;stroke-width:0.8;\"/>\r\n",
       "      </defs>\r\n",
       "      <g>\r\n",
       "       <use style=\"stroke:#000000;stroke-width:0.8;\" x=\"33.415256\" xlink:href=\"#m55eb97a8fc\" y=\"228.311463\"/>\r\n",
       "      </g>\r\n",
       "     </g>\r\n",
       "     <g id=\"text_1\">\r\n",
       "      <!-- 0 -->\r\n",
       "      <g transform=\"translate(30.234006 242.909901)scale(0.1 -0.1)\">\r\n",
       "       <defs>\r\n",
       "        <path d=\"M 2034 4250 \r\n",
       "Q 1547 4250 1301 3770 \r\n",
       "Q 1056 3291 1056 2328 \r\n",
       "Q 1056 1369 1301 889 \r\n",
       "Q 1547 409 2034 409 \r\n",
       "Q 2525 409 2770 889 \r\n",
       "Q 3016 1369 3016 2328 \r\n",
       "Q 3016 3291 2770 3770 \r\n",
       "Q 2525 4250 2034 4250 \r\n",
       "z\r\n",
       "M 2034 4750 \r\n",
       "Q 2819 4750 3233 4129 \r\n",
       "Q 3647 3509 3647 2328 \r\n",
       "Q 3647 1150 3233 529 \r\n",
       "Q 2819 -91 2034 -91 \r\n",
       "Q 1250 -91 836 529 \r\n",
       "Q 422 1150 422 2328 \r\n",
       "Q 422 3509 836 4129 \r\n",
       "Q 1250 4750 2034 4750 \r\n",
       "z\r\n",
       "\" id=\"DejaVuSans-30\" transform=\"scale(0.015625)\"/>\r\n",
       "       </defs>\r\n",
       "       <use xlink:href=\"#DejaVuSans-30\"/>\r\n",
       "      </g>\r\n",
       "     </g>\r\n",
       "    </g>\r\n",
       "    <g id=\"xtick_2\">\r\n",
       "     <g id=\"line2d_2\">\r\n",
       "      <g>\r\n",
       "       <use style=\"stroke:#000000;stroke-width:0.8;\" x=\"84.517488\" xlink:href=\"#m55eb97a8fc\" y=\"228.311463\"/>\r\n",
       "      </g>\r\n",
       "     </g>\r\n",
       "     <g id=\"text_2\">\r\n",
       "      <!-- 200 -->\r\n",
       "      <g transform=\"translate(74.973738 242.909901)scale(0.1 -0.1)\">\r\n",
       "       <defs>\r\n",
       "        <path d=\"M 1228 531 \r\n",
       "L 3431 531 \r\n",
       "L 3431 0 \r\n",
       "L 469 0 \r\n",
       "L 469 531 \r\n",
       "Q 828 903 1448 1529 \r\n",
       "Q 2069 2156 2228 2338 \r\n",
       "Q 2531 2678 2651 2914 \r\n",
       "Q 2772 3150 2772 3378 \r\n",
       "Q 2772 3750 2511 3984 \r\n",
       "Q 2250 4219 1831 4219 \r\n",
       "Q 1534 4219 1204 4116 \r\n",
       "Q 875 4013 500 3803 \r\n",
       "L 500 4441 \r\n",
       "Q 881 4594 1212 4672 \r\n",
       "Q 1544 4750 1819 4750 \r\n",
       "Q 2544 4750 2975 4387 \r\n",
       "Q 3406 4025 3406 3419 \r\n",
       "Q 3406 3131 3298 2873 \r\n",
       "Q 3191 2616 2906 2266 \r\n",
       "Q 2828 2175 2409 1742 \r\n",
       "Q 1991 1309 1228 531 \r\n",
       "z\r\n",
       "\" id=\"DejaVuSans-32\" transform=\"scale(0.015625)\"/>\r\n",
       "       </defs>\r\n",
       "       <use xlink:href=\"#DejaVuSans-32\"/>\r\n",
       "       <use x=\"63.623047\" xlink:href=\"#DejaVuSans-30\"/>\r\n",
       "       <use x=\"127.246094\" xlink:href=\"#DejaVuSans-30\"/>\r\n",
       "      </g>\r\n",
       "     </g>\r\n",
       "    </g>\r\n",
       "    <g id=\"xtick_3\">\r\n",
       "     <g id=\"line2d_3\">\r\n",
       "      <g>\r\n",
       "       <use style=\"stroke:#000000;stroke-width:0.8;\" x=\"135.619721\" xlink:href=\"#m55eb97a8fc\" y=\"228.311463\"/>\r\n",
       "      </g>\r\n",
       "     </g>\r\n",
       "     <g id=\"text_3\">\r\n",
       "      <!-- 400 -->\r\n",
       "      <g transform=\"translate(126.075971 242.909901)scale(0.1 -0.1)\">\r\n",
       "       <defs>\r\n",
       "        <path d=\"M 2419 4116 \r\n",
       "L 825 1625 \r\n",
       "L 2419 1625 \r\n",
       "L 2419 4116 \r\n",
       "z\r\n",
       "M 2253 4666 \r\n",
       "L 3047 4666 \r\n",
       "L 3047 1625 \r\n",
       "L 3713 1625 \r\n",
       "L 3713 1100 \r\n",
       "L 3047 1100 \r\n",
       "L 3047 0 \r\n",
       "L 2419 0 \r\n",
       "L 2419 1100 \r\n",
       "L 313 1100 \r\n",
       "L 313 1709 \r\n",
       "L 2253 4666 \r\n",
       "z\r\n",
       "\" id=\"DejaVuSans-34\" transform=\"scale(0.015625)\"/>\r\n",
       "       </defs>\r\n",
       "       <use xlink:href=\"#DejaVuSans-34\"/>\r\n",
       "       <use x=\"63.623047\" xlink:href=\"#DejaVuSans-30\"/>\r\n",
       "       <use x=\"127.246094\" xlink:href=\"#DejaVuSans-30\"/>\r\n",
       "      </g>\r\n",
       "     </g>\r\n",
       "    </g>\r\n",
       "    <g id=\"xtick_4\">\r\n",
       "     <g id=\"line2d_4\">\r\n",
       "      <g>\r\n",
       "       <use style=\"stroke:#000000;stroke-width:0.8;\" x=\"186.721954\" xlink:href=\"#m55eb97a8fc\" y=\"228.311463\"/>\r\n",
       "      </g>\r\n",
       "     </g>\r\n",
       "     <g id=\"text_4\">\r\n",
       "      <!-- 600 -->\r\n",
       "      <g transform=\"translate(177.178204 242.909901)scale(0.1 -0.1)\">\r\n",
       "       <defs>\r\n",
       "        <path d=\"M 2113 2584 \r\n",
       "Q 1688 2584 1439 2293 \r\n",
       "Q 1191 2003 1191 1497 \r\n",
       "Q 1191 994 1439 701 \r\n",
       "Q 1688 409 2113 409 \r\n",
       "Q 2538 409 2786 701 \r\n",
       "Q 3034 994 3034 1497 \r\n",
       "Q 3034 2003 2786 2293 \r\n",
       "Q 2538 2584 2113 2584 \r\n",
       "z\r\n",
       "M 3366 4563 \r\n",
       "L 3366 3988 \r\n",
       "Q 3128 4100 2886 4159 \r\n",
       "Q 2644 4219 2406 4219 \r\n",
       "Q 1781 4219 1451 3797 \r\n",
       "Q 1122 3375 1075 2522 \r\n",
       "Q 1259 2794 1537 2939 \r\n",
       "Q 1816 3084 2150 3084 \r\n",
       "Q 2853 3084 3261 2657 \r\n",
       "Q 3669 2231 3669 1497 \r\n",
       "Q 3669 778 3244 343 \r\n",
       "Q 2819 -91 2113 -91 \r\n",
       "Q 1303 -91 875 529 \r\n",
       "Q 447 1150 447 2328 \r\n",
       "Q 447 3434 972 4092 \r\n",
       "Q 1497 4750 2381 4750 \r\n",
       "Q 2619 4750 2861 4703 \r\n",
       "Q 3103 4656 3366 4563 \r\n",
       "z\r\n",
       "\" id=\"DejaVuSans-36\" transform=\"scale(0.015625)\"/>\r\n",
       "       </defs>\r\n",
       "       <use xlink:href=\"#DejaVuSans-36\"/>\r\n",
       "       <use x=\"63.623047\" xlink:href=\"#DejaVuSans-30\"/>\r\n",
       "       <use x=\"127.246094\" xlink:href=\"#DejaVuSans-30\"/>\r\n",
       "      </g>\r\n",
       "     </g>\r\n",
       "    </g>\r\n",
       "    <g id=\"xtick_5\">\r\n",
       "     <g id=\"line2d_5\">\r\n",
       "      <g>\r\n",
       "       <use style=\"stroke:#000000;stroke-width:0.8;\" x=\"237.824186\" xlink:href=\"#m55eb97a8fc\" y=\"228.311463\"/>\r\n",
       "      </g>\r\n",
       "     </g>\r\n",
       "     <g id=\"text_5\">\r\n",
       "      <!-- 800 -->\r\n",
       "      <g transform=\"translate(228.280436 242.909901)scale(0.1 -0.1)\">\r\n",
       "       <defs>\r\n",
       "        <path d=\"M 2034 2216 \r\n",
       "Q 1584 2216 1326 1975 \r\n",
       "Q 1069 1734 1069 1313 \r\n",
       "Q 1069 891 1326 650 \r\n",
       "Q 1584 409 2034 409 \r\n",
       "Q 2484 409 2743 651 \r\n",
       "Q 3003 894 3003 1313 \r\n",
       "Q 3003 1734 2745 1975 \r\n",
       "Q 2488 2216 2034 2216 \r\n",
       "z\r\n",
       "M 1403 2484 \r\n",
       "Q 997 2584 770 2862 \r\n",
       "Q 544 3141 544 3541 \r\n",
       "Q 544 4100 942 4425 \r\n",
       "Q 1341 4750 2034 4750 \r\n",
       "Q 2731 4750 3128 4425 \r\n",
       "Q 3525 4100 3525 3541 \r\n",
       "Q 3525 3141 3298 2862 \r\n",
       "Q 3072 2584 2669 2484 \r\n",
       "Q 3125 2378 3379 2068 \r\n",
       "Q 3634 1759 3634 1313 \r\n",
       "Q 3634 634 3220 271 \r\n",
       "Q 2806 -91 2034 -91 \r\n",
       "Q 1263 -91 848 271 \r\n",
       "Q 434 634 434 1313 \r\n",
       "Q 434 1759 690 2068 \r\n",
       "Q 947 2378 1403 2484 \r\n",
       "z\r\n",
       "M 1172 3481 \r\n",
       "Q 1172 3119 1398 2916 \r\n",
       "Q 1625 2713 2034 2713 \r\n",
       "Q 2441 2713 2670 2916 \r\n",
       "Q 2900 3119 2900 3481 \r\n",
       "Q 2900 3844 2670 4047 \r\n",
       "Q 2441 4250 2034 4250 \r\n",
       "Q 1625 4250 1398 4047 \r\n",
       "Q 1172 3844 1172 3481 \r\n",
       "z\r\n",
       "\" id=\"DejaVuSans-38\" transform=\"scale(0.015625)\"/>\r\n",
       "       </defs>\r\n",
       "       <use xlink:href=\"#DejaVuSans-38\"/>\r\n",
       "       <use x=\"63.623047\" xlink:href=\"#DejaVuSans-30\"/>\r\n",
       "       <use x=\"127.246094\" xlink:href=\"#DejaVuSans-30\"/>\r\n",
       "      </g>\r\n",
       "     </g>\r\n",
       "    </g>\r\n",
       "    <g id=\"xtick_6\">\r\n",
       "     <g id=\"line2d_6\">\r\n",
       "      <g>\r\n",
       "       <use style=\"stroke:#000000;stroke-width:0.8;\" x=\"288.926419\" xlink:href=\"#m55eb97a8fc\" y=\"228.311463\"/>\r\n",
       "      </g>\r\n",
       "     </g>\r\n",
       "     <g id=\"text_6\">\r\n",
       "      <!-- 1000 -->\r\n",
       "      <g transform=\"translate(276.201419 242.909901)scale(0.1 -0.1)\">\r\n",
       "       <defs>\r\n",
       "        <path d=\"M 794 531 \r\n",
       "L 1825 531 \r\n",
       "L 1825 4091 \r\n",
       "L 703 3866 \r\n",
       "L 703 4441 \r\n",
       "L 1819 4666 \r\n",
       "L 2450 4666 \r\n",
       "L 2450 531 \r\n",
       "L 3481 531 \r\n",
       "L 3481 0 \r\n",
       "L 794 0 \r\n",
       "L 794 531 \r\n",
       "z\r\n",
       "\" id=\"DejaVuSans-31\" transform=\"scale(0.015625)\"/>\r\n",
       "       </defs>\r\n",
       "       <use xlink:href=\"#DejaVuSans-31\"/>\r\n",
       "       <use x=\"63.623047\" xlink:href=\"#DejaVuSans-30\"/>\r\n",
       "       <use x=\"127.246094\" xlink:href=\"#DejaVuSans-30\"/>\r\n",
       "       <use x=\"190.869141\" xlink:href=\"#DejaVuSans-30\"/>\r\n",
       "      </g>\r\n",
       "     </g>\r\n",
       "    </g>\r\n",
       "    <g id=\"xtick_7\">\r\n",
       "     <g id=\"line2d_7\">\r\n",
       "      <g>\r\n",
       "       <use style=\"stroke:#000000;stroke-width:0.8;\" x=\"340.028652\" xlink:href=\"#m55eb97a8fc\" y=\"228.311463\"/>\r\n",
       "      </g>\r\n",
       "     </g>\r\n",
       "     <g id=\"text_7\">\r\n",
       "      <!-- 1200 -->\r\n",
       "      <g transform=\"translate(327.303652 242.909901)scale(0.1 -0.1)\">\r\n",
       "       <use xlink:href=\"#DejaVuSans-31\"/>\r\n",
       "       <use x=\"63.623047\" xlink:href=\"#DejaVuSans-32\"/>\r\n",
       "       <use x=\"127.246094\" xlink:href=\"#DejaVuSans-30\"/>\r\n",
       "       <use x=\"190.869141\" xlink:href=\"#DejaVuSans-30\"/>\r\n",
       "      </g>\r\n",
       "     </g>\r\n",
       "    </g>\r\n",
       "   </g>\r\n",
       "   <g id=\"matplotlib.axis_2\">\r\n",
       "    <g id=\"ytick_1\">\r\n",
       "     <g id=\"line2d_8\">\r\n",
       "      <defs>\r\n",
       "       <path d=\"M 0 0 \r\n",
       "L -3.5 0 \r\n",
       "\" id=\"m2ce40103b7\" style=\"stroke:#000000;stroke-width:0.8;\"/>\r\n",
       "      </defs>\r\n",
       "      <g>\r\n",
       "       <use style=\"stroke:#000000;stroke-width:0.8;\" x=\"33.2875\" xlink:href=\"#m2ce40103b7\" y=\"10.999219\"/>\r\n",
       "      </g>\r\n",
       "     </g>\r\n",
       "     <g id=\"text_8\">\r\n",
       "      <!-- 0 -->\r\n",
       "      <g transform=\"translate(19.925 14.798438)scale(0.1 -0.1)\">\r\n",
       "       <use xlink:href=\"#DejaVuSans-30\"/>\r\n",
       "      </g>\r\n",
       "     </g>\r\n",
       "    </g>\r\n",
       "    <g id=\"ytick_2\">\r\n",
       "     <g id=\"line2d_9\">\r\n",
       "      <g>\r\n",
       "       <use style=\"stroke:#000000;stroke-width:0.8;\" x=\"33.2875\" xlink:href=\"#m2ce40103b7\" y=\"36.550335\"/>\r\n",
       "      </g>\r\n",
       "     </g>\r\n",
       "     <g id=\"text_9\">\r\n",
       "      <!-- 100 -->\r\n",
       "      <g transform=\"translate(7.2 40.349554)scale(0.1 -0.1)\">\r\n",
       "       <use xlink:href=\"#DejaVuSans-31\"/>\r\n",
       "       <use x=\"63.623047\" xlink:href=\"#DejaVuSans-30\"/>\r\n",
       "       <use x=\"127.246094\" xlink:href=\"#DejaVuSans-30\"/>\r\n",
       "      </g>\r\n",
       "     </g>\r\n",
       "    </g>\r\n",
       "    <g id=\"ytick_3\">\r\n",
       "     <g id=\"line2d_10\">\r\n",
       "      <g>\r\n",
       "       <use style=\"stroke:#000000;stroke-width:0.8;\" x=\"33.2875\" xlink:href=\"#m2ce40103b7\" y=\"62.101451\"/>\r\n",
       "      </g>\r\n",
       "     </g>\r\n",
       "     <g id=\"text_10\">\r\n",
       "      <!-- 200 -->\r\n",
       "      <g transform=\"translate(7.2 65.90067)scale(0.1 -0.1)\">\r\n",
       "       <use xlink:href=\"#DejaVuSans-32\"/>\r\n",
       "       <use x=\"63.623047\" xlink:href=\"#DejaVuSans-30\"/>\r\n",
       "       <use x=\"127.246094\" xlink:href=\"#DejaVuSans-30\"/>\r\n",
       "      </g>\r\n",
       "     </g>\r\n",
       "    </g>\r\n",
       "    <g id=\"ytick_4\">\r\n",
       "     <g id=\"line2d_11\">\r\n",
       "      <g>\r\n",
       "       <use style=\"stroke:#000000;stroke-width:0.8;\" x=\"33.2875\" xlink:href=\"#m2ce40103b7\" y=\"87.652568\"/>\r\n",
       "      </g>\r\n",
       "     </g>\r\n",
       "     <g id=\"text_11\">\r\n",
       "      <!-- 300 -->\r\n",
       "      <g transform=\"translate(7.2 91.451787)scale(0.1 -0.1)\">\r\n",
       "       <defs>\r\n",
       "        <path d=\"M 2597 2516 \r\n",
       "Q 3050 2419 3304 2112 \r\n",
       "Q 3559 1806 3559 1356 \r\n",
       "Q 3559 666 3084 287 \r\n",
       "Q 2609 -91 1734 -91 \r\n",
       "Q 1441 -91 1130 -33 \r\n",
       "Q 819 25 488 141 \r\n",
       "L 488 750 \r\n",
       "Q 750 597 1062 519 \r\n",
       "Q 1375 441 1716 441 \r\n",
       "Q 2309 441 2620 675 \r\n",
       "Q 2931 909 2931 1356 \r\n",
       "Q 2931 1769 2642 2001 \r\n",
       "Q 2353 2234 1838 2234 \r\n",
       "L 1294 2234 \r\n",
       "L 1294 2753 \r\n",
       "L 1863 2753 \r\n",
       "Q 2328 2753 2575 2939 \r\n",
       "Q 2822 3125 2822 3475 \r\n",
       "Q 2822 3834 2567 4026 \r\n",
       "Q 2313 4219 1838 4219 \r\n",
       "Q 1578 4219 1281 4162 \r\n",
       "Q 984 4106 628 3988 \r\n",
       "L 628 4550 \r\n",
       "Q 988 4650 1302 4700 \r\n",
       "Q 1616 4750 1894 4750 \r\n",
       "Q 2613 4750 3031 4423 \r\n",
       "Q 3450 4097 3450 3541 \r\n",
       "Q 3450 3153 3228 2886 \r\n",
       "Q 3006 2619 2597 2516 \r\n",
       "z\r\n",
       "\" id=\"DejaVuSans-33\" transform=\"scale(0.015625)\"/>\r\n",
       "       </defs>\r\n",
       "       <use xlink:href=\"#DejaVuSans-33\"/>\r\n",
       "       <use x=\"63.623047\" xlink:href=\"#DejaVuSans-30\"/>\r\n",
       "       <use x=\"127.246094\" xlink:href=\"#DejaVuSans-30\"/>\r\n",
       "      </g>\r\n",
       "     </g>\r\n",
       "    </g>\r\n",
       "    <g id=\"ytick_5\">\r\n",
       "     <g id=\"line2d_12\">\r\n",
       "      <g>\r\n",
       "       <use style=\"stroke:#000000;stroke-width:0.8;\" x=\"33.2875\" xlink:href=\"#m2ce40103b7\" y=\"113.203684\"/>\r\n",
       "      </g>\r\n",
       "     </g>\r\n",
       "     <g id=\"text_12\">\r\n",
       "      <!-- 400 -->\r\n",
       "      <g transform=\"translate(7.2 117.002903)scale(0.1 -0.1)\">\r\n",
       "       <use xlink:href=\"#DejaVuSans-34\"/>\r\n",
       "       <use x=\"63.623047\" xlink:href=\"#DejaVuSans-30\"/>\r\n",
       "       <use x=\"127.246094\" xlink:href=\"#DejaVuSans-30\"/>\r\n",
       "      </g>\r\n",
       "     </g>\r\n",
       "    </g>\r\n",
       "    <g id=\"ytick_6\">\r\n",
       "     <g id=\"line2d_13\">\r\n",
       "      <g>\r\n",
       "       <use style=\"stroke:#000000;stroke-width:0.8;\" x=\"33.2875\" xlink:href=\"#m2ce40103b7\" y=\"138.7548\"/>\r\n",
       "      </g>\r\n",
       "     </g>\r\n",
       "     <g id=\"text_13\">\r\n",
       "      <!-- 500 -->\r\n",
       "      <g transform=\"translate(7.2 142.554019)scale(0.1 -0.1)\">\r\n",
       "       <defs>\r\n",
       "        <path d=\"M 691 4666 \r\n",
       "L 3169 4666 \r\n",
       "L 3169 4134 \r\n",
       "L 1269 4134 \r\n",
       "L 1269 2991 \r\n",
       "Q 1406 3038 1543 3061 \r\n",
       "Q 1681 3084 1819 3084 \r\n",
       "Q 2600 3084 3056 2656 \r\n",
       "Q 3513 2228 3513 1497 \r\n",
       "Q 3513 744 3044 326 \r\n",
       "Q 2575 -91 1722 -91 \r\n",
       "Q 1428 -91 1123 -41 \r\n",
       "Q 819 9 494 109 \r\n",
       "L 494 744 \r\n",
       "Q 775 591 1075 516 \r\n",
       "Q 1375 441 1709 441 \r\n",
       "Q 2250 441 2565 725 \r\n",
       "Q 2881 1009 2881 1497 \r\n",
       "Q 2881 1984 2565 2268 \r\n",
       "Q 2250 2553 1709 2553 \r\n",
       "Q 1456 2553 1204 2497 \r\n",
       "Q 953 2441 691 2322 \r\n",
       "L 691 4666 \r\n",
       "z\r\n",
       "\" id=\"DejaVuSans-35\" transform=\"scale(0.015625)\"/>\r\n",
       "       </defs>\r\n",
       "       <use xlink:href=\"#DejaVuSans-35\"/>\r\n",
       "       <use x=\"63.623047\" xlink:href=\"#DejaVuSans-30\"/>\r\n",
       "       <use x=\"127.246094\" xlink:href=\"#DejaVuSans-30\"/>\r\n",
       "      </g>\r\n",
       "     </g>\r\n",
       "    </g>\r\n",
       "    <g id=\"ytick_7\">\r\n",
       "     <g id=\"line2d_14\">\r\n",
       "      <g>\r\n",
       "       <use style=\"stroke:#000000;stroke-width:0.8;\" x=\"33.2875\" xlink:href=\"#m2ce40103b7\" y=\"164.305917\"/>\r\n",
       "      </g>\r\n",
       "     </g>\r\n",
       "     <g id=\"text_14\">\r\n",
       "      <!-- 600 -->\r\n",
       "      <g transform=\"translate(7.2 168.105136)scale(0.1 -0.1)\">\r\n",
       "       <use xlink:href=\"#DejaVuSans-36\"/>\r\n",
       "       <use x=\"63.623047\" xlink:href=\"#DejaVuSans-30\"/>\r\n",
       "       <use x=\"127.246094\" xlink:href=\"#DejaVuSans-30\"/>\r\n",
       "      </g>\r\n",
       "     </g>\r\n",
       "    </g>\r\n",
       "    <g id=\"ytick_8\">\r\n",
       "     <g id=\"line2d_15\">\r\n",
       "      <g>\r\n",
       "       <use style=\"stroke:#000000;stroke-width:0.8;\" x=\"33.2875\" xlink:href=\"#m2ce40103b7\" y=\"189.857033\"/>\r\n",
       "      </g>\r\n",
       "     </g>\r\n",
       "     <g id=\"text_15\">\r\n",
       "      <!-- 700 -->\r\n",
       "      <g transform=\"translate(7.2 193.656252)scale(0.1 -0.1)\">\r\n",
       "       <defs>\r\n",
       "        <path d=\"M 525 4666 \r\n",
       "L 3525 4666 \r\n",
       "L 3525 4397 \r\n",
       "L 1831 0 \r\n",
       "L 1172 0 \r\n",
       "L 2766 4134 \r\n",
       "L 525 4134 \r\n",
       "L 525 4666 \r\n",
       "z\r\n",
       "\" id=\"DejaVuSans-37\" transform=\"scale(0.015625)\"/>\r\n",
       "       </defs>\r\n",
       "       <use xlink:href=\"#DejaVuSans-37\"/>\r\n",
       "       <use x=\"63.623047\" xlink:href=\"#DejaVuSans-30\"/>\r\n",
       "       <use x=\"127.246094\" xlink:href=\"#DejaVuSans-30\"/>\r\n",
       "      </g>\r\n",
       "     </g>\r\n",
       "    </g>\r\n",
       "    <g id=\"ytick_9\">\r\n",
       "     <g id=\"line2d_16\">\r\n",
       "      <g>\r\n",
       "       <use style=\"stroke:#000000;stroke-width:0.8;\" x=\"33.2875\" xlink:href=\"#m2ce40103b7\" y=\"215.408149\"/>\r\n",
       "      </g>\r\n",
       "     </g>\r\n",
       "     <g id=\"text_16\">\r\n",
       "      <!-- 800 -->\r\n",
       "      <g transform=\"translate(7.2 219.207368)scale(0.1 -0.1)\">\r\n",
       "       <use xlink:href=\"#DejaVuSans-38\"/>\r\n",
       "       <use x=\"63.623047\" xlink:href=\"#DejaVuSans-30\"/>\r\n",
       "       <use x=\"127.246094\" xlink:href=\"#DejaVuSans-30\"/>\r\n",
       "      </g>\r\n",
       "     </g>\r\n",
       "    </g>\r\n",
       "   </g>\r\n",
       "   <g id=\"patch_3\">\r\n",
       "    <path d=\"M 33.2875 228.311463 \r\n",
       "L 33.2875 10.871463 \r\n",
       "\" style=\"fill:none;stroke:#000000;stroke-linecap:square;stroke-linejoin:miter;stroke-width:0.8;\"/>\r\n",
       "   </g>\r\n",
       "   <g id=\"patch_4\">\r\n",
       "    <path d=\"M 360.341789 228.311463 \r\n",
       "L 360.341789 10.871463 \r\n",
       "\" style=\"fill:none;stroke:#000000;stroke-linecap:square;stroke-linejoin:miter;stroke-width:0.8;\"/>\r\n",
       "   </g>\r\n",
       "   <g id=\"patch_5\">\r\n",
       "    <path d=\"M 33.2875 228.311463 \r\n",
       "L 360.341789 228.311463 \r\n",
       "\" style=\"fill:none;stroke:#000000;stroke-linecap:square;stroke-linejoin:miter;stroke-width:0.8;\"/>\r\n",
       "   </g>\r\n",
       "   <g id=\"patch_6\">\r\n",
       "    <path d=\"M 33.2875 10.871463 \r\n",
       "L 360.341789 10.871463 \r\n",
       "\" style=\"fill:none;stroke:#000000;stroke-linecap:square;stroke-linejoin:miter;stroke-width:0.8;\"/>\r\n",
       "   </g>\r\n",
       "  </g>\r\n",
       " </g>\r\n",
       " <defs>\r\n",
       "  <clipPath id=\"pd9d259b15c\">\r\n",
       "   <rect height=\"217.44\" width=\"327.054289\" x=\"33.2875\" y=\"10.871463\"/>\r\n",
       "  </clipPath>\r\n",
       " </defs>\r\n",
       "</svg>\r\n"
      ],
      "text/plain": [
       "<Figure size 432x288 with 1 Axes>"
      ]
     },
     "metadata": {
      "needs_background": "light"
     },
     "output_type": "display_data"
    }
   ],
   "source": [
    "import matplotlib.pyplot as plt\n",
    "\n",
    "image = plt.imread('wind_turbines.jpg').copy()\n",
    "plt.imshow(image)"
   ]
  },
  {
   "cell_type": "code",
   "execution_count": null,
   "id": "223c772d",
   "metadata": {},
   "outputs": [],
   "source": []
  }
 ],
 "metadata": {
  "kernelspec": {
   "display_name": "Python 3",
   "language": "python",
   "name": "python3"
  },
  "language_info": {
   "codemirror_mode": {
    "name": "ipython",
    "version": 3
   },
   "file_extension": ".py",
   "mimetype": "text/x-python",
   "name": "python",
   "nbconvert_exporter": "python",
   "pygments_lexer": "ipython3",
   "version": "3.9.2"
  },
  "metadata": {
   "interpreter": {
    "hash": "fc0e67284b290651ff490186edfcd112a3a9886d035b0e6d700f36a65c8bc338"
   }
  }
 },
 "nbformat": 4,
 "nbformat_minor": 5
}
