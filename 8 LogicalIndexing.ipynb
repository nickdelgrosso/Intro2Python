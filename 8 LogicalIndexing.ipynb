{
 "cells": [
  {
   "cell_type": "code",
   "execution_count": 2,
   "id": "restricted-envelope",
   "metadata": {},
   "outputs": [],
   "source": [
    "import numpy as np"
   ]
  },
  {
   "cell_type": "markdown",
   "id": "cardiovascular-banana",
   "metadata": {},
   "source": [
    "# Filtering Data\n",
    "\n",
    "Sometimes you want to remove certain values from your dataset.  In Numpy, this can be done with **Logical Indexing**, and in normal Python this is done with an **If Statement**"
   ]
  },
  {
   "cell_type": "markdown",
   "id": "vietnamese-principle",
   "metadata": {},
   "source": [
    "## With Logical Indexing"
   ]
  },
  {
   "cell_type": "markdown",
   "id": "interim-harvey",
   "metadata": {},
   "source": [
    "### Step 1: Create a Logical Numpy Array\n",
    "\n",
    "We can convert all of the values in an array at once with a single logical expression.  This is broadcasting, the same as is done with the math operations we saw earlier:\n",
    "\n",
    "```python\n",
    ">>> data = np.array([1, 2, 3, 4, 5])\n",
    ">>> data < 3\n",
    "[True, True, False, False, False]\n",
    "```"
   ]
  },
  {
   "cell_type": "markdown",
   "id": "secondary-friend",
   "metadata": {},
   "source": [
    "**Exercises**: Make arrays of True/False values that answer the following questions about the dataset below for each element."
   ]
  },
  {
   "cell_type": "code",
   "execution_count": 1,
   "id": "given-knitting",
   "metadata": {},
   "outputs": [],
   "source": [
    "import numpy as np\n",
    "\n",
    "list_of_values = [3, 7, 10, 2, 1, 7, np.nan, 20, -5]\n",
    "data = np.array(list_of_values)"
   ]
  },
  {
   "cell_type": "markdown",
   "id": "actual-novelty",
   "metadata": {},
   "source": [
    "1. Which values are greater than zero?"
   ]
  },
  {
   "cell_type": "code",
   "execution_count": null,
   "id": "incoming-pointer",
   "metadata": {},
   "outputs": [],
   "source": []
  },
  {
   "cell_type": "markdown",
   "id": "infinite-flour",
   "metadata": {},
   "source": [
    "2. Which values are equal to 7?"
   ]
  },
  {
   "cell_type": "code",
   "execution_count": null,
   "id": "painted-manchester",
   "metadata": {},
   "outputs": [],
   "source": []
  },
  {
   "cell_type": "markdown",
   "id": "recovered-crest",
   "metadata": {},
   "source": [
    "3. Which values are greater or equal to 7?"
   ]
  },
  {
   "cell_type": "code",
   "execution_count": null,
   "id": "infrared-springfield",
   "metadata": {},
   "outputs": [],
   "source": []
  },
  {
   "cell_type": "markdown",
   "id": "specific-bennett",
   "metadata": {},
   "source": [
    "4. Which values are not equal to 7?"
   ]
  },
  {
   "cell_type": "code",
   "execution_count": null,
   "id": "thirty-butler",
   "metadata": {},
   "outputs": [],
   "source": []
  },
  {
   "cell_type": "markdown",
   "id": "peripheral-details",
   "metadata": {},
   "source": [
    "## Step 2: Filter with Logical Indexing\n",
    "\n",
    "If an array of True/False values is used to *index* another array, and both arrays are the same size, it will return all of the values that correspond to the True values of the indexing array:\n",
    "\n",
    "```python\n",
    ">>> data = np.array([1, 2, 3, 4, 5])\n",
    ">>> is_big = data > 3\n",
    ">>> is_big\n",
    "[False, False, False, True, True]\n",
    "\n",
    ">>> data[is_big]\n",
    "[4, 5]\n",
    "```\n"
   ]
  },
  {
   "cell_type": "markdown",
   "id": "conscious-change",
   "metadata": {},
   "source": [
    "**Exercises**:  Using the data below, extract only the values that corresspond to each question"
   ]
  },
  {
   "cell_type": "code",
   "execution_count": 2,
   "id": "danish-unemployment",
   "metadata": {},
   "outputs": [
    {
     "data": {
      "text/plain": [
       "array([ 3.,  1., -6.,  8., 20.,  2., nan,  7.,  1., nan,  9.,  7.,  7.,\n",
       "       -7.])"
      ]
     },
     "execution_count": 2,
     "metadata": {},
     "output_type": "execute_result"
    }
   ],
   "source": [
    "data = np.array([3, 1, -6, 8, 20, 2, np.nan, 7, 1, np.nan, 9, 7, 7, -7])\n",
    "data"
   ]
  },
  {
   "cell_type": "markdown",
   "id": "upper-mason",
   "metadata": {},
   "source": [
    "1. The values that are less than 0"
   ]
  },
  {
   "cell_type": "code",
   "execution_count": null,
   "id": "planned-county",
   "metadata": {},
   "outputs": [],
   "source": []
  },
  {
   "cell_type": "markdown",
   "id": "young-allocation",
   "metadata": {},
   "source": [
    "2. The values that are greater than 3"
   ]
  },
  {
   "cell_type": "code",
   "execution_count": null,
   "id": "incorrect-brown",
   "metadata": {},
   "outputs": [],
   "source": []
  },
  {
   "cell_type": "markdown",
   "id": "split-square",
   "metadata": {},
   "source": [
    "4. The values not equal to 7"
   ]
  },
  {
   "cell_type": "code",
   "execution_count": null,
   "id": "corresponding-issue",
   "metadata": {},
   "outputs": [],
   "source": []
  },
  {
   "cell_type": "markdown",
   "id": "exempt-blowing",
   "metadata": {},
   "source": [
    "  5. The values equal to 20"
   ]
  },
  {
   "cell_type": "code",
   "execution_count": null,
   "id": "approved-mortgage",
   "metadata": {},
   "outputs": [],
   "source": []
  },
  {
   "cell_type": "markdown",
   "id": "binary-november",
   "metadata": {},
   "source": [
    "The values that are not missing"
   ]
  },
  {
   "cell_type": "code",
   "execution_count": null,
   "id": "concrete-rubber",
   "metadata": {},
   "outputs": [],
   "source": []
  },
  {
   "cell_type": "markdown",
   "id": "standard-integral",
   "metadata": {},
   "source": [
    "### Step 2.5: Combine Step 1 and Step 2 into a single line\n",
    "\n",
    "Both steps can be done in a single expression.  Sometimes this can make things clearer!\n",
    "\n",
    "\n",
    "```python\n",
    ">>> data = np.array([1, 2, 3, 4, 5])\n",
    ">>> data[data > 3]\n",
    "[4, 5]\n",
    "```\n",
    "\n"
   ]
  },
  {
   "cell_type": "markdown",
   "id": "blond-acrylic",
   "metadata": {},
   "source": [
    "**Exercises**: Do the same as in the previous section, this time in a single line."
   ]
  },
  {
   "cell_type": "code",
   "execution_count": 3,
   "id": "mobile-trail",
   "metadata": {},
   "outputs": [
    {
     "data": {
      "text/plain": [
       "array([ 3.,  1., -6., nan,  8., 20.,  2.,  7., nan,  1.,  9.,  7.,  7.,\n",
       "       -7.])"
      ]
     },
     "execution_count": 3,
     "metadata": {},
     "output_type": "execute_result"
    }
   ],
   "source": [
    "data = np.array([3, 1, -6, np.nan, 8, 20, 2, 7, np.nan, 1, 9, 7, 7, -7])\n",
    "data"
   ]
  },
  {
   "cell_type": "markdown",
   "id": "prostate-banking",
   "metadata": {},
   "source": [
    "The values that are less than 0"
   ]
  },
  {
   "cell_type": "code",
   "execution_count": null,
   "id": "olive-revelation",
   "metadata": {},
   "outputs": [],
   "source": []
  },
  {
   "cell_type": "markdown",
   "id": "likely-sixth",
   "metadata": {},
   "source": [
    "The values that are greater than 3"
   ]
  },
  {
   "cell_type": "code",
   "execution_count": null,
   "id": "foreign-border",
   "metadata": {},
   "outputs": [],
   "source": []
  },
  {
   "cell_type": "markdown",
   "id": "collaborative-benchmark",
   "metadata": {},
   "source": [
    "The values equal to 7  (will be an array of sevens)"
   ]
  },
  {
   "cell_type": "code",
   "execution_count": null,
   "id": "beneficial-strength",
   "metadata": {},
   "outputs": [],
   "source": []
  },
  {
   "cell_type": "markdown",
   "id": "appointed-notice",
   "metadata": {},
   "source": [
    "The values not equal to 7"
   ]
  },
  {
   "cell_type": "code",
   "execution_count": null,
   "id": "behavioral-oriental",
   "metadata": {},
   "outputs": [],
   "source": []
  },
  {
   "cell_type": "markdown",
   "id": "governing-receiver",
   "metadata": {},
   "source": [
    "The values equal to 20"
   ]
  },
  {
   "cell_type": "code",
   "execution_count": null,
   "id": "incident-upset",
   "metadata": {},
   "outputs": [],
   "source": []
  },
  {
   "cell_type": "markdown",
   "id": "answering-fortune",
   "metadata": {},
   "source": [
    "The values not missing"
   ]
  },
  {
   "cell_type": "code",
   "execution_count": null,
   "id": "entertaining-waterproof",
   "metadata": {},
   "outputs": [],
   "source": []
  },
  {
   "cell_type": "markdown",
   "id": "medical-description",
   "metadata": {},
   "source": [
    "### Statistics on Filtered Data"
   ]
  },
  {
   "cell_type": "markdown",
   "id": "pressing-census",
   "metadata": {},
   "source": [
    "Using the following dataset, have Python to calculate the answers to the questions below:"
   ]
  },
  {
   "cell_type": "code",
   "execution_count": 22,
   "id": "manual-arctic",
   "metadata": {},
   "outputs": [
    {
     "data": {
      "text/plain": [
       "array([ 3,  1, -6,  8, 20,  2,  7,  1,  9,  7,  7, -7])"
      ]
     },
     "execution_count": 22,
     "metadata": {},
     "output_type": "execute_result"
    }
   ],
   "source": [
    "data = np.array([3, 1, -6, 8, 20, 2, 7, 1, 9, 7, 7, -7])\n",
    "data"
   ]
  },
  {
   "cell_type": "markdown",
   "id": "potential-album",
   "metadata": {},
   "source": [
    "How many values are greater than 4 in this dataset?  \n",
    "Useful function: `len([2, 3, 4])`"
   ]
  },
  {
   "cell_type": "code",
   "execution_count": null,
   "id": "finnish-sociology",
   "metadata": {},
   "outputs": [],
   "source": []
  },
  {
   "cell_type": "markdown",
   "id": "distributed-attack",
   "metadata": {},
   "source": [
    "How many values are equal to 7 in this dataset?"
   ]
  },
  {
   "cell_type": "code",
   "execution_count": null,
   "id": "specified-lounge",
   "metadata": {},
   "outputs": [],
   "source": []
  },
  {
   "cell_type": "markdown",
   "id": "visible-affair",
   "metadata": {},
   "source": [
    "What is the mean value of the positive numbers in this dataset?"
   ]
  },
  {
   "cell_type": "code",
   "execution_count": null,
   "id": "usual-tenant",
   "metadata": {},
   "outputs": [],
   "source": []
  },
  {
   "cell_type": "markdown",
   "id": "pretty-alignment",
   "metadata": {},
   "source": [
    "What is the mean value of the negative numbers in this dataset?"
   ]
  },
  {
   "cell_type": "code",
   "execution_count": null,
   "id": "second-vatican",
   "metadata": {},
   "outputs": [],
   "source": []
  },
  {
   "cell_type": "markdown",
   "id": "supreme-portrait",
   "metadata": {},
   "source": [
    "What is the median value of the values in this dataset that are greater than 5?"
   ]
  },
  {
   "cell_type": "code",
   "execution_count": null,
   "id": "abandoned-success",
   "metadata": {},
   "outputs": [],
   "source": []
  },
  {
   "cell_type": "markdown",
   "id": "conventional-thirty",
   "metadata": {},
   "source": [
    "How many missing values are in this dataset?"
   ]
  },
  {
   "cell_type": "code",
   "execution_count": null,
   "id": "corrected-wrestling",
   "metadata": {},
   "outputs": [],
   "source": []
  },
  {
   "cell_type": "markdown",
   "id": "color-redhead",
   "metadata": {},
   "source": [
    "What proportion of the values in this dataset are positive?"
   ]
  },
  {
   "cell_type": "code",
   "execution_count": null,
   "id": "abandoned-latter",
   "metadata": {},
   "outputs": [],
   "source": []
  },
  {
   "cell_type": "markdown",
   "id": "listed-underground",
   "metadata": {},
   "source": [
    "What proportion of the values in this dataset are less than or equal to 8?"
   ]
  },
  {
   "cell_type": "code",
   "execution_count": null,
   "id": "convenient-purpose",
   "metadata": {},
   "outputs": [],
   "source": []
  },
  {
   "cell_type": "markdown",
   "id": "republican-maldives",
   "metadata": {},
   "source": []
  }
 ],
 "metadata": {
  "kernelspec": {
   "display_name": "Python 3",
   "language": "python",
   "name": "python3"
  },
  "language_info": {
   "codemirror_mode": {
    "name": "ipython",
    "version": 3
   },
   "file_extension": ".py",
   "mimetype": "text/x-python",
   "name": "python",
   "nbconvert_exporter": "python",
   "pygments_lexer": "ipython3",
   "version": "3.8.3"
  },
  "metadata": {
   "interpreter": {
    "hash": "fc0e67284b290651ff490186edfcd112a3a9886d035b0e6d700f36a65c8bc338"
   }
  }
 },
 "nbformat": 4,
 "nbformat_minor": 5
}
