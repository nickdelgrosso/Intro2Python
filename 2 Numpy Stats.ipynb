{
 "cells": [
  {
   "cell_type": "markdown",
   "id": "opening-gross",
   "metadata": {
    "slideshow": {
     "slide_type": "slide"
    }
   },
   "source": [
    "## Grouping Together Your Data into a Collection\n",
    "Python also has operators for collecting related data together.  Most of this course will revolve around the pros and cons of different ways of collecting data, but let's take a look at them:\n",
    "\n",
    "| \"tuple\" (fixed sequence) | \"list\" (changeable sequence) | \"str\" (sequence of text characters) |  \"set\" {mathematical set) \n",
    "| :---------:| :----:    | :--------:    | :--------:    |\n",
    "|  (1, 2, 3) | [1, 2, 3] | \"123\" or '123' | {1, 2, 3} |"
   ]
  },
  {
   "cell_type": "markdown",
   "id": "precise-language",
   "metadata": {
    "slideshow": {
     "slide_type": "subslide"
    }
   },
   "source": [
    "#### Exercises: Making Collections"
   ]
  },
  {
   "cell_type": "markdown",
   "id": "stone-child",
   "metadata": {},
   "source": [
    "Make four difference types of sequences, each containing only the numbers from 1 to 5."
   ]
  },
  {
   "cell_type": "code",
   "execution_count": 2,
   "id": "featured-thailand",
   "metadata": {},
   "outputs": [
    {
     "data": {
      "text/plain": [
       "'Nick'"
      ]
     },
     "execution_count": 2,
     "metadata": {},
     "output_type": "execute_result"
    }
   ],
   "source": [
    "x = \"Nick\"\n",
    "x"
   ]
  },
  {
   "cell_type": "code",
   "execution_count": 4,
   "id": "sonic-correlation",
   "metadata": {},
   "outputs": [
    {
     "data": {
      "text/plain": [
       "[1, 1, 2, 2, 1]"
      ]
     },
     "execution_count": 4,
     "metadata": {},
     "output_type": "execute_result"
    }
   ],
   "source": [
    "[1, 1, 2, 2, 1]"
   ]
  },
  {
   "cell_type": "code",
   "execution_count": 3,
   "id": "above-politics",
   "metadata": {},
   "outputs": [
    {
     "data": {
      "text/plain": [
       "{1, 2}"
      ]
     },
     "execution_count": 3,
     "metadata": {},
     "output_type": "execute_result"
    }
   ],
   "source": [
    "{1, 1, 2, 2, 1}"
   ]
  },
  {
   "cell_type": "code",
   "execution_count": null,
   "id": "final-ministry",
   "metadata": {},
   "outputs": [],
   "source": []
  },
  {
   "cell_type": "code",
   "execution_count": null,
   "id": "bibliographic-differential",
   "metadata": {},
   "outputs": [],
   "source": []
  },
  {
   "cell_type": "markdown",
   "id": "transparent-phone",
   "metadata": {
    "slideshow": {
     "slide_type": "subslide"
    }
   },
   "source": [
    "Make a sequence containing 3 names of people in this class."
   ]
  },
  {
   "cell_type": "code",
   "execution_count": null,
   "id": "chinese-manual",
   "metadata": {},
   "outputs": [],
   "source": []
  },
  {
   "cell_type": "markdown",
   "id": "facial-triumph",
   "metadata": {
    "slideshow": {
     "slide_type": "fragment"
    }
   },
   "source": [
    "Make a list of four animals, ordering them by size."
   ]
  },
  {
   "cell_type": "code",
   "execution_count": null,
   "id": "according-homework",
   "metadata": {},
   "outputs": [],
   "source": []
  },
  {
   "cell_type": "markdown",
   "id": "western-gardening",
   "metadata": {
    "slideshow": {
     "slide_type": "subslide"
    }
   },
   "source": [
    "Collect the set of all letters in your first name."
   ]
  },
  {
   "cell_type": "code",
   "execution_count": null,
   "id": "younger-playlist",
   "metadata": {},
   "outputs": [],
   "source": []
  },
  {
   "cell_type": "markdown",
   "id": "rough-witness",
   "metadata": {
    "slideshow": {
     "slide_type": "fragment"
    }
   },
   "source": [
    "List examples of each type of collection in Python."
   ]
  },
  {
   "cell_type": "code",
   "execution_count": null,
   "id": "rural-branch",
   "metadata": {},
   "outputs": [],
   "source": []
  },
  {
   "cell_type": "code",
   "execution_count": null,
   "id": "descending-practice",
   "metadata": {},
   "outputs": [],
   "source": []
  },
  {
   "cell_type": "code",
   "execution_count": null,
   "id": "fuzzy-thought",
   "metadata": {},
   "outputs": [],
   "source": []
  },
  {
   "cell_type": "code",
   "execution_count": null,
   "id": "recovered-equation",
   "metadata": {},
   "outputs": [],
   "source": []
  },
  {
   "cell_type": "markdown",
   "id": "modern-looking",
   "metadata": {
    "colab_type": "text",
    "id": "lVjmHfdIeaT3"
   },
   "source": [
    "## Statistics Functions from Numpy\n",
    "\n",
    "**Numpy** is a Python package that, among other things, has many useful statistics **functions**.  These take any array-like object as an input and can be found inside the **np** library.  Sometimes, the same functionality can be found both as a Numpy function  and an array method, giving you the choice of how you'd like to use it.  \n",
    "\n",
    "\n",
    "```python\n",
    ">>> np.mean([1, 2, 3, 4])\n",
    "2.5\n",
    "\n",
    ">>> np.ptp([1, 2, 3, 4])\n",
    "3\n",
    "```\n",
    "\n",
    "A couple lists of functions in Numpy can be found here:\n",
    "  - Math:  https://docs.scipy.org/doc/numpy-1.13.0/reference/routines.math.html\n",
    "  - Statistics: https://docs.scipy.org/doc/numpy-1.13.0/reference/routines.statistics.html\n",
    "\n",
    "\n",
    "Some useful function names: mean, min, sum, max, var, std, p2p, median, nanmedian, nanmax, nanmean, nanmin\n",
    "\n",
    "We'll see more later."
   ]
  },
  {
   "cell_type": "markdown",
   "id": "decent-plaza",
   "metadata": {
    "colab_type": "text",
    "id": "dvxWENoKfU63"
   },
   "source": [
    "**Exercise**: Using only Numpy functions, calculate the statistics on the following numbers:"
   ]
  },
  {
   "cell_type": "code",
   "execution_count": 4,
   "id": "associate-banana",
   "metadata": {
    "colab": {
     "base_uri": "https://localhost:8080/",
     "height": 34
    },
    "colab_type": "code",
    "id": "zK-gBedWfU66",
    "outputId": "5298642f-ebaa-49e1-b231-58bd624e5706"
   },
   "outputs": [
    {
     "data": {
      "text/plain": [
       "[2, 8, 5, 9, 2, 4, 6]"
      ]
     },
     "execution_count": 4,
     "metadata": {},
     "output_type": "execute_result"
    }
   ],
   "source": [
    "data = [2, 8, 5, 9, 2, 4, 6]\n",
    "data"
   ]
  },
  {
   "cell_type": "markdown",
   "id": "residential-international",
   "metadata": {
    "colab_type": "text",
    "id": "wU9eR-g3fU7C"
   },
   "source": [
    "What is the mean of the data?"
   ]
  },
  {
   "cell_type": "code",
   "execution_count": null,
   "id": "running-thought",
   "metadata": {
    "colab": {},
    "colab_type": "code",
    "id": "1jPswldbfU7E"
   },
   "outputs": [],
   "source": []
  },
  {
   "cell_type": "markdown",
   "id": "wrong-brooklyn",
   "metadata": {
    "colab_type": "text",
    "id": "AGlnNDHIfU7G"
   },
   "source": [
    "What is the sum of the data?"
   ]
  },
  {
   "cell_type": "code",
   "execution_count": null,
   "id": "impressive-robertson",
   "metadata": {
    "colab": {},
    "colab_type": "code",
    "id": "APSVzGrufU7I"
   },
   "outputs": [],
   "source": []
  },
  {
   "cell_type": "markdown",
   "id": "alternative-consequence",
   "metadata": {
    "colab_type": "text",
    "id": "EOLmR39hg-_d"
   },
   "source": [
    "What is the minimum of the data?"
   ]
  },
  {
   "cell_type": "code",
   "execution_count": null,
   "id": "arabic-account",
   "metadata": {
    "colab": {},
    "colab_type": "code",
    "id": "fuNClX8jhF2D"
   },
   "outputs": [],
   "source": []
  },
  {
   "cell_type": "markdown",
   "id": "laden-congress",
   "metadata": {},
   "source": [
    "The variance?"
   ]
  },
  {
   "cell_type": "code",
   "execution_count": null,
   "id": "fossil-repeat",
   "metadata": {},
   "outputs": [],
   "source": []
  },
  {
   "cell_type": "markdown",
   "id": "ruled-electron",
   "metadata": {
    "colab_type": "text",
    "id": "yHW6AmYRfU7J"
   },
   "source": [
    "The standard deviation?"
   ]
  },
  {
   "cell_type": "code",
   "execution_count": null,
   "id": "latin-packet",
   "metadata": {
    "colab": {},
    "colab_type": "code",
    "id": "nEBQ9LMifU7K"
   },
   "outputs": [],
   "source": []
  },
  {
   "cell_type": "markdown",
   "id": "worthy-arctic",
   "metadata": {},
   "source": [
    "The difference between the data's maximum and minimum? (\"peak-to-peak\")"
   ]
  },
  {
   "cell_type": "code",
   "execution_count": null,
   "id": "indirect-wilson",
   "metadata": {},
   "outputs": [],
   "source": []
  },
  {
   "cell_type": "markdown",
   "id": "smoking-deadline",
   "metadata": {},
   "source": [
    "The data's median?"
   ]
  },
  {
   "cell_type": "code",
   "execution_count": null,
   "id": "knowing-polls",
   "metadata": {},
   "outputs": [],
   "source": []
  },
  {
   "cell_type": "markdown",
   "id": "broke-murray",
   "metadata": {},
   "source": [
    "This data's median?"
   ]
  },
  {
   "cell_type": "code",
   "execution_count": null,
   "id": "essential-keeping",
   "metadata": {},
   "outputs": [],
   "source": [
    "data2 = [2, 6, 7, np.nan, 9, 4, np.nan]"
   ]
  },
  {
   "cell_type": "code",
   "execution_count": null,
   "id": "middle-encyclopedia",
   "metadata": {},
   "outputs": [],
   "source": []
  }
 ],
 "metadata": {
  "kernelspec": {
   "display_name": "Python 3",
   "language": "python",
   "name": "python3"
  },
  "language_info": {
   "codemirror_mode": {
    "name": "ipython",
    "version": 3
   },
   "file_extension": ".py",
   "mimetype": "text/x-python",
   "name": "python",
   "nbconvert_exporter": "python",
   "pygments_lexer": "ipython3",
   "version": "3.8.3"
  }
 },
 "nbformat": 4,
 "nbformat_minor": 5
}
