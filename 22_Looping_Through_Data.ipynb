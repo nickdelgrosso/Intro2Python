{
 "cells": [
  {
   "cell_type": "markdown",
   "metadata": {},
   "source": [
    "# Conditionals and Loops: Controlling Your Code's Flow"
   ]
  },
  {
   "cell_type": "markdown",
   "metadata": {},
   "source": [
    "## Transforming Each Element of a Collection with a List Comprehension\n",
    "\n",
    "Often, you want to do something to the data inside your collection--double it, increase it, compute some metric, etc.  \n",
    "At the end, you still have the same *number* of elements, but the values themselves have changed.  \n",
    "We will be looking at lots of ways to accomplish this in  Python, but first we're going to use a **for-loop** in a format called a **comprehension**.\n",
    "\n",
    "Comprehensions produce a new collection containing new values *\"for each\"* value *in* the original collection.  They look like this:\n",
    "\n",
    "```python\n",
    ">>> data = [1, 2, 3]\n",
    ">>> [x ** 2 for x in data]\n",
    "[1, 4, 9]\n",
    "```\n",
    "\n",
    "The code above does the same as the following:\n",
    "```python\n",
    ">>> data = [1, 2, 3]\n",
    ">>> [data[0] ** 2, data[1] ** 2, data[2] ** 2]\n",
    "[1, 4, 9]\n",
    "```\n",
    "\n",
    "Another example:\n",
    "\n",
    "```python\n",
    ">>> data = [1, 2, 3]\n",
    ">>> [math.sqrt(value) + 2 for value in data]\n",
    "[3.0, 3.414, 3.732]\n",
    "```\n",
    "\n",
    "```python\n",
    ">>> data = [1, 2, 3]\n",
    ">>> [math.sqrt(data[0]) + 2, math.sqrt(data[1]) + 2, math.sqrt(data[2]) + 2]\n",
    "[3.0, 3.414, 3.732]\n",
    "```\n",
    "\n",
    "Notice that the variable **x** and **value** are created without using the assignment operator! You can name this anything you want, and it is created anew for each individual element of the collection.\n",
    "\n",
    "For lists, Python has a shortcut (called a **list comprehension**):\n",
    "\n",
    "```python\n",
    ">>> data = [1, 2, 3]\n",
    ">>> [x * 2 for x in data]\n",
    "[1, 4, 9]\n",
    "```\n",
    "\n",
    "There is also one for dict (**\"dict comprehensions\"**):\n",
    "\n",
    "```python\n",
    ">>> data = [1, 2, 3]\n",
    ">>> {x: x * 2 for x in data}\n",
    "{1: 1, 2: 4, 3: 9}\n",
    "```"
   ]
  },
  {
   "cell_type": "markdown",
   "metadata": {},
   "source": [
    "### Exercises"
   ]
  },
  {
   "cell_type": "markdown",
   "metadata": {},
   "source": [
    "Get a list that added 1 to each value in `data`:"
   ]
  },
  {
   "cell_type": "code",
   "execution_count": 5,
   "metadata": {},
   "outputs": [],
   "source": [
    "data = [1, 2, 3]"
   ]
  },
  {
   "cell_type": "markdown",
   "metadata": {},
   "source": [
    "Get the absolute value of each element in `data`, using the built-in abs() function:"
   ]
  },
  {
   "cell_type": "code",
   "execution_count": 6,
   "metadata": {},
   "outputs": [],
   "source": [
    "data = (-2, -1, 0, 1, 2)"
   ]
  },
  {
   "cell_type": "markdown",
   "metadata": {},
   "source": [
    "Make a list of the cosines of each value in `data`:"
   ]
  },
  {
   "cell_type": "code",
   "execution_count": 31,
   "metadata": {},
   "outputs": [],
   "source": [
    "data = (-2, -1, 0, 1, 2, 3)"
   ]
  },
  {
   "cell_type": "markdown",
   "metadata": {},
   "source": [
    "Round all these numbers to the nearest integer (use the \"round()\" function):"
   ]
  },
  {
   "cell_type": "code",
   "execution_count": 33,
   "metadata": {},
   "outputs": [],
   "source": [
    "data = [1.2, 1.5, 0.7, -2.1]"
   ]
  },
  {
   "cell_type": "markdown",
   "metadata": {},
   "source": [
    "Get all the first letters of each name in the list:"
   ]
  },
  {
   "cell_type": "code",
   "execution_count": 8,
   "metadata": {},
   "outputs": [],
   "source": [
    "names = [\"John\", \"Harry\", \"Moe\", \"Luke\"]"
   ]
  },
  {
   "cell_type": "markdown",
   "metadata": {},
   "source": [
    "Get the lengths of each name:"
   ]
  },
  {
   "cell_type": "code",
   "execution_count": 9,
   "metadata": {},
   "outputs": [],
   "source": [
    "names = [\"John\", \"Harry\", \"Moe\", \"Luke\"]"
   ]
  },
  {
   "cell_type": "markdown",
   "metadata": {},
   "source": [
    "## Filtering Collections in a List Comprehension\n",
    "\n",
    "What if you only want to include *some* values in a collection?  With the **if** statement and a **logical expression**, you can do it in a comprehension!  For example:\n",
    "\n",
    "```python\n",
    ">>> data = [1, 2, 3, 4]\n",
    ">>> [x for x in data if x > 2]\n",
    "[3, 4]\n",
    "```\n",
    "\n",
    "This can be combined with various transformations as well!\n",
    "\n",
    "```python\n",
    ">>> data = [\"John\", \"Harry\", \"Moe\", \"Luke\"]\n",
    ">>> [x[0] for x in data if len(x) < 5]\n",
    "[\"J\", \"M\", \"L\"]\n",
    "```"
   ]
  },
  {
   "cell_type": "markdown",
   "metadata": {},
   "source": [
    "### Exercises"
   ]
  },
  {
   "cell_type": "markdown",
   "metadata": {},
   "source": [
    "Get All positive values in the following list:"
   ]
  },
  {
   "cell_type": "code",
   "execution_count": 25,
   "metadata": {},
   "outputs": [],
   "source": [
    "data = [-6, 3, -1, 10, -5, 0]"
   ]
  },
  {
   "cell_type": "markdown",
   "metadata": {},
   "source": [
    "Make a list of all names that start with the letter \"L\":"
   ]
  },
  {
   "cell_type": "code",
   "execution_count": 2,
   "metadata": {},
   "outputs": [],
   "source": [
    "names = [\"John\", \"Harry\", \"Moe\", \"Luke\"]"
   ]
  },
  {
   "cell_type": "markdown",
   "metadata": {},
   "source": [
    "Make a list of all names that have more than 3 letters in the name:"
   ]
  },
  {
   "cell_type": "code",
   "execution_count": 3,
   "metadata": {},
   "outputs": [],
   "source": [
    "names = [\"John\", \"Harry\", \"Moe\", \"Luke\"]"
   ]
  },
  {
   "cell_type": "markdown",
   "metadata": {},
   "source": [
    "Make a list of the last letter of all names that have more than 3 letters in the name:"
   ]
  },
  {
   "cell_type": "code",
   "execution_count": 4,
   "metadata": {},
   "outputs": [],
   "source": [
    "names = [\"John\", \"Harry\", \"Moe\", \"Luke\"]"
   ]
  },
  {
   "cell_type": "markdown",
   "metadata": {},
   "source": [
    "Make a list of all values who have positive cosines:"
   ]
  },
  {
   "cell_type": "code",
   "execution_count": 28,
   "metadata": {},
   "outputs": [],
   "source": [
    "data = [1, 2, 3, 4, 5, 6, 7]"
   ]
  },
  {
   "cell_type": "markdown",
   "metadata": {},
   "source": [
    "## Combining Them: Filtering, Transforming, and Aggregating\n",
    "\n",
    "Okay, let's combine everything together into a single step!  To get the minimum value of the squares of all values less than 0 in the following list:\n",
    "\n",
    "```python\n",
    ">>> data = [-5, -3, 1, 2, 3]\n",
    ">>> min(x ** 2 for x in data if x < 0)\n",
    "9\n",
    "```\n",
    "\n",
    "Let's try it out!"
   ]
  },
  {
   "cell_type": "markdown",
   "metadata": {},
   "source": [
    "### Exercises"
   ]
  },
  {
   "cell_type": "markdown",
   "metadata": {},
   "source": [
    "The sum of all squares for all values in the dataset [1, 7, 3, 4, 9] greater than 4."
   ]
  },
  {
   "cell_type": "code",
   "execution_count": null,
   "metadata": {},
   "outputs": [],
   "source": []
  },
  {
   "cell_type": "markdown",
   "metadata": {},
   "source": [
    "The minimum length of all names in the list who has at least 4 unique letters in their name: [\"Bobby\", \"Cindy\", \"Anna\", \"Joshua\", \"Alan\", \"Hannah\", \"Jeffrey\"]"
   ]
  },
  {
   "cell_type": "code",
   "execution_count": null,
   "metadata": {},
   "outputs": [],
   "source": []
  },
  {
   "cell_type": "markdown",
   "metadata": {},
   "source": [
    "The total length of all the names in the list that starts with an \"R\": [\"Joey\", \"Monica\", \"Chandler\", \"Rachel\", \"Ross\", \"Phoebe\"]"
   ]
  },
  {
   "cell_type": "code",
   "execution_count": null,
   "metadata": {},
   "outputs": [],
   "source": []
  }
 ],
 "metadata": {
  "kernelspec": {
   "display_name": "Python 3",
   "language": "python",
   "name": "python3"
  },
  "language_info": {
   "codemirror_mode": {
    "name": "ipython",
    "version": 3
   },
   "file_extension": ".py",
   "mimetype": "text/x-python",
   "name": "python",
   "nbconvert_exporter": "python",
   "pygments_lexer": "ipython3",
   "version": "3.8.3"
  }
 },
 "nbformat": 4,
 "nbformat_minor": 4
}
