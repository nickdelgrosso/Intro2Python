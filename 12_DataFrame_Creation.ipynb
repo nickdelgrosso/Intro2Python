{
 "cells": [
  {
   "cell_type": "code",
   "execution_count": 7,
   "id": "hundred-picnic",
   "metadata": {},
   "outputs": [],
   "source": [
    "#  !pip install pandas  # Run this to install pandas if imports below don't work."
   ]
  },
  {
   "cell_type": "code",
   "execution_count": 3,
   "id": "coupled-court",
   "metadata": {},
   "outputs": [],
   "source": [
    "import numpy as np\n",
    "import matplotlib.pyplot as plt\n",
    "import pandas as pd\n",
    "%matplotlib inline"
   ]
  },
  {
   "cell_type": "code",
   "execution_count": 4,
   "id": "recognized-plaintiff",
   "metadata": {},
   "outputs": [],
   "source": [
    "___ = ''"
   ]
  },
  {
   "cell_type": "code",
   "execution_count": 5,
   "id": "tribal-stanford",
   "metadata": {},
   "outputs": [
    {
     "data": {
      "text/plain": [
       "'1.2.4'"
      ]
     },
     "execution_count": 5,
     "metadata": {},
     "output_type": "execute_result"
    }
   ],
   "source": [
    "pd.__version__"
   ]
  },
  {
   "cell_type": "markdown",
   "id": "reliable-ancient",
   "metadata": {},
   "source": [
    "# Pandas DataFrames"
   ]
  },
  {
   "cell_type": "markdown",
   "id": "about-express",
   "metadata": {},
   "source": [
    "## What is a DataFrame?\n",
    "\n",
    "A DataFrame, simply put, is a **Table** of data.  It is a structure that contains multiple rows, each row containing the same labelled collection of data types.  For example, a DataFrame might look like this:\n",
    "\n",
    "| (index) | Name | Age | Height | LikesIceCream |\n",
    "| :---: | :--: | :--: | :--: | :--: |\n",
    "| 0     | \"Nick\" | 22 | 3.4 | True |\n",
    "| 1     | \"Jenn\" | 55 | 1.2 | True |\n",
    "| 2     | \"Joe\"  | 25 | 2.2 | True |\n",
    "\n",
    "Because each row contains the same data, DataFrames can also be thought of as a collection of same-length columns!\n",
    "\n",
    "**Pandas** is a Python package that has a DataFrame class.  Using either the **DataFrame** class constructor or one of Pandas' many **read_()** functions, you can make your own DataFrame from a variety of sources.  "
   ]
  },
  {
   "cell_type": "markdown",
   "id": "parallel-folder",
   "metadata": {},
   "source": [
    "## Making DataFrames Directly\n",
    "\n",
    "#### From a List of Dicts\n",
    "\n",
    "Dicts are named collections.  If you have many of the same dicts in a list, the DataFrame constructor can convert it to a Dataframe:"
   ]
  },
  {
   "cell_type": "code",
   "execution_count": 7,
   "id": "developed-feature",
   "metadata": {},
   "outputs": [
    {
     "data": {
      "text/html": [
       "<div>\n",
       "<style scoped>\n",
       "    .dataframe tbody tr th:only-of-type {\n",
       "        vertical-align: middle;\n",
       "    }\n",
       "\n",
       "    .dataframe tbody tr th {\n",
       "        vertical-align: top;\n",
       "    }\n",
       "\n",
       "    .dataframe thead th {\n",
       "        text-align: right;\n",
       "    }\n",
       "</style>\n",
       "<table border=\"1\" class=\"dataframe\">\n",
       "  <thead>\n",
       "    <tr style=\"text-align: right;\">\n",
       "      <th></th>\n",
       "      <th>Age</th>\n",
       "      <th>Height</th>\n",
       "      <th>Name</th>\n",
       "    </tr>\n",
       "  </thead>\n",
       "  <tbody>\n",
       "    <tr>\n",
       "      <th>0</th>\n",
       "      <td>31</td>\n",
       "      <td>2.9</td>\n",
       "      <td>Nick</td>\n",
       "    </tr>\n",
       "    <tr>\n",
       "      <th>1</th>\n",
       "      <td>55</td>\n",
       "      <td>1.2</td>\n",
       "      <td>Jenn</td>\n",
       "    </tr>\n",
       "    <tr>\n",
       "      <th>2</th>\n",
       "      <td>25</td>\n",
       "      <td>1.2</td>\n",
       "      <td>Joe</td>\n",
       "    </tr>\n",
       "  </tbody>\n",
       "</table>\n",
       "</div>"
      ],
      "text/plain": [
       "   Age  Height  Name\n",
       "0   31     2.9  Nick\n",
       "1   55     1.2  Jenn\n",
       "2   25     1.2   Joe"
      ]
     },
     "execution_count": 7,
     "metadata": {},
     "output_type": "execute_result"
    }
   ],
   "source": [
    "friends = [\n",
    "    {'Name': \"Nick\", \"Age\": 31, \"Height\": 2.9},\n",
    "    {'Name': \"Jenn\", \"Age\": 55, \"Height\": 1.2},\n",
    "    {\"Name\": \"Joe\",  \"Age\": 25, \"Height\": 1.2},\n",
    "]\n",
    "pd.DataFrame(friends)"
   ]
  },
  {
   "cell_type": "markdown",
   "id": "simplified-gathering",
   "metadata": {},
   "source": [
    "#### From a Dict of Lists"
   ]
  },
  {
   "cell_type": "code",
   "execution_count": 8,
   "id": "coupled-estimate",
   "metadata": {},
   "outputs": [
    {
     "data": {
      "text/html": [
       "<div>\n",
       "<style scoped>\n",
       "    .dataframe tbody tr th:only-of-type {\n",
       "        vertical-align: middle;\n",
       "    }\n",
       "\n",
       "    .dataframe tbody tr th {\n",
       "        vertical-align: top;\n",
       "    }\n",
       "\n",
       "    .dataframe thead th {\n",
       "        text-align: right;\n",
       "    }\n",
       "</style>\n",
       "<table border=\"1\" class=\"dataframe\">\n",
       "  <thead>\n",
       "    <tr style=\"text-align: right;\">\n",
       "      <th></th>\n",
       "      <th>Name</th>\n",
       "      <th>Age</th>\n",
       "      <th>Height</th>\n",
       "    </tr>\n",
       "  </thead>\n",
       "  <tbody>\n",
       "    <tr>\n",
       "      <th>0</th>\n",
       "      <td>Nick</td>\n",
       "      <td>31</td>\n",
       "      <td>2.9</td>\n",
       "    </tr>\n",
       "    <tr>\n",
       "      <th>1</th>\n",
       "      <td>Jenn</td>\n",
       "      <td>55</td>\n",
       "      <td>1.2</td>\n",
       "    </tr>\n",
       "    <tr>\n",
       "      <th>2</th>\n",
       "      <td>Joe</td>\n",
       "      <td>25</td>\n",
       "      <td>1.2</td>\n",
       "    </tr>\n",
       "  </tbody>\n",
       "</table>\n",
       "</div>"
      ],
      "text/plain": [
       "   Name  Age  Height\n",
       "0  Nick   31     2.9\n",
       "1  Jenn   55     1.2\n",
       "2   Joe   25     1.2"
      ]
     },
     "execution_count": 8,
     "metadata": {},
     "output_type": "execute_result"
    }
   ],
   "source": [
    "df = pd.DataFrame({\n",
    "    'Name': ['Nick', 'Jenn', 'Joe'], \n",
    "    'Age': [31, 55, 25], \n",
    "    'Height': [2.9, 1.2, 1.2],\n",
    "})\n",
    "df"
   ]
  },
  {
   "cell_type": "markdown",
   "id": "black-pickup",
   "metadata": {},
   "source": [
    "#### From a List of Lists\n",
    "\n",
    "if you have a collection of same-length sequences, you essentially have a rectangular data structure already!  All that's needed is to add some column labels."
   ]
  },
  {
   "cell_type": "code",
   "execution_count": 9,
   "id": "proprietary-fishing",
   "metadata": {},
   "outputs": [
    {
     "data": {
      "text/html": [
       "<div>\n",
       "<style scoped>\n",
       "    .dataframe tbody tr th:only-of-type {\n",
       "        vertical-align: middle;\n",
       "    }\n",
       "\n",
       "    .dataframe tbody tr th {\n",
       "        vertical-align: top;\n",
       "    }\n",
       "\n",
       "    .dataframe thead th {\n",
       "        text-align: right;\n",
       "    }\n",
       "</style>\n",
       "<table border=\"1\" class=\"dataframe\">\n",
       "  <thead>\n",
       "    <tr style=\"text-align: right;\">\n",
       "      <th></th>\n",
       "      <th>Name</th>\n",
       "      <th>Age</th>\n",
       "      <th>Height</th>\n",
       "    </tr>\n",
       "  </thead>\n",
       "  <tbody>\n",
       "    <tr>\n",
       "      <th>0</th>\n",
       "      <td>Nick</td>\n",
       "      <td>31</td>\n",
       "      <td>2.9</td>\n",
       "    </tr>\n",
       "    <tr>\n",
       "      <th>1</th>\n",
       "      <td>Jenn</td>\n",
       "      <td>55</td>\n",
       "      <td>1.2</td>\n",
       "    </tr>\n",
       "    <tr>\n",
       "      <th>2</th>\n",
       "      <td>Joe</td>\n",
       "      <td>25</td>\n",
       "      <td>1.2</td>\n",
       "    </tr>\n",
       "  </tbody>\n",
       "</table>\n",
       "</div>"
      ],
      "text/plain": [
       "   Name  Age  Height\n",
       "0  Nick   31     2.9\n",
       "1  Jenn   55     1.2\n",
       "2   Joe   25     1.2"
      ]
     },
     "execution_count": 9,
     "metadata": {},
     "output_type": "execute_result"
    }
   ],
   "source": [
    "friends = [\n",
    "    ['Nick', 31, 2.9],\n",
    "    ['Jenn', 55, 1.2],\n",
    "    ['Joe',  25, 1.2],\n",
    "]\n",
    "pd.DataFrame(friends, columns=[\"Name\", \"Age\", \"Height\"])"
   ]
  },
  {
   "cell_type": "markdown",
   "id": "touched-momentum",
   "metadata": {},
   "source": [
    "#### From an empty DataFrame\n",
    "If you prefer, you can also add columns one at a time, starting with an empty DataFrame:"
   ]
  },
  {
   "cell_type": "code",
   "execution_count": 9,
   "id": "signal-trailer",
   "metadata": {},
   "outputs": [
    {
     "data": {
      "text/html": [
       "<div>\n",
       "<style scoped>\n",
       "    .dataframe tbody tr th:only-of-type {\n",
       "        vertical-align: middle;\n",
       "    }\n",
       "\n",
       "    .dataframe tbody tr th {\n",
       "        vertical-align: top;\n",
       "    }\n",
       "\n",
       "    .dataframe thead th {\n",
       "        text-align: right;\n",
       "    }\n",
       "</style>\n",
       "<table border=\"1\" class=\"dataframe\">\n",
       "  <thead>\n",
       "    <tr style=\"text-align: right;\">\n",
       "      <th></th>\n",
       "      <th>Name</th>\n",
       "      <th>Age</th>\n",
       "      <th>Height</th>\n",
       "    </tr>\n",
       "  </thead>\n",
       "  <tbody>\n",
       "    <tr>\n",
       "      <th>0</th>\n",
       "      <td>Nick</td>\n",
       "      <td>31</td>\n",
       "      <td>2.9</td>\n",
       "    </tr>\n",
       "    <tr>\n",
       "      <th>1</th>\n",
       "      <td>Jenn</td>\n",
       "      <td>55</td>\n",
       "      <td>1.2</td>\n",
       "    </tr>\n",
       "    <tr>\n",
       "      <th>2</th>\n",
       "      <td>Joe</td>\n",
       "      <td>25</td>\n",
       "      <td>1.2</td>\n",
       "    </tr>\n",
       "  </tbody>\n",
       "</table>\n",
       "</div>"
      ],
      "text/plain": [
       "   Name  Age  Height\n",
       "0  Nick   31     2.9\n",
       "1  Jenn   55     1.2\n",
       "2   Joe   25     1.2"
      ]
     },
     "execution_count": 9,
     "metadata": {},
     "output_type": "execute_result"
    }
   ],
   "source": [
    "df = pd.DataFrame()\n",
    "df['Name'] = ['Nick', 'Jenn', 'Joe']\n",
    "df['Age'] = [31, 55, 25]\n",
    "df['Height'] = [2.9, 1.2, 1.2]\n",
    "df"
   ]
  },
  {
   "cell_type": "markdown",
   "id": "residential-suicide",
   "metadata": {},
   "source": [
    "### Exercise: Making DataFrames from Scratch\n",
    "\n",
    "Please recreate the table below as a Dataframe using one of the approaches detailed above:\n",
    "\n",
    "| Year | Product | Cost |\n",
    "| :--: | :----:  | :--: |\n",
    "| 2015 | Apples  | 0.35 |\n",
    "| 2016 | Apples  | 0.45 |\n",
    "| 2015 | Bananas | 0.75 |\n",
    "| 2016 | Bananas | 1.10 |"
   ]
  }
 ],
 "metadata": {
  "kernelspec": {
   "display_name": "Python 3",
   "language": "python",
   "name": "python3"
  },
  "language_info": {
   "codemirror_mode": {
    "name": "ipython",
    "version": 3
   },
   "file_extension": ".py",
   "mimetype": "text/x-python",
   "name": "python",
   "nbconvert_exporter": "python",
   "pygments_lexer": "ipython3",
   "version": "3.8.3"
  }
 },
 "nbformat": 4,
 "nbformat_minor": 5
}
