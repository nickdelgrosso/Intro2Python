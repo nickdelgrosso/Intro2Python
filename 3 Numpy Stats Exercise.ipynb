{
 "cells": [
  {
   "cell_type": "code",
   "execution_count": 4,
   "id": "downtown-blowing",
   "metadata": {},
   "outputs": [],
   "source": [
    "import numpy as np"
   ]
  },
  {
   "cell_type": "markdown",
   "id": "decreased-generator",
   "metadata": {},
   "source": [
    "# Exercise: Data Collection and Analysis\n",
    "\n",
    "Let's create some data! Make a variable called **reaction_times** containing a list of 15 reactrion time samples from this experiment:  https://humanbenchmark.com/tests/reactiontime\n"
   ]
  },
  {
   "cell_type": "code",
   "execution_count": 2,
   "id": "raising-hardware",
   "metadata": {},
   "outputs": [],
   "source": [
    "reaction_times = []    # Your Data Goes here"
   ]
  },
  {
   "cell_type": "markdown",
   "id": "authorized-explosion",
   "metadata": {},
   "source": [
    "#### Analysis Questions"
   ]
  },
  {
   "cell_type": "markdown",
   "id": "olive-kernel",
   "metadata": {},
   "source": [
    "Were your reaction times quick on average?  Let's check the mean of your reaction times."
   ]
  },
  {
   "cell_type": "code",
   "execution_count": null,
   "id": "blank-alert",
   "metadata": {},
   "outputs": [],
   "source": []
  },
  {
   "cell_type": "markdown",
   "id": "silver-migration",
   "metadata": {},
   "source": [
    "Did your reaction times vary a lot?  Let's check the standard deviation of your reaction time data."
   ]
  },
  {
   "cell_type": "code",
   "execution_count": null,
   "id": "vocal-baptist",
   "metadata": {},
   "outputs": [],
   "source": []
  },
  {
   "cell_type": "markdown",
   "id": "corresponding-native",
   "metadata": {},
   "source": [
    "Did your reaction times improve or worsen over the course of the experiment?  Let's check the correlation of your reaction time data"
   ]
  },
  {
   "cell_type": "code",
   "execution_count": null,
   "id": "heated-reach",
   "metadata": {},
   "outputs": [],
   "source": []
  },
  {
   "cell_type": "markdown",
   "id": "going-township",
   "metadata": {},
   "source": [
    "## Data Export/Import\n",
    "\n",
    "Let's compare our reaction times to someone else!  Export your list of reaction times to a text file, to give to your partner."
   ]
  },
  {
   "cell_type": "code",
   "execution_count": 6,
   "id": "permanent-crawford",
   "metadata": {},
   "outputs": [],
   "source": [
    "data = []  # replace this with your data\n",
    "np.savetxt(\"reaction_times_nick.txt\", data)"
   ]
  },
  {
   "cell_type": "markdown",
   "id": "fifty-offense",
   "metadata": {},
   "source": [
    "Trade files with your partner and load their data"
   ]
  },
  {
   "cell_type": "code",
   "execution_count": 8,
   "id": "thick-sewing",
   "metadata": {},
   "outputs": [],
   "source": [
    "reaction_times2 = np.loadtxt(\"reaction_times_nick.txt\")"
   ]
  },
  {
   "cell_type": "markdown",
   "id": "reverse-fraud",
   "metadata": {},
   "source": [
    "### Can you reproduce their results?  "
   ]
  },
  {
   "cell_type": "markdown",
   "id": "continuing-context",
   "metadata": {},
   "source": [
    "Were their reaction times quick on average?  Let's check the mean of their reaction times."
   ]
  },
  {
   "cell_type": "code",
   "execution_count": null,
   "id": "magnetic-illinois",
   "metadata": {},
   "outputs": [],
   "source": []
  },
  {
   "cell_type": "markdown",
   "id": "french-garage",
   "metadata": {},
   "source": [
    "Did their reaction times vary a lot?  Let's check the standard deviation of their reaction time data."
   ]
  },
  {
   "cell_type": "code",
   "execution_count": null,
   "id": "sudden-passage",
   "metadata": {},
   "outputs": [],
   "source": []
  },
  {
   "cell_type": "markdown",
   "id": "better-shanghai",
   "metadata": {},
   "source": [
    "Did their reaction times improve or worsen over the course of the experiment?  Let's check the correlation of their reaction time data"
   ]
  },
  {
   "cell_type": "code",
   "execution_count": null,
   "id": "historical-terrorism",
   "metadata": {},
   "outputs": [],
   "source": []
  },
  {
   "cell_type": "markdown",
   "id": "hairy-passion",
   "metadata": {},
   "source": [
    "Did your reaction times differ significantly between you and your partner?  Let's check using a t-test and see if the t-statistic is high and the p-value is low.\n",
    "\n",
    "Example Code:  \n",
    "\n",
    "```python\n",
    "from scipy import stats\n",
    "stats.ttest_ind([1, 2, 3], [2, 3, 4])  \n",
    "```"
   ]
  },
  {
   "cell_type": "code",
   "execution_count": null,
   "id": "certified-niger",
   "metadata": {},
   "outputs": [],
   "source": []
  },
  {
   "cell_type": "markdown",
   "id": "legitimate-junction",
   "metadata": {},
   "source": [
    "What other statistics functions are in the scipy.stats module?  Explore the module (documaentation here: https://docs.scipy.org/doc/scipy/reference/stats.html) and  calculate 3 other statistics on the data you have:"
   ]
  },
  {
   "cell_type": "markdown",
   "id": "major-latitude",
   "metadata": {},
   "source": [
    "Stats 1:"
   ]
  },
  {
   "cell_type": "code",
   "execution_count": null,
   "id": "opponent-seminar",
   "metadata": {},
   "outputs": [],
   "source": []
  },
  {
   "cell_type": "markdown",
   "id": "streaming-reserve",
   "metadata": {},
   "source": [
    "Stats 2:"
   ]
  },
  {
   "cell_type": "code",
   "execution_count": null,
   "id": "republican-leadership",
   "metadata": {},
   "outputs": [],
   "source": []
  },
  {
   "cell_type": "markdown",
   "id": "meaningful-disaster",
   "metadata": {},
   "source": [
    "Stats 3:"
   ]
  },
  {
   "cell_type": "code",
   "execution_count": null,
   "id": "resident-nickname",
   "metadata": {},
   "outputs": [],
   "source": []
  }
 ],
 "metadata": {
  "kernelspec": {
   "display_name": "Python 3",
   "language": "python",
   "name": "python3"
  },
  "language_info": {
   "codemirror_mode": {
    "name": "ipython",
    "version": 3
   },
   "file_extension": ".py",
   "mimetype": "text/x-python",
   "name": "python",
   "nbconvert_exporter": "python",
   "pygments_lexer": "ipython3",
   "version": "3.8.3"
  }
 },
 "nbformat": 4,
 "nbformat_minor": 5
}
