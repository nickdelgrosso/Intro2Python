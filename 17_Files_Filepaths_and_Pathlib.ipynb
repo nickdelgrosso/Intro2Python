{
 "cells": [
  {
   "cell_type": "code",
   "execution_count": 1,
   "metadata": {},
   "outputs": [],
   "source": [
    "from pathlib import Path"
   ]
  },
  {
   "cell_type": "markdown",
   "metadata": {},
   "source": [
    "# Working with File Paths\n",
    "\n",
    "There's a lot of information in a file path; it's more than just a string!  For example, in the following path we might want to learn the following:\n",
    "\n",
    "```\n",
    "C:\\\\Users\\Nick\\Documents\\Photos\\greece.jpg\n",
    "```\n",
    "\n",
    "  - Whether the path is an **absolute** path on the filesystem or is **relative** to the current working directory,\n",
    "  \n",
    "   - What drive the data is on,\n",
    "   \n",
    "   - What directory or directories the file is inside,\n",
    "   \n",
    "   - Whether a file or folder is listed,\n",
    "   \n",
    "   - What the file's name is ,\n",
    "   \n",
    "   - What the file's extension is,\n",
    "   \n",
    "   - Whether the file exists on our computer or not.\n",
    "   \n",
    "... and so on.  If we want to extract this data, we could do some fancy coding to figure it out from the string itself, but there's no need--the built-in `pathlib.Path` type has a lot of helper functions to get this information.\n"
   ]
  },
  {
   "cell_type": "markdown",
   "metadata": {},
   "source": [
    "## Dessecting File Paths into components using the PathLib package\n",
    "\n",
    "Lookup:  Drive, Directory, Name, Extension, etc\n",
    "\n",
    "  - Path.name\n",
    "  - filename.stem\n",
    "  - path.parent\n",
    "  - Path.suffix, Path.suffixes\n",
    "  - Path.parts\n",
    "\n",
    "Transform:\n",
    "\n",
    "   - Path.with_name(\"new_name.txt\")\n",
    "   - Path.with_suffix(\".tif\")\n",
    "  \n",
    "Absolute vs Relative Path:\n",
    "\n",
    "   - Path.is_absolute()\n",
    "   - Path.resolve()  # Get an absolute Path from a relative Path\n",
    "\n",
    "Check on Filesystem:\n",
    "\n",
    "   - Path.exists()\n",
    "   - Path.is_dir()\n",
    "   - Path.is_file()   \n"
   ]
  },
  {
   "cell_type": "markdown",
   "metadata": {},
   "source": [
    "#### Exercise\n",
    "\n",
    "Using the following Path, answer the questions below.\n",
    "\n",
    "*Note*: This file doesn't actually exist on your computer, it's just an example being used to show how the Path type works.\n",
    "\n",
    "*Hint*: All of the questions can be answered in a single line, using the methods listed above"
   ]
  },
  {
   "cell_type": "code",
   "execution_count": 17,
   "metadata": {},
   "outputs": [
    {
     "data": {
      "text/plain": [
       "WindowsPath('../Desktop/MyExperiment/data/nick_session1_day2.jpg')"
      ]
     },
     "execution_count": 17,
     "metadata": {},
     "output_type": "execute_result"
    }
   ],
   "source": [
    "path = Path(\"../Desktop/MyExperiment/data/nick_session1_day2.jpg\")\n",
    "path"
   ]
  },
  {
   "cell_type": "markdown",
   "metadata": {},
   "source": [
    "#### What directory is this file located in?"
   ]
  },
  {
   "cell_type": "code",
   "execution_count": null,
   "metadata": {},
   "outputs": [],
   "source": []
  },
  {
   "cell_type": "markdown",
   "metadata": {},
   "source": [
    "#### What is its filename (without the directory)?"
   ]
  },
  {
   "cell_type": "code",
   "execution_count": null,
   "metadata": {},
   "outputs": [],
   "source": []
  },
  {
   "cell_type": "markdown",
   "metadata": {},
   "source": [
    "#### What is the file's extension?"
   ]
  },
  {
   "cell_type": "code",
   "execution_count": null,
   "metadata": {},
   "outputs": [],
   "source": []
  },
  {
   "cell_type": "markdown",
   "metadata": {},
   "source": [
    "#### What is the filename (without the extension and without the directory)?"
   ]
  },
  {
   "cell_type": "code",
   "execution_count": null,
   "metadata": {},
   "outputs": [],
   "source": []
  },
  {
   "cell_type": "markdown",
   "metadata": {},
   "source": [
    "#### Does the filename exist on your computer?"
   ]
  },
  {
   "cell_type": "code",
   "execution_count": null,
   "metadata": {},
   "outputs": [],
   "source": []
  },
  {
   "cell_type": "markdown",
   "metadata": {},
   "source": [
    "#### Change the path to one with a \".txt\" extension."
   ]
  },
  {
   "cell_type": "code",
   "execution_count": null,
   "metadata": {},
   "outputs": [],
   "source": []
  },
  {
   "cell_type": "markdown",
   "metadata": {},
   "source": [
    "#### Make a new filename \"data2.jpg\" in the same directory"
   ]
  },
  {
   "cell_type": "code",
   "execution_count": null,
   "metadata": {},
   "outputs": [],
   "source": []
  },
  {
   "cell_type": "markdown",
   "metadata": {},
   "source": [
    "## Building Paths\n",
    "\n",
    "From scratch:\n",
    "\n",
    "   - Path(\"home/data/data.txt\")\n",
    "   - Path(\"\").joinpath(\"home\").joinpath(\"nick\")\n",
    "   - Path(\"\").joinpath(\"home/nick\")\n",
    "   - Path(\"home\") / \"nick\"\n",
    "\n",
    "From an existing directory:\n",
    "\n",
    "   - Path.cwd()\n",
    "   - Path.home()\n",
    "\n",
    "Files in a directory:\n",
    "\n",
    "   - list(Path.home().iterdir())\n",
    "   - Path.home().glob(\"*.txt\")\n",
    "\n",
    "\n",
    "   "
   ]
  },
  {
   "cell_type": "markdown",
   "metadata": {},
   "source": [
    "### Exercises"
   ]
  },
  {
   "cell_type": "markdown",
   "metadata": {},
   "source": [
    "#### What is the path to your home directory?"
   ]
  },
  {
   "cell_type": "code",
   "execution_count": null,
   "metadata": {},
   "outputs": [],
   "source": []
  },
  {
   "cell_type": "markdown",
   "metadata": {},
   "source": [
    "### What is the path to the current working directory?"
   ]
  },
  {
   "cell_type": "code",
   "execution_count": null,
   "metadata": {},
   "outputs": [],
   "source": []
  },
  {
   "cell_type": "markdown",
   "metadata": {},
   "source": [
    "### How many files are on your desktop?"
   ]
  },
  {
   "cell_type": "code",
   "execution_count": null,
   "metadata": {},
   "outputs": [],
   "source": []
  },
  {
   "cell_type": "markdown",
   "metadata": {},
   "source": [
    "### What are the names of the .ipynb files in the current folder?"
   ]
  },
  {
   "cell_type": "code",
   "execution_count": null,
   "metadata": {},
   "outputs": [],
   "source": []
  },
  {
   "cell_type": "markdown",
   "metadata": {},
   "source": [
    "### How many image files are in the current folder?"
   ]
  },
  {
   "cell_type": "markdown",
   "metadata": {},
   "source": []
  },
  {
   "cell_type": "markdown",
   "metadata": {},
   "source": [
    "## Making Paths Real\n",
    "\n",
    "### New (Empty) File Creation:  \n",
    "\n",
    "  - Path(\"mypath.txt\").touch()\n",
    "  - Path(\"mypath.txt\").open(mode=\"w\")\n",
    "  \n",
    "### New Folder Creation: \n",
    "\n",
    "  - Path(\"myfolder\").mkdir()\n",
    "  - Path(\"myfolder\").mkdir(exist_ok=True)\n",
    "  - Path(\"myfolder1/myfolder2/myfolder3\").mkdir(parents=True)\n",
    "   \n",
    "### Opening, Reading, Writing to a File:\n",
    "\n",
    "#### Text Data:\n",
    "\n",
    "  - text = Path(\"myfile.txt\").read_text()\n",
    "  - text = Path(\"myfile.txt\").write_text()\n",
    "  - text = Path(\"myfile.txt\").open(mode=\"r\").read()\n",
    "  - Path(\"myfile.txt\").open(mode=\"w\").write(text)\n",
    "\n",
    "#### Binary (raw bytes) Data:\n",
    "\n",
    "  - raw = Path(\"myfile.dat\").read_bytes()\n",
    "  - raw = Path(\"myfile.data\").write_bytes()\n",
    "  - raw = Path(\"myfile.dat\").open(mode=\"rb\").read()\n",
    "  - Path(\"myfile.dat\").open(mode=\"wb\").write(raw)\n",
    "  \n",
    "  \n",
    "  \n",
    "  "
   ]
  },
  {
   "cell_type": "code",
   "execution_count": null,
   "metadata": {},
   "outputs": [],
   "source": []
  },
  {
   "cell_type": "markdown",
   "metadata": {},
   "source": [
    "### Exercises"
   ]
  },
  {
   "cell_type": "markdown",
   "metadata": {},
   "source": [
    "Make a new folder called \"NewFolder\""
   ]
  },
  {
   "cell_type": "code",
   "execution_count": null,
   "metadata": {},
   "outputs": [],
   "source": []
  },
  {
   "cell_type": "markdown",
   "metadata": {},
   "source": [
    "Make a \"Hello Beautiful World\" text file: **hello.txt**."
   ]
  },
  {
   "cell_type": "code",
   "execution_count": null,
   "metadata": {},
   "outputs": [],
   "source": []
  },
  {
   "cell_type": "markdown",
   "metadata": {},
   "source": [
    "Make a \"Goodby Cruel World\" text file: **bye.txt**, using a different method."
   ]
  },
  {
   "cell_type": "code",
   "execution_count": null,
   "metadata": {},
   "outputs": [],
   "source": []
  },
  {
   "cell_type": "markdown",
   "metadata": {},
   "source": [
    "Read from your hello file to a string variable and display the contents"
   ]
  },
  {
   "cell_type": "code",
   "execution_count": null,
   "metadata": {},
   "outputs": [],
   "source": []
  },
  {
   "cell_type": "markdown",
   "metadata": {},
   "source": [
    "Using a different method, read from your bye file to a string variable and display the contents."
   ]
  },
  {
   "cell_type": "code",
   "execution_count": null,
   "metadata": {},
   "outputs": [],
   "source": []
  }
 ],
 "metadata": {
  "kernelspec": {
   "display_name": "Python 3",
   "language": "python",
   "name": "python3"
  },
  "language_info": {
   "codemirror_mode": {
    "name": "ipython",
    "version": 3
   },
   "file_extension": ".py",
   "mimetype": "text/x-python",
   "name": "python",
   "nbconvert_exporter": "python",
   "pygments_lexer": "ipython3",
   "version": "3.8.3"
  },
  "metadata": {
   "interpreter": {
    "hash": "96aaef06ee4620efb4426efa9d33cf4f7340991f4df94558c663a28125b37508"
   }
  }
 },
 "nbformat": 4,
 "nbformat_minor": 4
}
