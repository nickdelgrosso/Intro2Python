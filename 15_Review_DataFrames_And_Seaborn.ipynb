{
 "cells": [
  {
   "cell_type": "markdown",
   "id": "partial-design",
   "metadata": {},
   "source": [
    "# Data Analysis Project: \"Stroke Risk Factors\""
   ]
  },
  {
   "cell_type": "markdown",
   "id": "cheap-pierre",
   "metadata": {},
   "source": [
    "## Download Data onto Your Computer\n",
    "\n",
    "\n",
    "https://www.kaggle.com/fedesoriano/stroke-prediction-dataset?select=healthcare-dataset-stroke-data.csv\n",
    "\n",
    "Look for the download button next to the data description (not the big one at the top of the screen), as shown below:"
   ]
  },
  {
   "cell_type": "markdown",
   "id": "distributed-equipment",
   "metadata": {},
   "source": [
    "![](data:image/png;base64,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)"
   ]
  },
  {
   "cell_type": "markdown",
   "id": "pleased-chester",
   "metadata": {},
   "source": [
    "Put the csv file into the same directory as your notebook."
   ]
  },
  {
   "cell_type": "markdown",
   "id": "secondary-cancer",
   "metadata": {},
   "source": [
    "## Load Data into Pandas\n",
    "\n",
    "This isn't an Excel file, so `pd.read_excel()` won't be able to read it.  What `pd.read_` function will work?"
   ]
  },
  {
   "cell_type": "code",
   "execution_count": null,
   "id": "distinguished-forty",
   "metadata": {},
   "outputs": [],
   "source": []
  },
  {
   "cell_type": "markdown",
   "id": "popular-bikini",
   "metadata": {},
   "source": [
    "## Describe the columns you are interested in\n",
    "What `unique` values are there, what are their `value_counts`, what are their `min`, `max`, `means`?  Do they have any missing data?  Maybe make a plot or two to help!"
   ]
  },
  {
   "cell_type": "markdown",
   "id": "wrong-freight",
   "metadata": {},
   "source": [
    "### Column 1: \"________\""
   ]
  },
  {
   "cell_type": "code",
   "execution_count": null,
   "id": "nuclear-means",
   "metadata": {},
   "outputs": [],
   "source": []
  },
  {
   "cell_type": "code",
   "execution_count": null,
   "id": "exempt-mixture",
   "metadata": {},
   "outputs": [],
   "source": []
  },
  {
   "cell_type": "code",
   "execution_count": null,
   "id": "norwegian-gates",
   "metadata": {},
   "outputs": [],
   "source": []
  },
  {
   "cell_type": "markdown",
   "id": "religious-harris",
   "metadata": {},
   "source": [
    "### Column 2: \"________\""
   ]
  },
  {
   "cell_type": "code",
   "execution_count": null,
   "id": "dominican-kernel",
   "metadata": {},
   "outputs": [],
   "source": []
  },
  {
   "cell_type": "code",
   "execution_count": null,
   "id": "touched-parent",
   "metadata": {},
   "outputs": [],
   "source": []
  },
  {
   "cell_type": "code",
   "execution_count": null,
   "id": "meaningful-bosnia",
   "metadata": {},
   "outputs": [],
   "source": []
  },
  {
   "cell_type": "markdown",
   "id": "monetary-software",
   "metadata": {},
   "source": [
    "### Column 3: \"________\""
   ]
  },
  {
   "cell_type": "code",
   "execution_count": null,
   "id": "excited-offense",
   "metadata": {},
   "outputs": [],
   "source": []
  },
  {
   "cell_type": "code",
   "execution_count": null,
   "id": "standing-structure",
   "metadata": {},
   "outputs": [],
   "source": []
  },
  {
   "cell_type": "code",
   "execution_count": null,
   "id": "adverse-angle",
   "metadata": {},
   "outputs": [],
   "source": []
  },
  {
   "cell_type": "markdown",
   "id": "neutral-orbit",
   "metadata": {},
   "source": [
    "## Look for Relationships between the Columns: Plots\n",
    "Make some plots showing the relationships between the columns of interest. What conclusions can we make from this data?\n",
    "\n",
    "Useful functions: `sns.catplot()`, `sns.jointplot()`\n",
    "\n",
    "More ideas at the Seaborn Gallery: https://seaborn.pydata.org/examples/index.html"
   ]
  },
  {
   "cell_type": "markdown",
   "id": "artificial-friendly",
   "metadata": {},
   "source": [
    "### Conclusion 1"
   ]
  },
  {
   "cell_type": "code",
   "execution_count": null,
   "id": "incident-oasis",
   "metadata": {},
   "outputs": [],
   "source": []
  },
  {
   "cell_type": "markdown",
   "id": "everyday-trigger",
   "metadata": {},
   "source": [
    "### Conclusion 2"
   ]
  },
  {
   "cell_type": "code",
   "execution_count": null,
   "id": "hidden-census",
   "metadata": {},
   "outputs": [],
   "source": []
  },
  {
   "cell_type": "code",
   "execution_count": null,
   "id": "existing-liberty",
   "metadata": {},
   "outputs": [],
   "source": []
  },
  {
   "cell_type": "markdown",
   "id": "stopped-dress",
   "metadata": {},
   "source": [
    "## Save the Data as an Excel File\n",
    "Want to see the data in Excel?  Try:\n",
    "\n",
    "```python\n",
    "df.to_excel(\"my_filename.xls\", index=False)\n",
    "```"
   ]
  },
  {
   "cell_type": "code",
   "execution_count": null,
   "id": "authorized-welsh",
   "metadata": {},
   "outputs": [],
   "source": []
  }
 ],
 "metadata": {
  "kernelspec": {
   "display_name": "Python 3",
   "language": "python",
   "name": "python3"
  },
  "language_info": {
   "codemirror_mode": {
    "name": "ipython",
    "version": 3
   },
   "file_extension": ".py",
   "mimetype": "text/x-python",
   "name": "python",
   "nbconvert_exporter": "python",
   "pygments_lexer": "ipython3",
   "version": "3.8.3"
  }
 },
 "nbformat": 4,
 "nbformat_minor": 5
}
