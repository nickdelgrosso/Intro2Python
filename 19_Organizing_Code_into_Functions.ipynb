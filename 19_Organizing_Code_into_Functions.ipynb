{
 "cells": [
  {
   "cell_type": "code",
   "execution_count": 10,
   "id": "sexual-modeling",
   "metadata": {},
   "outputs": [
    {
     "name": "stdout",
     "output_type": "stream",
     "text": [
      "The autoreload extension is already loaded. To reload it, use:\n",
      "  %reload_ext autoreload\n"
     ]
    }
   ],
   "source": [
    "# This \"re-imports\" a package automatically, and will make it more straightforward\n",
    "# to practice writing importable modules without needing to reload the kernel\n",
    "%load_ext autoreload\n",
    "%autoreload 2"
   ]
  },
  {
   "cell_type": "markdown",
   "id": "incorrect-saying",
   "metadata": {},
   "source": [
    "# Organizing Code into Functions"
   ]
  },
  {
   "cell_type": "markdown",
   "id": "based-increase",
   "metadata": {},
   "source": [
    "### Making One-Line Functions with `lambda`\n",
    "\n",
    "#### Creating the Function\n",
    "\n",
    "```python\n",
    "add1 = lambda x: x + 1  # add1 is the name of the function, x is the input, x + 1 is the output\n",
    "```\n",
    "\n",
    "```python\n",
    "diff = lambda x, y: x - y  # diff is the name of the function, x and y are the inputs, x - y is the output\n",
    "```\n",
    "\n",
    "### Testing the Function\n",
    "\n",
    "The `assert` keyword is used to check that code behaves the way you expect.  If the code evaluates to **False**, then it returns an error.\n",
    "\n",
    "```python\n",
    "assert add1(5) == 6\n",
    "```\n",
    "\n",
    "```python\n",
    "assert add1(5) == 7, \"Whoops!\"  # Create a custom AssertionError message if an error occurs\n",
    "```"
   ]
  },
  {
   "cell_type": "markdown",
   "id": "destroyed-electric",
   "metadata": {},
   "source": [
    "### Exercises"
   ]
  },
  {
   "cell_type": "markdown",
   "id": "married-crossing",
   "metadata": {},
   "source": [
    "Create and Test a function `add3()` that adds 3 to any value `x`"
   ]
  },
  {
   "cell_type": "code",
   "execution_count": null,
   "id": "daily-williams",
   "metadata": {},
   "outputs": [],
   "source": []
  },
  {
   "cell_type": "markdown",
   "id": "appreciated-presence",
   "metadata": {},
   "source": [
    "Create and Test a function `square()` that calculates the square of any value `x`"
   ]
  },
  {
   "cell_type": "code",
   "execution_count": null,
   "id": "pretty-harbor",
   "metadata": {},
   "outputs": [],
   "source": []
  },
  {
   "cell_type": "markdown",
   "id": "indirect-retailer",
   "metadata": {},
   "source": [
    "Create and Test a function `mean()` that calculates the square of any list `data`"
   ]
  },
  {
   "cell_type": "code",
   "execution_count": null,
   "id": "simplified-fetish",
   "metadata": {},
   "outputs": [],
   "source": []
  },
  {
   "cell_type": "markdown",
   "id": "spatial-there",
   "metadata": {},
   "source": [
    "Create and Test a function `mul()` that multiplies value `x` by value `y`"
   ]
  },
  {
   "cell_type": "code",
   "execution_count": null,
   "id": "answering-dallas",
   "metadata": {},
   "outputs": [],
   "source": []
  },
  {
   "cell_type": "markdown",
   "id": "professional-panel",
   "metadata": {},
   "source": [
    "## Making an Importable Python Module of Functions\n",
    "\n",
    "Any text file ending with the .py extension (e.g. **math.py**) can have its variables imported if the directory is in the project's **PATH**, a special list of directories that Python searches in whenever it tries to import something! "
   ]
  },
  {
   "cell_type": "markdown",
   "id": "inside-values",
   "metadata": {},
   "source": [
    "Your path can be found and modified in `sys.path`"
   ]
  },
  {
   "cell_type": "code",
   "execution_count": 7,
   "id": "overhead-london",
   "metadata": {},
   "outputs": [
    {
     "data": {
      "text/plain": [
       "['C:\\\\Users\\\\Nick\\\\Desktop\\\\Intro2Python',\n",
       " 'D:\\\\miniconda\\\\python38.zip',\n",
       " 'D:\\\\miniconda\\\\DLLs',\n",
       " 'D:\\\\miniconda\\\\lib',\n",
       " 'D:\\\\miniconda',\n",
       " '',\n",
       " 'D:\\\\miniconda\\\\lib\\\\site-packages',\n",
       " 'D:\\\\miniconda\\\\lib\\\\site-packages\\\\win32',\n",
       " 'D:\\\\miniconda\\\\lib\\\\site-packages\\\\win32\\\\lib',\n",
       " 'D:\\\\miniconda\\\\lib\\\\site-packages\\\\Pythonwin',\n",
       " 'D:\\\\miniconda\\\\lib\\\\site-packages\\\\IPython\\\\extensions',\n",
       " 'C:\\\\Users\\\\Nick\\\\.ipython']"
      ]
     },
     "execution_count": 7,
     "metadata": {},
     "output_type": "execute_result"
    }
   ],
   "source": [
    "import sys\n",
    "sys.path"
   ]
  },
  {
   "cell_type": "markdown",
   "id": "reflected-technique",
   "metadata": {},
   "source": [
    "Note that the working directory is always in the path.  That means that if you put a Python module (a \\*.py file) in the same directory as your notebook, you can import it without change. \n",
    "\n",
    "Let's try it out!"
   ]
  },
  {
   "cell_type": "markdown",
   "id": "pointed-alert",
   "metadata": {},
   "source": [
    "#### Exercise\n",
    "\n",
    "Copy-paste the functions you made earlier into a new text file: `my_math.py`.\n",
    "\n",
    "Then import them into Python below!  Does it work?"
   ]
  },
  {
   "cell_type": "code",
   "execution_count": null,
   "id": "sealed-stylus",
   "metadata": {},
   "outputs": [],
   "source": [
    "import my_math\n",
    "my_math.square(5)"
   ]
  },
  {
   "cell_type": "markdown",
   "id": "municipal-harbor",
   "metadata": {},
   "source": [
    "## Making Multi-Line Functions with `def`\n",
    "\n",
    "Having a function that just does one thing, though, is a little limiting.  Python has an alternate syntax for wrapping blocks of code in a function that's much more flexible:\n",
    "\n",
    "```python\n",
    "def add1(x):\n",
    "    \"\"\"This is the help text that appears\"\"\"\n",
    "    result = x + 1\n",
    "    return result \n",
    "```\n",
    "\n",
    "```python\n",
    "def diff(x, y):\n",
    "    \"\"\"This is the help text that appears\"\"\"\n",
    "    result = x - y\n",
    "    return result\n",
    "```\n",
    "\n"
   ]
  },
  {
   "cell_type": "markdown",
   "id": "suited-barcelona",
   "metadata": {},
   "source": [
    "### Exercises\n",
    "Let's make the same functions as before, this time using the `def` syntax"
   ]
  },
  {
   "cell_type": "markdown",
   "id": "typical-receiver",
   "metadata": {},
   "source": [
    "Create and Test a function `add3()` that adds 3 to any value `x`"
   ]
  },
  {
   "cell_type": "code",
   "execution_count": null,
   "id": "outer-graph",
   "metadata": {},
   "outputs": [],
   "source": []
  },
  {
   "cell_type": "markdown",
   "id": "ideal-bonus",
   "metadata": {},
   "source": [
    "Create and Test a function `square()` that calculates the square of any value `x`"
   ]
  },
  {
   "cell_type": "code",
   "execution_count": null,
   "id": "biblical-jacob",
   "metadata": {},
   "outputs": [],
   "source": []
  },
  {
   "cell_type": "markdown",
   "id": "moral-brick",
   "metadata": {},
   "source": [
    "Create and Test a function `mean()` that calculates the square of any list `data`"
   ]
  },
  {
   "cell_type": "code",
   "execution_count": null,
   "id": "massive-stability",
   "metadata": {},
   "outputs": [],
   "source": []
  },
  {
   "cell_type": "markdown",
   "id": "alternative-colonial",
   "metadata": {},
   "source": [
    "Create and Test a function `mul()` that multiplies value `x` by value `y`"
   ]
  },
  {
   "cell_type": "code",
   "execution_count": null,
   "id": "encouraging-telling",
   "metadata": {},
   "outputs": [],
   "source": []
  },
  {
   "cell_type": "markdown",
   "id": "impossible-fiction",
   "metadata": {},
   "source": [
    "Put these functions into your `my_math.py` module, adding a line of help text. "
   ]
  },
  {
   "cell_type": "code",
   "execution_count": null,
   "id": "nasty-technical",
   "metadata": {},
   "outputs": [],
   "source": []
  }
 ],
 "metadata": {
  "kernelspec": {
   "display_name": "Python 3",
   "language": "python",
   "name": "python3"
  },
  "language_info": {
   "codemirror_mode": {
    "name": "ipython",
    "version": 3
   },
   "file_extension": ".py",
   "mimetype": "text/x-python",
   "name": "python",
   "nbconvert_exporter": "python",
   "pygments_lexer": "ipython3",
   "version": "3.8.3"
  }
 },
 "nbformat": 4,
 "nbformat_minor": 5
}
